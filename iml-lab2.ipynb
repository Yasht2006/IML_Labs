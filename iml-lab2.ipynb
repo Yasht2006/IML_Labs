{
 "cells": [
  {
   "cell_type": "code",
   "execution_count": 1,
   "id": "cc4e5d4f",
   "metadata": {
    "_cell_guid": "b1076dfc-b9ad-4769-8c92-a6c4dae69d19",
    "_uuid": "8f2839f25d086af736a60e9eeb907d3b93b6e0e5",
    "execution": {
     "iopub.execute_input": "2023-09-01T07:50:01.877396Z",
     "iopub.status.busy": "2023-09-01T07:50:01.876937Z",
     "iopub.status.idle": "2023-09-01T07:50:02.334963Z",
     "shell.execute_reply": "2023-09-01T07:50:02.333627Z"
    },
    "papermill": {
     "duration": 0.469304,
     "end_time": "2023-09-01T07:50:02.338501",
     "exception": false,
     "start_time": "2023-09-01T07:50:01.869197",
     "status": "completed"
    },
    "tags": []
   },
   "outputs": [],
   "source": [
    "'''Practical No.2: Write a NumPy program to implement following operation\n",
    "\n",
    "Name: Tank Yash\n",
    "Eno: 216270307073\n",
    "'''\n",
    "import numpy as np # linear algebra\n",
    "import pandas as pd # data processing, CSV file I/O (e.g. pd.read_csv)\n",
    "\n"
   ]
  },
  {
   "cell_type": "code",
   "execution_count": 2,
   "id": "d58548ac",
   "metadata": {
    "execution": {
     "iopub.execute_input": "2023-09-01T07:50:02.350884Z",
     "iopub.status.busy": "2023-09-01T07:50:02.350238Z",
     "iopub.status.idle": "2023-09-01T07:50:02.358835Z",
     "shell.execute_reply": "2023-09-01T07:50:02.357646Z"
    },
    "papermill": {
     "duration": 0.018718,
     "end_time": "2023-09-01T07:50:02.362426",
     "exception": false,
     "start_time": "2023-09-01T07:50:02.343708",
     "status": "completed"
    },
    "tags": []
   },
   "outputs": [
    {
     "name": "stdout",
     "output_type": "stream",
     "text": [
      "[[1 2 3 4]]\n"
     ]
    }
   ],
   "source": [
    "'''to convert a list of numeric values into a one-dimensional NumPy array\n",
    "\n",
    "Name: Tank Yash\n",
    "Eno: 216270307073\n",
    "'''\n",
    "\n",
    "l1 = [1,2,3,4]\n",
    "\n",
    "print(np.array([l1]))"
   ]
  },
  {
   "cell_type": "code",
   "execution_count": 3,
   "id": "28ca27b5",
   "metadata": {
    "execution": {
     "iopub.execute_input": "2023-09-01T07:50:02.374055Z",
     "iopub.status.busy": "2023-09-01T07:50:02.373645Z",
     "iopub.status.idle": "2023-09-01T07:50:02.381217Z",
     "shell.execute_reply": "2023-09-01T07:50:02.380009Z"
    },
    "papermill": {
     "duration": 0.016177,
     "end_time": "2023-09-01T07:50:02.383487",
     "exception": false,
     "start_time": "2023-09-01T07:50:02.367310",
     "status": "completed"
    },
    "tags": []
   },
   "outputs": [
    {
     "name": "stdout",
     "output_type": "stream",
     "text": [
      "3*3 Matrix is: \n",
      " [[ 2  3  4]\n",
      " [ 5  6  7]\n",
      " [ 8  9 10]]\n"
     ]
    }
   ],
   "source": [
    "'''to create a 3x3 matrix with values ranging from 2 to 10\n",
    "\n",
    "Name: Tank Yash\n",
    "Eno: 216270307073\n",
    "'''\n",
    "\n",
    "a = [2,3,4]\n",
    "b = [5,6,7]\n",
    "c = [8,9,10]\n",
    "\n",
    "array = np.array([a,b,c])\n",
    "print(\"3*3 Matrix is: \\n\",array)"
   ]
  },
  {
   "cell_type": "code",
   "execution_count": 4,
   "id": "344a433c",
   "metadata": {
    "execution": {
     "iopub.execute_input": "2023-09-01T07:50:02.396410Z",
     "iopub.status.busy": "2023-09-01T07:50:02.395307Z",
     "iopub.status.idle": "2023-09-01T07:50:02.403098Z",
     "shell.execute_reply": "2023-09-01T07:50:02.401822Z"
    },
    "papermill": {
     "duration": 0.016661,
     "end_time": "2023-09-01T07:50:02.405485",
     "exception": false,
     "start_time": "2023-09-01T07:50:02.388824",
     "status": "completed"
    },
    "tags": []
   },
   "outputs": [
    {
     "name": "stdout",
     "output_type": "stream",
     "text": [
      "The original array is: \n",
      " [[1 2 3 4]]\n",
      "\n",
      "After append value in the array: \n",
      " [1 2 3 4 5]\n"
     ]
    }
   ],
   "source": [
    "'''to append values at the end of an array\n",
    "\n",
    "Name: Tank Yash\n",
    "Eno: 216270307073\n",
    "'''\n",
    "\n",
    "l1 = [1,2,3,4]\n",
    "print(\"The original array is: \\n\",np.array([l1]))\n",
    "\n",
    "l1 = np.append(l1,[5])\n",
    "print(\"\\nAfter append value in the array: \\n\",l1)"
   ]
  },
  {
   "cell_type": "code",
   "execution_count": 5,
   "id": "1905f9b3",
   "metadata": {
    "execution": {
     "iopub.execute_input": "2023-09-01T07:50:02.418615Z",
     "iopub.status.busy": "2023-09-01T07:50:02.417857Z",
     "iopub.status.idle": "2023-09-01T07:50:02.428685Z",
     "shell.execute_reply": "2023-09-01T07:50:02.427089Z"
    },
    "papermill": {
     "duration": 0.020665,
     "end_time": "2023-09-01T07:50:02.431162",
     "exception": false,
     "start_time": "2023-09-01T07:50:02.410497",
     "status": "completed"
    },
    "tags": []
   },
   "outputs": [
    {
     "data": {
      "text/plain": [
       "'to create another shape from an array without changing its data (3*2 to 2*3)\\n\\nName: Tank Yash\\nEno: 216270307073\\n'"
      ]
     },
     "execution_count": 5,
     "metadata": {},
     "output_type": "execute_result"
    }
   ],
   "source": [
    "'''to create another shape from an array without changing its data (3*2 to 2*3)\n",
    "\n",
    "Name: Tank Yash\n",
    "Eno: 216270307073\n",
    "'''\n",
    "\n"
   ]
  }
 ],
 "kernelspec": {
  "display_name": "Python 3",
  "language": "python",
  "name": "python3"
 },
 "language_info": {
  "codemirror_mode": {
   "name": "ipython",
   "version": 3
  },
  "file_extension": ".py",
  "mimetype": "text/x-python",
  "name": "python",
  "nbconvert_exporter": "python",
  "pygments_lexer": "ipython3",
  "version": "3.6.4"
 },
 "metadata": {
  "kernelspec": {
   "display_name": "Python 3",
   "language": "python",
   "name": "python3"
  },
  "language_info": {
   "codemirror_mode": {
    "name": "ipython",
    "version": 3
   },
   "file_extension": ".py",
   "mimetype": "text/x-python",
   "name": "python",
   "nbconvert_exporter": "python",
   "pygments_lexer": "ipython3",
   "version": "3.10.12"
  },
  "papermill": {
   "default_parameters": {},
   "duration": 5.165205,
   "end_time": "2023-09-01T07:50:03.060077",
   "environment_variables": {},
   "exception": null,
   "input_path": "__notebook__.ipynb",
   "output_path": "__notebook__.ipynb",
   "parameters": {},
   "start_time": "2023-09-01T07:49:57.894872",
   "version": "2.4.0"
  }
 },
 "nbformat": 4,
 "nbformat_minor": 5
}
