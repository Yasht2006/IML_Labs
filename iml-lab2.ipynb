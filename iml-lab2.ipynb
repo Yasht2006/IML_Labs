{
 "cells": [
  {
   "cell_type": "code",
   "execution_count": 1,
   "id": "b25fb7b0",
   "metadata": {
    "_cell_guid": "b1076dfc-b9ad-4769-8c92-a6c4dae69d19",
    "_uuid": "8f2839f25d086af736a60e9eeb907d3b93b6e0e5",
    "execution": {
     "iopub.execute_input": "2023-09-01T07:30:44.456142Z",
     "iopub.status.busy": "2023-09-01T07:30:44.455327Z",
     "iopub.status.idle": "2023-09-01T07:30:44.979948Z",
     "shell.execute_reply": "2023-09-01T07:30:44.978550Z"
    },
    "papermill": {
     "duration": 0.534806,
     "end_time": "2023-09-01T07:30:44.983003",
     "exception": false,
     "start_time": "2023-09-01T07:30:44.448197",
     "status": "completed"
    },
    "tags": []
   },
   "outputs": [],
   "source": [
    "'''Practical No.2: Write a NumPy program to implement following operation\n",
    "\n",
    "Name: Tank Yash\n",
    "Eno: 216270307073\n",
    "'''\n",
    "import numpy as np # linear algebra\n",
    "import pandas as pd # data processing, CSV file I/O (e.g. pd.read_csv)\n",
    "\n"
   ]
  },
  {
   "cell_type": "code",
   "execution_count": 2,
   "id": "d027cb5e",
   "metadata": {
    "execution": {
     "iopub.execute_input": "2023-09-01T07:30:44.994059Z",
     "iopub.status.busy": "2023-09-01T07:30:44.993370Z",
     "iopub.status.idle": "2023-09-01T07:30:45.005051Z",
     "shell.execute_reply": "2023-09-01T07:30:45.002625Z"
    },
    "papermill": {
     "duration": 0.023604,
     "end_time": "2023-09-01T07:30:45.011110",
     "exception": false,
     "start_time": "2023-09-01T07:30:44.987506",
     "status": "completed"
    },
    "tags": []
   },
   "outputs": [
    {
     "name": "stdout",
     "output_type": "stream",
     "text": [
      "[[1 2 3 4]]\n"
     ]
    }
   ],
   "source": [
    "'''to convert a list of numeric values into a one-dimensional NumPy array\n",
    "'''\n",
    "\n",
    "l1 = [1,2,3,4]\n",
    "\n",
    "print(np.array([l1]))"
   ]
  },
  {
   "cell_type": "code",
   "execution_count": 3,
   "id": "8dec94a8",
   "metadata": {
    "execution": {
     "iopub.execute_input": "2023-09-01T07:30:45.023871Z",
     "iopub.status.busy": "2023-09-01T07:30:45.023294Z",
     "iopub.status.idle": "2023-09-01T07:30:45.031258Z",
     "shell.execute_reply": "2023-09-01T07:30:45.029888Z"
    },
    "papermill": {
     "duration": 0.017092,
     "end_time": "2023-09-01T07:30:45.033893",
     "exception": false,
     "start_time": "2023-09-01T07:30:45.016801",
     "status": "completed"
    },
    "tags": []
   },
   "outputs": [
    {
     "name": "stdout",
     "output_type": "stream",
     "text": [
      "[[ 2  3  4]\n",
      " [ 5  6  7]\n",
      " [ 8  9 10]]\n"
     ]
    }
   ],
   "source": [
    "'''to create a 3x3 matrix with values ranging from 2 to 10'''\n",
    "\n",
    "a = [2,3,4]\n",
    "b = [5,6,7]\n",
    "c = [8,9,10]\n",
    "\n",
    "array = np.array([a,b,c])\n",
    "print(array)"
   ]
  },
  {
   "cell_type": "raw",
   "id": "8b7d7c72",
   "metadata": {
    "papermill": {
     "duration": 0.00419,
     "end_time": "2023-09-01T07:30:45.042536",
     "exception": false,
     "start_time": "2023-09-01T07:30:45.038346",
     "status": "completed"
    },
    "tags": []
   },
   "source": []
  }
 ],
 "kernelspec": {
  "display_name": "Python 3",
  "language": "python",
  "name": "python3"
 },
 "language_info": {
  "codemirror_mode": {
   "name": "ipython",
   "version": 3
  },
  "file_extension": ".py",
  "mimetype": "text/x-python",
  "name": "python",
  "nbconvert_exporter": "python",
  "pygments_lexer": "ipython3",
  "version": "3.6.4"
 },
 "metadata": {
  "kernelspec": {
   "display_name": "Python 3",
   "language": "python",
   "name": "python3"
  },
  "language_info": {
   "codemirror_mode": {
    "name": "ipython",
    "version": 3
   },
   "file_extension": ".py",
   "mimetype": "text/x-python",
   "name": "python",
   "nbconvert_exporter": "python",
   "pygments_lexer": "ipython3",
   "version": "3.10.12"
  },
  "papermill": {
   "default_parameters": {},
   "duration": 5.143517,
   "end_time": "2023-09-01T07:30:45.568946",
   "environment_variables": {},
   "exception": null,
   "input_path": "__notebook__.ipynb",
   "output_path": "__notebook__.ipynb",
   "parameters": {},
   "start_time": "2023-09-01T07:30:40.425429",
   "version": "2.4.0"
  }
 },
 "nbformat": 4,
 "nbformat_minor": 5
}
