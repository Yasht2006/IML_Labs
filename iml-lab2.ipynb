{
 "cells": [
  {
   "cell_type": "code",
   "execution_count": 1,
   "id": "be3c5d94",
   "metadata": {
    "_cell_guid": "b1076dfc-b9ad-4769-8c92-a6c4dae69d19",
    "_uuid": "8f2839f25d086af736a60e9eeb907d3b93b6e0e5",
    "execution": {
     "iopub.execute_input": "2023-09-01T07:55:44.203231Z",
     "iopub.status.busy": "2023-09-01T07:55:44.202731Z",
     "iopub.status.idle": "2023-09-01T07:55:44.628280Z",
     "shell.execute_reply": "2023-09-01T07:55:44.627128Z"
    },
    "papermill": {
     "duration": 0.435858,
     "end_time": "2023-09-01T07:55:44.631175",
     "exception": false,
     "start_time": "2023-09-01T07:55:44.195317",
     "status": "completed"
    },
    "tags": []
   },
   "outputs": [],
   "source": [
    "'''Practical No.2: Write a NumPy program to implement following operation\n",
    "\n",
    "Name: Tank Yash\n",
    "Eno: 216270307073\n",
    "'''\n",
    "import numpy as np # linear algebra\n",
    "import pandas as pd # data processing, CSV file I/O (e.g. pd.read_csv)\n",
    "\n"
   ]
  },
  {
   "cell_type": "code",
   "execution_count": 2,
   "id": "23aabc54",
   "metadata": {
    "execution": {
     "iopub.execute_input": "2023-09-01T07:55:44.642373Z",
     "iopub.status.busy": "2023-09-01T07:55:44.641893Z",
     "iopub.status.idle": "2023-09-01T07:55:44.649546Z",
     "shell.execute_reply": "2023-09-01T07:55:44.648446Z"
    },
    "papermill": {
     "duration": 0.017098,
     "end_time": "2023-09-01T07:55:44.653107",
     "exception": false,
     "start_time": "2023-09-01T07:55:44.636009",
     "status": "completed"
    },
    "tags": []
   },
   "outputs": [
    {
     "name": "stdout",
     "output_type": "stream",
     "text": [
      "[[1 2 3 4]]\n"
     ]
    }
   ],
   "source": [
    "'''\n",
    "Practical No.2: Write a NumPy program to implement following operation: \n",
    "\n",
    "to convert a list of numeric values into a one-dimensional NumPy array\n",
    "\n",
    "Name: Tank Yash\n",
    "Eno: 216270307073\n",
    "'''\n",
    "\n",
    "l1 = [1,2,3,4]\n",
    "\n",
    "print(np.array([l1]))"
   ]
  },
  {
   "cell_type": "code",
   "execution_count": 3,
   "id": "841d64c6",
   "metadata": {
    "execution": {
     "iopub.execute_input": "2023-09-01T07:55:44.664340Z",
     "iopub.status.busy": "2023-09-01T07:55:44.663966Z",
     "iopub.status.idle": "2023-09-01T07:55:44.670696Z",
     "shell.execute_reply": "2023-09-01T07:55:44.669689Z"
    },
    "papermill": {
     "duration": 0.015515,
     "end_time": "2023-09-01T07:55:44.673315",
     "exception": false,
     "start_time": "2023-09-01T07:55:44.657800",
     "status": "completed"
    },
    "tags": []
   },
   "outputs": [
    {
     "name": "stdout",
     "output_type": "stream",
     "text": [
      "3*3 Matrix is: \n",
      " [[ 2  3  4]\n",
      " [ 5  6  7]\n",
      " [ 8  9 10]]\n"
     ]
    }
   ],
   "source": [
    "'''\n",
    "Practical No.2: Write a NumPy program to implement following operation:\n",
    "\n",
    "to create a 3x3 matrix with values ranging from 2 to 10\n",
    "\n",
    "Name: Tank Yash\n",
    "Eno: 216270307073\n",
    "'''\n",
    "\n",
    "a = [2,3,4]\n",
    "b = [5,6,7]\n",
    "c = [8,9,10]\n",
    "\n",
    "array = np.array([a,b,c])\n",
    "print(\"3*3 Matrix is: \\n\",array)"
   ]
  },
  {
   "cell_type": "code",
   "execution_count": 4,
   "id": "ef03304b",
   "metadata": {
    "execution": {
     "iopub.execute_input": "2023-09-01T07:55:44.684573Z",
     "iopub.status.busy": "2023-09-01T07:55:44.684211Z",
     "iopub.status.idle": "2023-09-01T07:55:44.691393Z",
     "shell.execute_reply": "2023-09-01T07:55:44.690039Z"
    },
    "papermill": {
     "duration": 0.01602,
     "end_time": "2023-09-01T07:55:44.693986",
     "exception": false,
     "start_time": "2023-09-01T07:55:44.677966",
     "status": "completed"
    },
    "tags": []
   },
   "outputs": [
    {
     "name": "stdout",
     "output_type": "stream",
     "text": [
      "The original array is: \n",
      " [[1 2 3 4]]\n",
      "\n",
      "After append value in the array: \n",
      " [1 2 3 4 5]\n"
     ]
    }
   ],
   "source": [
    "'''\n",
    "Practical No.2: Write a NumPy program to implement following operation:\n",
    "\n",
    "to append values at the end of an array\n",
    "\n",
    "Name: Tank Yash\n",
    "Eno: 216270307073\n",
    "'''\n",
    "\n",
    "l1 = [1,2,3,4]\n",
    "print(\"The original array is: \\n\",np.array([l1]))\n",
    "\n",
    "l1 = np.append(l1,[5])\n",
    "print(\"\\nAfter append value in the array: \\n\",l1)"
   ]
  },
  {
   "cell_type": "code",
   "execution_count": 5,
   "id": "f22d95bc",
   "metadata": {
    "execution": {
     "iopub.execute_input": "2023-09-01T07:55:44.705245Z",
     "iopub.status.busy": "2023-09-01T07:55:44.704805Z",
     "iopub.status.idle": "2023-09-01T07:55:44.713438Z",
     "shell.execute_reply": "2023-09-01T07:55:44.712317Z"
    },
    "papermill": {
     "duration": 0.017102,
     "end_time": "2023-09-01T07:55:44.715932",
     "exception": false,
     "start_time": "2023-09-01T07:55:44.698830",
     "status": "completed"
    },
    "tags": []
   },
   "outputs": [
    {
     "data": {
      "text/plain": [
       "'\\nPractical No.2: Write a NumPy program to implement following operation:\\n\\nto create another shape from an array without changing its data (3*2 to 2*3)\\n\\nName: Tank Yash\\nEno: 216270307073\\n'"
      ]
     },
     "execution_count": 5,
     "metadata": {},
     "output_type": "execute_result"
    }
   ],
   "source": [
    "'''\n",
    "Practical No.2: Write a NumPy program to implement following operation:\n",
    "\n",
    "to create another shape from an array without changing its data (3*2 to 2*3)\n",
    "\n",
    "Name: Tank Yash\n",
    "Eno: 216270307073\n",
    "'''\n",
    "\n"
   ]
  }
 ],
 "kernelspec": {
  "display_name": "Python 3",
  "language": "python",
  "name": "python3"
 },
 "language_info": {
  "codemirror_mode": {
   "name": "ipython",
   "version": 3
  },
  "file_extension": ".py",
  "mimetype": "text/x-python",
  "name": "python",
  "nbconvert_exporter": "python",
  "pygments_lexer": "ipython3",
  "version": "3.6.4"
 },
 "metadata": {
  "kernelspec": {
   "display_name": "Python 3",
   "language": "python",
   "name": "python3"
  },
  "language_info": {
   "codemirror_mode": {
    "name": "ipython",
    "version": 3
   },
   "file_extension": ".py",
   "mimetype": "text/x-python",
   "name": "python",
   "nbconvert_exporter": "python",
   "pygments_lexer": "ipython3",
   "version": "3.10.12"
  },
  "papermill": {
   "default_parameters": {},
   "duration": 4.805936,
   "end_time": "2023-09-01T07:55:45.242225",
   "environment_variables": {},
   "exception": null,
   "input_path": "__notebook__.ipynb",
   "output_path": "__notebook__.ipynb",
   "parameters": {},
   "start_time": "2023-09-01T07:55:40.436289",
   "version": "2.4.0"
  }
 },
 "nbformat": 4,
 "nbformat_minor": 5
}
