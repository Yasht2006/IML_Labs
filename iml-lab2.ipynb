{
 "cells": [
  {
   "cell_type": "code",
   "execution_count": 1,
   "id": "92ab7867",
   "metadata": {
    "_cell_guid": "b1076dfc-b9ad-4769-8c92-a6c4dae69d19",
    "_uuid": "8f2839f25d086af736a60e9eeb907d3b93b6e0e5",
    "execution": {
     "iopub.execute_input": "2023-10-16T18:55:22.381106Z",
     "iopub.status.busy": "2023-10-16T18:55:22.380349Z",
     "iopub.status.idle": "2023-10-16T18:55:23.115224Z",
     "shell.execute_reply": "2023-10-16T18:55:23.114124Z"
    },
    "papermill": {
     "duration": 0.74237,
     "end_time": "2023-10-16T18:55:23.117951",
     "exception": false,
     "start_time": "2023-10-16T18:55:22.375581",
     "status": "completed"
    },
    "tags": []
   },
   "outputs": [],
   "source": [
    "'''Practical No.2: Write a NumPy program to implement following operation\n",
    "\n",
    "Name: Tank Yash\n",
    "Eno: 216270307073\n",
    "'''\n",
    "import numpy as np # linear algebra\n",
    "import pandas as pd # data processing, CSV file I/O (e.g. pd.read_csv)\n",
    "\n"
   ]
  },
  {
   "cell_type": "code",
   "execution_count": 2,
   "id": "22c578cd",
   "metadata": {
    "execution": {
     "iopub.execute_input": "2023-10-16T18:55:23.126262Z",
     "iopub.status.busy": "2023-10-16T18:55:23.125761Z",
     "iopub.status.idle": "2023-10-16T18:55:23.133147Z",
     "shell.execute_reply": "2023-10-16T18:55:23.132132Z"
    },
    "papermill": {
     "duration": 0.014753,
     "end_time": "2023-10-16T18:55:23.135368",
     "exception": false,
     "start_time": "2023-10-16T18:55:23.120615",
     "status": "completed"
    },
    "tags": []
   },
   "outputs": [
    {
     "name": "stdout",
     "output_type": "stream",
     "text": [
      "One Dimential Array: \n",
      " [[1 2 3 4]]\n"
     ]
    }
   ],
   "source": [
    "'''\n",
    "Practical No.2: Write a NumPy program to implement following operation: \n",
    "\n",
    "to convert a list of numeric values into a one-dimensional NumPy array\n",
    "\n",
    "Name: Tank Yash\n",
    "Eno: 216270307073\n",
    "'''\n",
    "\n",
    "l1 = [1,2,3,4]\n",
    "\n",
    "print(\"One Dimential Array: \\n\",np.array([l1]))"
   ]
  },
  {
   "cell_type": "code",
   "execution_count": 3,
   "id": "3e54e21b",
   "metadata": {
    "execution": {
     "iopub.execute_input": "2023-10-16T18:55:23.142269Z",
     "iopub.status.busy": "2023-10-16T18:55:23.141668Z",
     "iopub.status.idle": "2023-10-16T18:55:23.147978Z",
     "shell.execute_reply": "2023-10-16T18:55:23.146716Z"
    },
    "papermill": {
     "duration": 0.011825,
     "end_time": "2023-10-16T18:55:23.150057",
     "exception": false,
     "start_time": "2023-10-16T18:55:23.138232",
     "status": "completed"
    },
    "tags": []
   },
   "outputs": [
    {
     "name": "stdout",
     "output_type": "stream",
     "text": [
      "3*3 Matrix is: \n",
      " [[ 2  3  4]\n",
      " [ 5  6  7]\n",
      " [ 8  9 10]]\n"
     ]
    }
   ],
   "source": [
    "'''\n",
    "Practical No.2: Write a NumPy program to implement following operation:\n",
    "\n",
    "to create a 3x3 matrix with values ranging from 2 to 10\n",
    "\n",
    "Name: Tank Yash\n",
    "Eno: 216270307073\n",
    "'''\n",
    "\n",
    "a = [2,3,4]\n",
    "b = [5,6,7]\n",
    "c = [8,9,10]\n",
    "\n",
    "array = np.array([a,b,c])\n",
    "print(\"3*3 Matrix is: \\n\",array)"
   ]
  },
  {
   "cell_type": "code",
   "execution_count": 4,
   "id": "adf8b25c",
   "metadata": {
    "execution": {
     "iopub.execute_input": "2023-10-16T18:55:23.155989Z",
     "iopub.status.busy": "2023-10-16T18:55:23.155632Z",
     "iopub.status.idle": "2023-10-16T18:55:23.161790Z",
     "shell.execute_reply": "2023-10-16T18:55:23.160718Z"
    },
    "papermill": {
     "duration": 0.011535,
     "end_time": "2023-10-16T18:55:23.163943",
     "exception": false,
     "start_time": "2023-10-16T18:55:23.152408",
     "status": "completed"
    },
    "tags": []
   },
   "outputs": [
    {
     "name": "stdout",
     "output_type": "stream",
     "text": [
      "The original array is: \n",
      " [[1 2 3 4]]\n",
      "\n",
      "After append value in the array: \n",
      " [1 2 3 4 5]\n"
     ]
    }
   ],
   "source": [
    "'''\n",
    "Practical No.2: Write a NumPy program to implement following operation:\n",
    "\n",
    "to append values at the end of an array\n",
    "\n",
    "Name: Tank Yash\n",
    "Eno: 216270307073\n",
    "'''\n",
    "\n",
    "l1 = [1,2,3,4]\n",
    "print(\"The original array is: \\n\",np.array([l1]))\n",
    "\n",
    "l1 = np.append(l1,[5])\n",
    "print(\"\\nAfter append value in the array: \\n\",l1)"
   ]
  },
  {
   "cell_type": "code",
   "execution_count": 5,
   "id": "0427c8cf",
   "metadata": {
    "execution": {
     "iopub.execute_input": "2023-10-16T18:55:23.169745Z",
     "iopub.status.busy": "2023-10-16T18:55:23.169416Z",
     "iopub.status.idle": "2023-10-16T18:55:23.175024Z",
     "shell.execute_reply": "2023-10-16T18:55:23.173947Z"
    },
    "papermill": {
     "duration": 0.011656,
     "end_time": "2023-10-16T18:55:23.177840",
     "exception": false,
     "start_time": "2023-10-16T18:55:23.166184",
     "status": "completed"
    },
    "tags": []
   },
   "outputs": [
    {
     "name": "stdout",
     "output_type": "stream",
     "text": [
      "Original Arrays:  [[1 2]\n",
      " [4 5]\n",
      " [7 8]]\n",
      "\n",
      "New array of 'a' of shape 3x3:\n",
      " [[1 2 4]\n",
      " [5 7 8]]\n"
     ]
    }
   ],
   "source": [
    "'''\n",
    "Practical No.2: Write a NumPy program to implement following operation:\n",
    "\n",
    "to create another shape from an array without changing its data (3*2 to 2*3)\n",
    "\n",
    "Name: Tank Yash\n",
    "Eno: 216270307073\n",
    "'''\n",
    "\n",
    "a = np.array([[1,2],[4,5],[7,8]])\n",
    "print(\"Original Arrays: \", a)\n",
    "\n",
    "a_new = a.reshape(2, 3)\n",
    "print(\"\\nNew array of 'a' of shape 3x3:\\n\", a_new)"
   ]
  },
  {
   "cell_type": "code",
   "execution_count": null,
   "id": "276303d5",
   "metadata": {
    "papermill": {
     "duration": 0.002024,
     "end_time": "2023-10-16T18:55:23.182341",
     "exception": false,
     "start_time": "2023-10-16T18:55:23.180317",
     "status": "completed"
    },
    "tags": []
   },
   "outputs": [],
   "source": []
  }
 ],
 "metadata": {
  "kernelspec": {
   "display_name": "Python 3",
   "language": "python",
   "name": "python3"
  },
  "language_info": {
   "codemirror_mode": {
    "name": "ipython",
    "version": 3
   },
   "file_extension": ".py",
   "mimetype": "text/x-python",
   "name": "python",
   "nbconvert_exporter": "python",
   "pygments_lexer": "ipython3",
   "version": "3.10.12"
  },
  "papermill": {
   "default_parameters": {},
   "duration": 4.438588,
   "end_time": "2023-10-16T18:55:23.603270",
   "environment_variables": {},
   "exception": null,
   "input_path": "__notebook__.ipynb",
   "output_path": "__notebook__.ipynb",
   "parameters": {},
   "start_time": "2023-10-16T18:55:19.164682",
   "version": "2.4.0"
  }
 },
 "nbformat": 4,
 "nbformat_minor": 5
}
