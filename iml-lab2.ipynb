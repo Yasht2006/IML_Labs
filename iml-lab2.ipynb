{
 "cells": [
  {
   "cell_type": "code",
   "execution_count": 1,
   "id": "a9fa90d2",
   "metadata": {
    "_cell_guid": "b1076dfc-b9ad-4769-8c92-a6c4dae69d19",
    "_uuid": "8f2839f25d086af736a60e9eeb907d3b93b6e0e5",
    "execution": {
     "iopub.execute_input": "2023-09-01T07:44:06.665556Z",
     "iopub.status.busy": "2023-09-01T07:44:06.665110Z",
     "iopub.status.idle": "2023-09-01T07:44:07.097369Z",
     "shell.execute_reply": "2023-09-01T07:44:07.096179Z"
    },
    "papermill": {
     "duration": 0.442419,
     "end_time": "2023-09-01T07:44:07.100272",
     "exception": false,
     "start_time": "2023-09-01T07:44:06.657853",
     "status": "completed"
    },
    "tags": []
   },
   "outputs": [],
   "source": [
    "'''Practical No.2: Write a NumPy program to implement following operation\n",
    "\n",
    "Name: Tank Yash\n",
    "Eno: 216270307073\n",
    "'''\n",
    "import numpy as np # linear algebra\n",
    "import pandas as pd # data processing, CSV file I/O (e.g. pd.read_csv)\n",
    "\n"
   ]
  },
  {
   "cell_type": "code",
   "execution_count": 2,
   "id": "60a6e871",
   "metadata": {
    "execution": {
     "iopub.execute_input": "2023-09-01T07:44:07.112051Z",
     "iopub.status.busy": "2023-09-01T07:44:07.111477Z",
     "iopub.status.idle": "2023-09-01T07:44:07.120285Z",
     "shell.execute_reply": "2023-09-01T07:44:07.118989Z"
    },
    "papermill": {
     "duration": 0.018607,
     "end_time": "2023-09-01T07:44:07.123797",
     "exception": false,
     "start_time": "2023-09-01T07:44:07.105190",
     "status": "completed"
    },
    "tags": []
   },
   "outputs": [
    {
     "name": "stdout",
     "output_type": "stream",
     "text": [
      "[[1 2 3 4]]\n"
     ]
    }
   ],
   "source": [
    "'''to convert a list of numeric values into a one-dimensional NumPy array\n",
    "\n",
    "Name: Tank Yash\n",
    "Eno: 216270307073\n",
    "'''\n",
    "\n",
    "l1 = [1,2,3,4]\n",
    "\n",
    "print(np.array([l1]))"
   ]
  },
  {
   "cell_type": "code",
   "execution_count": 3,
   "id": "12757238",
   "metadata": {
    "execution": {
     "iopub.execute_input": "2023-09-01T07:44:07.136197Z",
     "iopub.status.busy": "2023-09-01T07:44:07.135767Z",
     "iopub.status.idle": "2023-09-01T07:44:07.142521Z",
     "shell.execute_reply": "2023-09-01T07:44:07.141298Z"
    },
    "papermill": {
     "duration": 0.016185,
     "end_time": "2023-09-01T07:44:07.145890",
     "exception": false,
     "start_time": "2023-09-01T07:44:07.129705",
     "status": "completed"
    },
    "tags": []
   },
   "outputs": [
    {
     "name": "stdout",
     "output_type": "stream",
     "text": [
      "3*3 Matrix is: \n",
      " [[ 2  3  4]\n",
      " [ 5  6  7]\n",
      " [ 8  9 10]]\n"
     ]
    }
   ],
   "source": [
    "'''to create a 3x3 matrix with values ranging from 2 to 10\n",
    "\n",
    "Name: Tank Yash\n",
    "Eno: 216270307073\n",
    "'''\n",
    "\n",
    "a = [2,3,4]\n",
    "b = [5,6,7]\n",
    "c = [8,9,10]\n",
    "\n",
    "array = np.array([a,b,c])\n",
    "print(\"3*3 Matrix is: \\n\",array)"
   ]
  },
  {
   "cell_type": "code",
   "execution_count": 4,
   "id": "0e867dbb",
   "metadata": {
    "execution": {
     "iopub.execute_input": "2023-09-01T07:44:07.157260Z",
     "iopub.status.busy": "2023-09-01T07:44:07.156871Z",
     "iopub.status.idle": "2023-09-01T07:44:07.164227Z",
     "shell.execute_reply": "2023-09-01T07:44:07.162893Z"
    },
    "papermill": {
     "duration": 0.016284,
     "end_time": "2023-09-01T07:44:07.166932",
     "exception": false,
     "start_time": "2023-09-01T07:44:07.150648",
     "status": "completed"
    },
    "tags": []
   },
   "outputs": [
    {
     "name": "stdout",
     "output_type": "stream",
     "text": [
      "The original array is: \n",
      " [[1 2 3 4]]\n",
      "After append value in the array: \n",
      " [1 2 3 4 5]\n"
     ]
    }
   ],
   "source": [
    "'''to append values at the end of an array\n",
    "\n",
    "Name: Tank Yash\n",
    "Eno: 216270307073\n",
    "'''\n",
    "\n",
    "l1 = [1,2,3,4]\n",
    "print(\"The original array is: \\n\",np.array([l1]))\n",
    "\n",
    "l1 = np.append(l1,[5])\n",
    "print(\"After append value in the array: \\n\",l1)"
   ]
  },
  {
   "cell_type": "code",
   "execution_count": 5,
   "id": "9f5184dc",
   "metadata": {
    "execution": {
     "iopub.execute_input": "2023-09-01T07:44:07.178318Z",
     "iopub.status.busy": "2023-09-01T07:44:07.177888Z",
     "iopub.status.idle": "2023-09-01T07:44:07.187731Z",
     "shell.execute_reply": "2023-09-01T07:44:07.186548Z"
    },
    "papermill": {
     "duration": 0.018644,
     "end_time": "2023-09-01T07:44:07.190360",
     "exception": false,
     "start_time": "2023-09-01T07:44:07.171716",
     "status": "completed"
    },
    "tags": []
   },
   "outputs": [
    {
     "data": {
      "text/plain": [
       "'to create another shape from an array without changing its data (3*2 to 2*3)\\n\\nName: Tank Yash\\nEno: 216270307073\\n'"
      ]
     },
     "execution_count": 5,
     "metadata": {},
     "output_type": "execute_result"
    }
   ],
   "source": [
    "'''to create another shape from an array without changing its data (3*2 to 2*3)\n",
    "\n",
    "Name: Tank Yash\n",
    "Eno: 216270307073\n",
    "'''\n",
    "\n"
   ]
  }
 ],
 "kernelspec": {
  "display_name": "Python 3",
  "language": "python",
  "name": "python3"
 },
 "language_info": {
  "codemirror_mode": {
   "name": "ipython",
   "version": 3
  },
  "file_extension": ".py",
  "mimetype": "text/x-python",
  "name": "python",
  "nbconvert_exporter": "python",
  "pygments_lexer": "ipython3",
  "version": "3.6.4"
 },
 "metadata": {
  "kernelspec": {
   "display_name": "Python 3",
   "language": "python",
   "name": "python3"
  },
  "language_info": {
   "codemirror_mode": {
    "name": "ipython",
    "version": 3
   },
   "file_extension": ".py",
   "mimetype": "text/x-python",
   "name": "python",
   "nbconvert_exporter": "python",
   "pygments_lexer": "ipython3",
   "version": "3.10.12"
  },
  "papermill": {
   "default_parameters": {},
   "duration": 4.813344,
   "end_time": "2023-09-01T07:44:07.716227",
   "environment_variables": {},
   "exception": null,
   "input_path": "__notebook__.ipynb",
   "output_path": "__notebook__.ipynb",
   "parameters": {},
   "start_time": "2023-09-01T07:44:02.902883",
   "version": "2.4.0"
  }
 },
 "nbformat": 4,
 "nbformat_minor": 5
}
