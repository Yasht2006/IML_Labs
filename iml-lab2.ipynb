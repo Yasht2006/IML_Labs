{
 "cells": [
  {
   "cell_type": "code",
   "execution_count": 1,
   "id": "f6cde560",
   "metadata": {
    "_cell_guid": "b1076dfc-b9ad-4769-8c92-a6c4dae69d19",
    "_uuid": "8f2839f25d086af736a60e9eeb907d3b93b6e0e5",
    "execution": {
     "iopub.execute_input": "2023-09-01T07:56:51.747596Z",
     "iopub.status.busy": "2023-09-01T07:56:51.746971Z",
     "iopub.status.idle": "2023-09-01T07:56:52.603472Z",
     "shell.execute_reply": "2023-09-01T07:56:52.602452Z"
    },
    "papermill": {
     "duration": 0.865471,
     "end_time": "2023-09-01T07:56:52.606269",
     "exception": false,
     "start_time": "2023-09-01T07:56:51.740798",
     "status": "completed"
    },
    "tags": []
   },
   "outputs": [],
   "source": [
    "'''Practical No.2: Write a NumPy program to implement following operation\n",
    "\n",
    "Name: Tank Yash\n",
    "Eno: 216270307073\n",
    "'''\n",
    "import numpy as np # linear algebra\n",
    "import pandas as pd # data processing, CSV file I/O (e.g. pd.read_csv)\n",
    "\n"
   ]
  },
  {
   "cell_type": "code",
   "execution_count": 2,
   "id": "29fd6af1",
   "metadata": {
    "execution": {
     "iopub.execute_input": "2023-09-01T07:56:52.615673Z",
     "iopub.status.busy": "2023-09-01T07:56:52.615147Z",
     "iopub.status.idle": "2023-09-01T07:56:52.623327Z",
     "shell.execute_reply": "2023-09-01T07:56:52.621908Z"
    },
    "papermill": {
     "duration": 0.015753,
     "end_time": "2023-09-01T07:56:52.626004",
     "exception": false,
     "start_time": "2023-09-01T07:56:52.610251",
     "status": "completed"
    },
    "tags": []
   },
   "outputs": [
    {
     "name": "stdout",
     "output_type": "stream",
     "text": [
      "[[1 2 3 4]]\n"
     ]
    }
   ],
   "source": [
    "'''\n",
    "Practical No.2: Write a NumPy program to implement following operation: \n",
    "\n",
    "to convert a list of numeric values into a one-dimensional NumPy array\n",
    "\n",
    "Name: Tank Yash\n",
    "Eno: 216270307073\n",
    "'''\n",
    "\n",
    "l1 = [1,2,3,4]\n",
    "\n",
    "print(np.array([l1]))"
   ]
  },
  {
   "cell_type": "code",
   "execution_count": 3,
   "id": "2c24bd3a",
   "metadata": {
    "execution": {
     "iopub.execute_input": "2023-09-01T07:56:52.635235Z",
     "iopub.status.busy": "2023-09-01T07:56:52.634487Z",
     "iopub.status.idle": "2023-09-01T07:56:52.641798Z",
     "shell.execute_reply": "2023-09-01T07:56:52.640372Z"
    },
    "papermill": {
     "duration": 0.0145,
     "end_time": "2023-09-01T07:56:52.644150",
     "exception": false,
     "start_time": "2023-09-01T07:56:52.629650",
     "status": "completed"
    },
    "tags": []
   },
   "outputs": [
    {
     "name": "stdout",
     "output_type": "stream",
     "text": [
      "3*3 Matrix is: \n",
      " [[ 2  3  4]\n",
      " [ 5  6  7]\n",
      " [ 8  9 10]]\n"
     ]
    }
   ],
   "source": [
    "'''\n",
    "Practical No.2: Write a NumPy program to implement following operation:\n",
    "\n",
    "to create a 3x3 matrix with values ranging from 2 to 10\n",
    "\n",
    "Name: Tank Yash\n",
    "Eno: 216270307073\n",
    "'''\n",
    "\n",
    "a = [2,3,4]\n",
    "b = [5,6,7]\n",
    "c = [8,9,10]\n",
    "\n",
    "array = np.array([a,b,c])\n",
    "print(\"3*3 Matrix is: \\n\",array)"
   ]
  },
  {
   "cell_type": "code",
   "execution_count": 4,
   "id": "93771c86",
   "metadata": {
    "execution": {
     "iopub.execute_input": "2023-09-01T07:56:52.653409Z",
     "iopub.status.busy": "2023-09-01T07:56:52.653029Z",
     "iopub.status.idle": "2023-09-01T07:56:52.660270Z",
     "shell.execute_reply": "2023-09-01T07:56:52.659107Z"
    },
    "papermill": {
     "duration": 0.014683,
     "end_time": "2023-09-01T07:56:52.662620",
     "exception": false,
     "start_time": "2023-09-01T07:56:52.647937",
     "status": "completed"
    },
    "tags": []
   },
   "outputs": [
    {
     "name": "stdout",
     "output_type": "stream",
     "text": [
      "The original array is: \n",
      " [[1 2 3 4]]\n",
      "\n",
      "After append value in the array: \n",
      " [1 2 3 4 5]\n"
     ]
    }
   ],
   "source": [
    "'''\n",
    "Practical No.2: Write a NumPy program to implement following operation:\n",
    "\n",
    "to append values at the end of an array\n",
    "\n",
    "Name: Tank Yash\n",
    "Eno: 216270307073\n",
    "'''\n",
    "\n",
    "l1 = [1,2,3,4]\n",
    "print(\"The original array is: \\n\",np.array([l1]))\n",
    "\n",
    "l1 = np.append(l1,[5])\n",
    "print(\"\\nAfter append value in the array: \\n\",l1)"
   ]
  },
  {
   "cell_type": "code",
   "execution_count": 5,
   "id": "7db71a91",
   "metadata": {
    "execution": {
     "iopub.execute_input": "2023-09-01T07:56:52.672242Z",
     "iopub.status.busy": "2023-09-01T07:56:52.671500Z",
     "iopub.status.idle": "2023-09-01T07:56:52.679441Z",
     "shell.execute_reply": "2023-09-01T07:56:52.678288Z"
    },
    "papermill": {
     "duration": 0.015787,
     "end_time": "2023-09-01T07:56:52.682253",
     "exception": false,
     "start_time": "2023-09-01T07:56:52.666466",
     "status": "completed"
    },
    "tags": []
   },
   "outputs": [
    {
     "data": {
      "text/plain": [
       "'\\nPractical No.2: Write a NumPy program to implement following operation:\\n\\nto create another shape from an array without changing its data (3*2 to 2*3)\\n\\nName: Tank Yash\\nEno: 216270307073\\n'"
      ]
     },
     "execution_count": 5,
     "metadata": {},
     "output_type": "execute_result"
    }
   ],
   "source": [
    "'''\n",
    "Practical No.2: Write a NumPy program to implement following operation:\n",
    "\n",
    "to create another shape from an array without changing its data (3*2 to 2*3)\n",
    "\n",
    "Name: Tank Yash\n",
    "Eno: 216270307073\n",
    "'''\n",
    "\n"
   ]
  }
 ],
 "kernelspec": {
  "display_name": "Python 3",
  "language": "python",
  "name": "python3"
 },
 "language_info": {
  "codemirror_mode": {
   "name": "ipython",
   "version": 3
  },
  "file_extension": ".py",
  "mimetype": "text/x-python",
  "name": "python",
  "nbconvert_exporter": "python",
  "pygments_lexer": "ipython3",
  "version": "3.6.4"
 },
 "metadata": {
  "kernelspec": {
   "display_name": "Python 3",
   "language": "python",
   "name": "python3"
  },
  "language_info": {
   "codemirror_mode": {
    "name": "ipython",
    "version": 3
   },
   "file_extension": ".py",
   "mimetype": "text/x-python",
   "name": "python",
   "nbconvert_exporter": "python",
   "pygments_lexer": "ipython3",
   "version": "3.10.12"
  },
  "papermill": {
   "default_parameters": {},
   "duration": 6.034748,
   "end_time": "2023-09-01T07:56:53.207542",
   "environment_variables": {},
   "exception": null,
   "input_path": "__notebook__.ipynb",
   "output_path": "__notebook__.ipynb",
   "parameters": {},
   "start_time": "2023-09-01T07:56:47.172794",
   "version": "2.4.0"
  }
 },
 "nbformat": 4,
 "nbformat_minor": 5
}
