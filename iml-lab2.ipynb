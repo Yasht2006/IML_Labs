{
 "cells": [
  {
   "cell_type": "code",
   "execution_count": 1,
   "id": "c289ee59",
   "metadata": {
    "_cell_guid": "b1076dfc-b9ad-4769-8c92-a6c4dae69d19",
    "_uuid": "8f2839f25d086af736a60e9eeb907d3b93b6e0e5",
    "execution": {
     "iopub.execute_input": "2023-09-01T07:39:10.430092Z",
     "iopub.status.busy": "2023-09-01T07:39:10.429420Z",
     "iopub.status.idle": "2023-09-01T07:39:10.939707Z",
     "shell.execute_reply": "2023-09-01T07:39:10.938328Z"
    },
    "papermill": {
     "duration": 0.522012,
     "end_time": "2023-09-01T07:39:10.943277",
     "exception": false,
     "start_time": "2023-09-01T07:39:10.421265",
     "status": "completed"
    },
    "tags": []
   },
   "outputs": [],
   "source": [
    "'''Practical No.2: Write a NumPy program to implement following operation\n",
    "\n",
    "Name: Tank Yash\n",
    "Eno: 216270307073\n",
    "'''\n",
    "import numpy as np # linear algebra\n",
    "import pandas as pd # data processing, CSV file I/O (e.g. pd.read_csv)\n",
    "\n"
   ]
  },
  {
   "cell_type": "code",
   "execution_count": 2,
   "id": "649e004b",
   "metadata": {
    "execution": {
     "iopub.execute_input": "2023-09-01T07:39:10.955624Z",
     "iopub.status.busy": "2023-09-01T07:39:10.954949Z",
     "iopub.status.idle": "2023-09-01T07:39:10.964254Z",
     "shell.execute_reply": "2023-09-01T07:39:10.962612Z"
    },
    "papermill": {
     "duration": 0.018569,
     "end_time": "2023-09-01T07:39:10.967181",
     "exception": false,
     "start_time": "2023-09-01T07:39:10.948612",
     "status": "completed"
    },
    "tags": []
   },
   "outputs": [
    {
     "name": "stdout",
     "output_type": "stream",
     "text": [
      "[[1 2 3 4]]\n"
     ]
    }
   ],
   "source": [
    "'''to convert a list of numeric values into a one-dimensional NumPy array\n",
    "'''\n",
    "\n",
    "l1 = [1,2,3,4]\n",
    "\n",
    "print(np.array([l1]))"
   ]
  },
  {
   "cell_type": "code",
   "execution_count": 3,
   "id": "ffa0086a",
   "metadata": {
    "execution": {
     "iopub.execute_input": "2023-09-01T07:39:10.979164Z",
     "iopub.status.busy": "2023-09-01T07:39:10.978496Z",
     "iopub.status.idle": "2023-09-01T07:39:10.984958Z",
     "shell.execute_reply": "2023-09-01T07:39:10.983949Z"
    },
    "papermill": {
     "duration": 0.016079,
     "end_time": "2023-09-01T07:39:10.988053",
     "exception": false,
     "start_time": "2023-09-01T07:39:10.971974",
     "status": "completed"
    },
    "tags": []
   },
   "outputs": [
    {
     "name": "stdout",
     "output_type": "stream",
     "text": [
      "3*3 Matrix is: \n",
      " [[ 2  3  4]\n",
      " [ 5  6  7]\n",
      " [ 8  9 10]]\n"
     ]
    }
   ],
   "source": [
    "'''to create a 3x3 matrix with values ranging from 2 to 10'''\n",
    "\n",
    "a = [2,3,4]\n",
    "b = [5,6,7]\n",
    "c = [8,9,10]\n",
    "\n",
    "array = np.array([a,b,c])\n",
    "print(\"3*3 Matrix is: \\n\",array)"
   ]
  },
  {
   "cell_type": "code",
   "execution_count": 4,
   "id": "a86fbc7b",
   "metadata": {
    "execution": {
     "iopub.execute_input": "2023-09-01T07:39:11.000470Z",
     "iopub.status.busy": "2023-09-01T07:39:10.999384Z",
     "iopub.status.idle": "2023-09-01T07:39:11.007914Z",
     "shell.execute_reply": "2023-09-01T07:39:11.006808Z"
    },
    "papermill": {
     "duration": 0.020513,
     "end_time": "2023-09-01T07:39:11.013549",
     "exception": false,
     "start_time": "2023-09-01T07:39:10.993036",
     "status": "completed"
    },
    "tags": []
   },
   "outputs": [
    {
     "name": "stdout",
     "output_type": "stream",
     "text": [
      "The original array is: \n",
      " [[1 2 3 4]]\n",
      "After append value in the array: \n",
      " [1 2 3 4 5]\n"
     ]
    }
   ],
   "source": [
    "'''to append values at the end of an array'''\n",
    "\n",
    "l1 = [1,2,3,4]\n",
    "print(\"The original array is: \\n\",np.array([l1]))\n",
    "\n",
    "l1 = np.append(l1,[5])\n",
    "print(\"After append value in the array: \\n\",l1)"
   ]
  },
  {
   "cell_type": "code",
   "execution_count": 5,
   "id": "c5185df3",
   "metadata": {
    "execution": {
     "iopub.execute_input": "2023-09-01T07:39:11.026235Z",
     "iopub.status.busy": "2023-09-01T07:39:11.025746Z",
     "iopub.status.idle": "2023-09-01T07:39:11.036470Z",
     "shell.execute_reply": "2023-09-01T07:39:11.035008Z"
    },
    "papermill": {
     "duration": 0.020278,
     "end_time": "2023-09-01T07:39:11.039262",
     "exception": false,
     "start_time": "2023-09-01T07:39:11.018984",
     "status": "completed"
    },
    "tags": []
   },
   "outputs": [
    {
     "data": {
      "text/plain": [
       "'to create another shape from an array without changing its data (3*2 to 2*3)\\n'"
      ]
     },
     "execution_count": 5,
     "metadata": {},
     "output_type": "execute_result"
    }
   ],
   "source": [
    "'''to create another shape from an array without changing its data (3*2 to 2*3)\n",
    "'''\n",
    "\n"
   ]
  }
 ],
 "kernelspec": {
  "display_name": "Python 3",
  "language": "python",
  "name": "python3"
 },
 "language_info": {
  "codemirror_mode": {
   "name": "ipython",
   "version": 3
  },
  "file_extension": ".py",
  "mimetype": "text/x-python",
  "name": "python",
  "nbconvert_exporter": "python",
  "pygments_lexer": "ipython3",
  "version": "3.6.4"
 },
 "metadata": {
  "kernelspec": {
   "display_name": "Python 3",
   "language": "python",
   "name": "python3"
  },
  "language_info": {
   "codemirror_mode": {
    "name": "ipython",
    "version": 3
   },
   "file_extension": ".py",
   "mimetype": "text/x-python",
   "name": "python",
   "nbconvert_exporter": "python",
   "pygments_lexer": "ipython3",
   "version": "3.10.12"
  },
  "papermill": {
   "default_parameters": {},
   "duration": 5.463043,
   "end_time": "2023-09-01T07:39:11.668355",
   "environment_variables": {},
   "exception": null,
   "input_path": "__notebook__.ipynb",
   "output_path": "__notebook__.ipynb",
   "parameters": {},
   "start_time": "2023-09-01T07:39:06.205312",
   "version": "2.4.0"
  }
 },
 "nbformat": 4,
 "nbformat_minor": 5
}
