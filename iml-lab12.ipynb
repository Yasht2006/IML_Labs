{
 "cells": [
  {
   "cell_type": "code",
   "execution_count": 1,
   "id": "e782542e",
   "metadata": {
    "_cell_guid": "b1076dfc-b9ad-4769-8c92-a6c4dae69d19",
    "_uuid": "8f2839f25d086af736a60e9eeb907d3b93b6e0e5",
    "execution": {
     "iopub.execute_input": "2023-11-05T08:14:27.319890Z",
     "iopub.status.busy": "2023-11-05T08:14:27.319185Z",
     "iopub.status.idle": "2023-11-05T08:14:28.019457Z",
     "shell.execute_reply": "2023-11-05T08:14:28.018298Z"
    },
    "papermill": {
     "duration": 0.706532,
     "end_time": "2023-11-05T08:14:28.021998",
     "exception": false,
     "start_time": "2023-11-05T08:14:27.315466",
     "status": "completed"
    },
    "tags": []
   },
   "outputs": [],
   "source": [
    "'''Practical No.12: Write a Python program using Scikit-learn to \n",
    "print the keys, number of rows-columns, feature names and the \n",
    "description of the given data.\n",
    "\n",
    "Name: Tank Yash\n",
    "Eno: 216270307073\n",
    "'''\n",
    "import numpy as np # linear algebra\n",
    "import pandas as pd # data processing, CSV file I/O (e.g. pd.read_csv)\n",
    "\n",
    "\n"
   ]
  }
 ],
 "metadata": {
  "kernelspec": {
   "display_name": "Python 3",
   "language": "python",
   "name": "python3"
  },
  "language_info": {
   "codemirror_mode": {
    "name": "ipython",
    "version": 3
   },
   "file_extension": ".py",
   "mimetype": "text/x-python",
   "name": "python",
   "nbconvert_exporter": "python",
   "pygments_lexer": "ipython3",
   "version": "3.10.12"
  },
  "papermill": {
   "default_parameters": {},
   "duration": 4.854583,
   "end_time": "2023-11-05T08:14:28.545519",
   "environment_variables": {},
   "exception": null,
   "input_path": "__notebook__.ipynb",
   "output_path": "__notebook__.ipynb",
   "parameters": {},
   "start_time": "2023-11-05T08:14:23.690936",
   "version": "2.4.0"
  }
 },
 "nbformat": 4,
 "nbformat_minor": 5
}
