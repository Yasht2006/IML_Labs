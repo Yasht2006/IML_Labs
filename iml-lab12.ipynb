{
 "cells": [
  {
   "cell_type": "code",
   "execution_count": 1,
   "id": "12534a1f",
   "metadata": {
    "_cell_guid": "b1076dfc-b9ad-4769-8c92-a6c4dae69d19",
    "_uuid": "8f2839f25d086af736a60e9eeb907d3b93b6e0e5",
    "execution": {
     "iopub.execute_input": "2023-11-05T08:25:00.582610Z",
     "iopub.status.busy": "2023-11-05T08:25:00.582001Z",
     "iopub.status.idle": "2023-11-05T08:25:01.074292Z",
     "shell.execute_reply": "2023-11-05T08:25:01.072896Z"
    },
    "papermill": {
     "duration": 0.501704,
     "end_time": "2023-11-05T08:25:01.078745",
     "exception": false,
     "start_time": "2023-11-05T08:25:00.577041",
     "status": "completed"
    },
    "tags": []
   },
   "outputs": [
    {
     "name": "stdout",
     "output_type": "stream",
     "text": [
      "\n",
      "Keys of Iris dataset:\n",
      "Index(['Id', 'SepalLengthCm', 'SepalWidthCm', 'PetalLengthCm', 'PetalWidthCm',\n",
      "       'Species'],\n",
      "      dtype='object')\n",
      "\n",
      "Number of rows and columns of Iris dataset:\n",
      "(150, 6)\n"
     ]
    }
   ],
   "source": [
    "'''Practical No.12: Write a Python program using Scikit-learn to \n",
    "print the keys, number of rows-columns, feature names and the \n",
    "description of the given data.\n",
    "\n",
    "Name: Tank Yash\n",
    "Eno: 216270307073\n",
    "'''\n",
    "import numpy as np # linear algebra\n",
    "import pandas as pd # data processing, CSV file I/O (e.g. pd.read_csv)\n",
    "\n",
    "\n",
    "data = pd.read_csv(\"/kaggle/input/iris/Iris.csv\")\n",
    "print(\"\\nKeys of Iris dataset:\")\n",
    "print(data.keys())\n",
    "print(\"\\nNumber of rows and columns of Iris dataset:\")\n",
    "print(data.shape)"
   ]
  }
 ],
 "metadata": {
  "kernelspec": {
   "display_name": "Python 3",
   "language": "python",
   "name": "python3"
  },
  "language_info": {
   "codemirror_mode": {
    "name": "ipython",
    "version": 3
   },
   "file_extension": ".py",
   "mimetype": "text/x-python",
   "name": "python",
   "nbconvert_exporter": "python",
   "pygments_lexer": "ipython3",
   "version": "3.10.12"
  },
  "papermill": {
   "default_parameters": {},
   "duration": 5.286458,
   "end_time": "2023-11-05T08:25:01.705785",
   "environment_variables": {},
   "exception": null,
   "input_path": "__notebook__.ipynb",
   "output_path": "__notebook__.ipynb",
   "parameters": {},
   "start_time": "2023-11-05T08:24:56.419327",
   "version": "2.4.0"
  }
 },
 "nbformat": 4,
 "nbformat_minor": 5
}
