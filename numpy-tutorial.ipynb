{
 "cells": [
  {
   "cell_type": "markdown",
   "id": "8cfbbd47",
   "metadata": {
    "papermill": {
     "duration": 0.063612,
     "end_time": "2023-09-01T07:14:20.074138",
     "exception": false,
     "start_time": "2023-09-01T07:14:20.010526",
     "status": "completed"
    },
    "tags": []
   },
   "source": [
    "![](https://upload.wikimedia.org/wikipedia/commons/thumb/3/31/NumPy_logo_2020.svg/1280px-NumPy_logo_2020.svg.png)\n",
    "\n",
    "\n",
    "# NumPy Tutorial\n"
   ]
  },
  {
   "cell_type": "markdown",
   "id": "0c2a0e9c",
   "metadata": {
    "_cell_guid": "b1076dfc-b9ad-4769-8c92-a6c4dae69d19",
    "_uuid": "8f2839f25d086af736a60e9eeb907d3b93b6e0e5",
    "papermill": {
     "duration": 0.052312,
     "end_time": "2023-09-01T07:14:20.192292",
     "exception": false,
     "start_time": "2023-09-01T07:14:20.139980",
     "status": "completed"
    },
    "tags": []
   },
   "source": [
    "## Content:\n",
    "1. [Introduction to NumPY](#introduction_to_numpy)\n",
    "2. [The Basics of NumPy Arrays](#basics_of_numpy_array)\n",
    "    * [NumPy Array Attributes](#numpy_array_attributes)\n",
    "    * [NumPy Data types](#numpy_data_types)\n",
    "    * [Creating Arrays from Scratch](#creating_arrays_from_scratch)\n",
    "    * [Array Indexing: Accessing Single Elements](#array_indexing)\n",
    "    * [Array Slicing: Accessing Subarrays](#array_slicing)\n",
    "    * [Reshaping of NumPu Arrays](#array_reshaping)\n",
    "    * [Array Concatenation and Splitting](#array_concatenation_splitting)\n",
    "5. [Computation on NumPy Arrays: Universal Functions](#computation_on_numpy_arrays)\n",
    "      * [Exploring NumPy’s UFuncs](#numpy_ufuncs)\n",
    "         * [Array arithmetic](#array_arithmetic)  \n",
    "         * [Exponents and logarithms](#exponenets_and_logarithms)\n",
    "         * [Absolute value](#absolute_value)\n",
    "         * [Trigonometric functions](#trigonometric_functions)\n",
    "6. [Aggregations: Min, Max, and Everything in Between](#aggregation_min_max)\n",
    "      * [Summing the Values in an Array](#summing_values_in_array)\n",
    "      * [Minimum and Maximum](#minimum_and_maximum)\n",
    "      * [Multidimensional aggregates](#multidimensional_aggregates)\n",
    "7. [Computation on Arrays: Broadcasting](#broadcasting)\n",
    "      * [Introducing Broadcasting](#introducing_broadcasting)\n",
    "      * [Visualization of NumPy broadcasting](#visulization_of_numpy_broadcasting)\n",
    "      * [Broadcasting examples](#broadcasting_examples)\n",
    "8. [Comparisons, Masks, and Boolean Logic](#comparisions_masks_booleanlogic)\n",
    "      * [Comparison Operators as ufuncs](#comparison_operators_as_ufuncs)\n",
    "      * [Comparison operators and their equivalent](#comparision_operators_and_equivalent)\n",
    "      * [Working with Boolean Arrays ](#working_with_boolean_arrays)\n",
    "9. [Sorting Arrays](#sorting_arrays)\n",
    "      * [Fast Sorting in NumPy: np.sort and np.argsort](#fast_sorting)\n",
    "      * [Sorting along rows or columns](#sorting_rows_columns) \n",
    "10. [References](#references)   "
   ]
  },
  {
   "cell_type": "markdown",
   "id": "3b3c3bdc",
   "metadata": {
    "papermill": {
     "duration": 0.053269,
     "end_time": "2023-09-01T07:14:20.299413",
     "exception": false,
     "start_time": "2023-09-01T07:14:20.246144",
     "status": "completed"
    },
    "tags": []
   },
   "source": [
    "### Learning Objectives:\n",
    "\n",
    "* Understand the difference between one-, two- and n-dimensional arrays in NumPy.\n",
    "* Understand axis and shape properties for n-dimensional arrays.\n",
    "* Understand how to apply some linear algebra operations to n-dimensional arrays without using for-loops."
   ]
  },
  {
   "cell_type": "markdown",
   "id": "e69e516c",
   "metadata": {
    "papermill": {
     "duration": 0.04882,
     "end_time": "2023-09-01T07:14:20.400668",
     "exception": false,
     "start_time": "2023-09-01T07:14:20.351848",
     "status": "completed"
    },
    "tags": []
   },
   "source": [
    "<a id=\"introduction_to_numpy\"></a> <br>\n",
    "# Introduction to NumPy\n",
    "* NumPy is the core library for scientific computing in Python. \n",
    "* It provides a high-performance multi-dimensional array object, and tools for working with these arrays.\n",
    "* NumPy is also incredibly fast, as it has bindings to C libraries.\n",
    "\n",
    "Below statement imports ***numpy*** package and name is as ***np***."
   ]
  },
  {
   "cell_type": "code",
   "execution_count": 1,
   "id": "17ac73ee",
   "metadata": {
    "execution": {
     "iopub.execute_input": "2023-09-01T07:14:20.501915Z",
     "iopub.status.busy": "2023-09-01T07:14:20.500921Z",
     "iopub.status.idle": "2023-09-01T07:14:20.515985Z",
     "shell.execute_reply": "2023-09-01T07:14:20.514891Z"
    },
    "papermill": {
     "duration": 0.06924,
     "end_time": "2023-09-01T07:14:20.519030",
     "exception": false,
     "start_time": "2023-09-01T07:14:20.449790",
     "status": "completed"
    },
    "tags": []
   },
   "outputs": [],
   "source": [
    "import numpy as np"
   ]
  },
  {
   "cell_type": "markdown",
   "id": "c902bd5c",
   "metadata": {
    "papermill": {
     "duration": 0.051659,
     "end_time": "2023-09-01T07:14:20.621293",
     "exception": false,
     "start_time": "2023-09-01T07:14:20.569634",
     "status": "completed"
    },
    "tags": []
   },
   "source": [
    "<a id=\"basics_of_numpy_array\"></a> <br>\n",
    "# Basics of NumPy Array\n",
    "\n",
    "* At the core of the NumPy package, is the ***ndarray*** object. It is also known by the alias array. \n",
    "* ***ndarray*** is an N-dimensional array, which describes a collection of “items” of the same type.\n",
    "* All ***ndarrays*** are ***homogeneous***: every item takes up the same size block of memory, and all blocks are interpreted in exactly the same way. \n",
    "* ***ndarray*** is  indexed by a tuple of non-negative integers. \n",
    "* ***numpy.array*** is not the same as the Standard Python Library class array.array, which only handles one-dimensional arrays and offers less functionality.\n",
    "* Many operations performed on ***ndarray*** uses compiled code for performance improvement. \n",
    "\n",
    " \n",
    "**There are several important differences between NumPy arrays and the standard Python sequences:**\n",
    "\n",
    "1. NumPy arrays have a fixed size at creation, unlike Python lists (which can grow dynamically). Changing the size of an ndarray will create a new array and delete the original.\n",
    "2. The elements in a NumPy array are all required to be of the same data type, and thus will be the same size in memory. The exception: one can have arrays of (Python, including NumPy) objects, thereby allowing for arrays of different sized elements.\n",
    "3. NumPy arrays facilitate advanced mathematical and other types of operations on large numbers of data. Typically, such operations are executed more efficiently and with less code than is possible using Python’s built-in sequences.\n",
    "4. A growing plethora of scientific and mathematical Python-based packages are using NumPy arrays; though these typically support Python-sequence input, they convert such input to NumPy arrays prior to processing, and they often output NumPy arrays. In other words, in order to efficiently use much (perhaps even most) of today’s scientific/mathematical Python-based software, just knowing how to use Python’s built-in sequence types is insufficient - one also needs to know how to use NumPy arrays.\n",
    "\n",
    "We can create an array by directly converting a list or list of lists. Below statement creates NumPy array with 3 elements."
   ]
  },
  {
   "cell_type": "code",
   "execution_count": 2,
   "id": "115911fa",
   "metadata": {
    "execution": {
     "iopub.execute_input": "2023-09-01T07:14:20.736106Z",
     "iopub.status.busy": "2023-09-01T07:14:20.735605Z",
     "iopub.status.idle": "2023-09-01T07:14:20.744630Z",
     "shell.execute_reply": "2023-09-01T07:14:20.742924Z"
    },
    "papermill": {
     "duration": 0.076688,
     "end_time": "2023-09-01T07:14:20.748457",
     "exception": false,
     "start_time": "2023-09-01T07:14:20.671769",
     "status": "completed"
    },
    "tags": []
   },
   "outputs": [
    {
     "name": "stdout",
     "output_type": "stream",
     "text": [
      "a:\n",
      " [1 2 3]\n"
     ]
    }
   ],
   "source": [
    "a = np.array([1, 2, 3])\n",
    "print(\"a:\\n\", a)"
   ]
  },
  {
   "cell_type": "markdown",
   "id": "16c1a403",
   "metadata": {
    "papermill": {
     "duration": 0.050856,
     "end_time": "2023-09-01T07:14:20.850932",
     "exception": false,
     "start_time": "2023-09-01T07:14:20.800076",
     "status": "completed"
    },
    "tags": []
   },
   "source": [
    "NumPy arrays can be multi-dimensional too."
   ]
  },
  {
   "cell_type": "code",
   "execution_count": 3,
   "id": "89254d9d",
   "metadata": {
    "execution": {
     "iopub.execute_input": "2023-09-01T07:14:20.956681Z",
     "iopub.status.busy": "2023-09-01T07:14:20.955884Z",
     "iopub.status.idle": "2023-09-01T07:14:20.962975Z",
     "shell.execute_reply": "2023-09-01T07:14:20.961494Z"
    },
    "papermill": {
     "duration": 0.06263,
     "end_time": "2023-09-01T07:14:20.965972",
     "exception": false,
     "start_time": "2023-09-01T07:14:20.903342",
     "status": "completed"
    },
    "tags": []
   },
   "outputs": [
    {
     "name": "stdout",
     "output_type": "stream",
     "text": [
      "b:\n",
      " [[1 2 3]\n",
      " [4 5 6]\n",
      " [7 8 9]]\n"
     ]
    }
   ],
   "source": [
    "b = np.array([[1, 2, 3], [4, 5, 6], [7, 8, 9]])\n",
    "print(\"b:\\n\", b)"
   ]
  },
  {
   "cell_type": "markdown",
   "id": "b6608bd7",
   "metadata": {
    "papermill": {
     "duration": 0.05034,
     "end_time": "2023-09-01T07:14:21.068337",
     "exception": false,
     "start_time": "2023-09-01T07:14:21.017997",
     "status": "completed"
    },
    "tags": []
   },
   "source": [
    "<a id=\"numpy_array_attributes\"></a> <br>\n",
    "## NumPy Array Attributes\n",
    "The more important attributes of an ***ndarray*** object are:\n",
    "\n",
    "#### ***ndarray.ndim***: \n",
    "> The number of axes(dimensions) of the array.\n",
    "#### ***ndarray.shape***: \n",
    "> The dimension of array. This is a tuple of integers indicating the size of the array in each dimension. For a matrix with n rows and m columns, shape will be (n,m). The length of the shape tuple is therefore the number of axes, ndim.\n",
    "#### ***ndarray.size***: \n",
    "> The total number of elements of the array or It is equal to the product of the elements of the shape.\n",
    "#### ***ndarray.dtype***: \n",
    "> The type of the elements in the array. One can create or specify dtype’s using standard Python types. Additionally NumPy provides types of its own like numpy.int32, numpy.int16, and numpy.float64.\n",
    "#### ***ndarray.itemsize***: \n",
    "> The size in bytes of each element of the array. For example, an array of elements of type float64 has itemsize 8 (=64/8), while one of type int32 has itemsize 4 (=32/8). It is equivalent to ndarray.dtype.itemsize.\n",
    "#### ***ndarray.data***: \n",
    "> The buffer containing the actual elements of the array. Normally, we won’t need to use this attribute because we will access the elements in an array using indexing facilities\n"
   ]
  },
  {
   "cell_type": "code",
   "execution_count": 4,
   "id": "14874a69",
   "metadata": {
    "execution": {
     "iopub.execute_input": "2023-09-01T07:14:21.170051Z",
     "iopub.status.busy": "2023-09-01T07:14:21.168761Z",
     "iopub.status.idle": "2023-09-01T07:14:21.178366Z",
     "shell.execute_reply": "2023-09-01T07:14:21.177134Z"
    },
    "papermill": {
     "duration": 0.063611,
     "end_time": "2023-09-01T07:14:21.181306",
     "exception": false,
     "start_time": "2023-09-01T07:14:21.117695",
     "status": "completed"
    },
    "tags": []
   },
   "outputs": [
    {
     "name": "stdout",
     "output_type": "stream",
     "text": [
      "a1: \n",
      " [1 2 3]\n",
      "\n",
      "Number of axes/dimensions in the array:  1\n",
      "Shape of the array:  (3,)\n",
      "Size of the array/Number of Elements in the:  3\n",
      "Type of the elements in the array:  int64\n",
      "Size of the elements in the array:  8\n",
      "Buffer containing the array:  <memory at 0x7f50f749af80>\n"
     ]
    }
   ],
   "source": [
    "a1 = np.array([1, 2, 3])\n",
    "print(\"a1: \\n\", a1)\n",
    "\n",
    "print(\"\\nNumber of axes/dimensions in the array: \", a1.ndim)\n",
    "print(\"Shape of the array: \", a1.shape)\n",
    "print(\"Size of the array/Number of Elements in the: \", a1.size)\n",
    "print(\"Type of the elements in the array: \", a1.dtype)\n",
    "print(\"Size of the elements in the array: \", a1.itemsize)\n",
    "print(\"Buffer containing the array: \", a1.data)"
   ]
  },
  {
   "cell_type": "markdown",
   "id": "3c14a002",
   "metadata": {
    "papermill": {
     "duration": 0.051636,
     "end_time": "2023-09-01T07:14:21.282964",
     "exception": false,
     "start_time": "2023-09-01T07:14:21.231328",
     "status": "completed"
    },
    "tags": []
   },
   "source": [
    "In NumPy dimensions are called axes. The number of dimensions is the rank of the array; the shape of an array is a tuple of integers giving the size of the array along each dimension.\n",
    "\n",
    "In above example, the array has one axis. That axis has *3* elements in it, so it has a length of 3 and shape of *(3, )*."
   ]
  },
  {
   "cell_type": "code",
   "execution_count": 5,
   "id": "4a3d5d23",
   "metadata": {
    "execution": {
     "iopub.execute_input": "2023-09-01T07:14:21.387251Z",
     "iopub.status.busy": "2023-09-01T07:14:21.386773Z",
     "iopub.status.idle": "2023-09-01T07:14:21.396998Z",
     "shell.execute_reply": "2023-09-01T07:14:21.395294Z"
    },
    "papermill": {
     "duration": 0.064825,
     "end_time": "2023-09-01T07:14:21.399908",
     "exception": false,
     "start_time": "2023-09-01T07:14:21.335083",
     "status": "completed"
    },
    "tags": []
   },
   "outputs": [
    {
     "name": "stdout",
     "output_type": "stream",
     "text": [
      "a2: \n",
      " [[1. 2. 3.]\n",
      " [4. 5. 6.]]\n",
      "\n",
      "Number of axes/dimensions in the array:  2\n",
      "Shape of the array:  (2, 3)\n",
      "Size of the array/Number of Elements in the:  6\n",
      "Type of the elements in the array:  float64\n",
      "Size of the elements in the array:  8\n",
      "Buffer containing the array:  <memory at 0x7f50f726c2b0>\n"
     ]
    }
   ],
   "source": [
    "a2 = np.array([[1., 2, 3],\n",
    "               [4, 5, 6]])\n",
    "print(\"a2: \\n\", a2)\n",
    "\n",
    "print(\"\\nNumber of axes/dimensions in the array: \", a2.ndim)\n",
    "print(\"Shape of the array: \", a2.shape)\n",
    "print(\"Size of the array/Number of Elements in the: \", a2.size)\n",
    "print(\"Type of the elements in the array: \", a2.dtype)\n",
    "print(\"Size of the elements in the array: \", a2.itemsize)\n",
    "print(\"Buffer containing the array: \", a2.data)"
   ]
  },
  {
   "cell_type": "markdown",
   "id": "c1ebe007",
   "metadata": {
    "papermill": {
     "duration": 0.051343,
     "end_time": "2023-09-01T07:14:21.502056",
     "exception": false,
     "start_time": "2023-09-01T07:14:21.450713",
     "status": "completed"
    },
    "tags": []
   },
   "source": [
    "* Since NumPy arrays can contain only homogeneous datatypes, values will be upcast if the types do not match. In above example one element of 2-dim list is of type float and remaining elements of type integer, so it will convert all elements into float64.\n",
    "\n",
    "* In the example above, the array has *2* axes. The first axis has a length of *2* and the second axis has a length of *3*, so shape of the array is *(2, 3)*."
   ]
  },
  {
   "cell_type": "markdown",
   "id": "86ce1cc4",
   "metadata": {
    "papermill": {
     "duration": 0.052281,
     "end_time": "2023-09-01T07:14:21.604455",
     "exception": false,
     "start_time": "2023-09-01T07:14:21.552174",
     "status": "completed"
    },
    "tags": []
   },
   "source": [
    "<a id=\"numpy_data_types\"></a> <br>\n",
    "## NumPy Data types:\n",
    "NumPy supports most of the Python data types.By default Python have these data types:\n",
    "\n",
    "1. ***strings*** - used to represent text data, the text is given under quote marks. e.g. *\"ABCD\"*\n",
    "2. ***integer*** - used to represent integer numbers. e.g. *-1, -2, -3*\n",
    "3. ***float*** - used to represent real numbers. e.g. *1.2, 42.42*\n",
    "4. ***boolean*** - used to represent *True* or *False*.\n",
    "5. ***complex*** - used to represent complex numbers. e.g. *1.0 + 2.0j, 1.5 + 2.5j*\n",
    "\n",
    "Apart from default Python data types NumPy supports additional data types. List of most commonly used numeric and boolean data types in NumPy:\n",
    "\n",
    "1. ***int8, int16, int32, int64*** - signed integer types with different bit sizes\n",
    "2. ***uint8, uint16, uint32, uint64*** - unsigned integer types with different bit sizes\n",
    "3. ***float32, float64 - floating*** -point types with different precision levels\n",
    "4. ***complex64, complex128*** - complex number types with different precision levels\n",
    "5. ***bool*** - boolean type with one byte size\n",
    "\n",
    "<center><img src=\"https://1.bp.blogspot.com/-xrnk-4zD2Ac/W1LCbjrSjjI/AAAAAAAAXUY/8QJ0AZBxsQ0h6BgUV4kml0NqIO_hOs2KwCLcBGAs/s1600/4212_t2-1.PNG\" alt=\"cce\" border=\"0\" width=\"600px\"></center>"
   ]
  },
  {
   "cell_type": "code",
   "execution_count": 6,
   "id": "dea8c7db",
   "metadata": {
    "execution": {
     "iopub.execute_input": "2023-09-01T07:14:21.710249Z",
     "iopub.status.busy": "2023-09-01T07:14:21.709566Z",
     "iopub.status.idle": "2023-09-01T07:14:21.718461Z",
     "shell.execute_reply": "2023-09-01T07:14:21.717036Z"
    },
    "papermill": {
     "duration": 0.065184,
     "end_time": "2023-09-01T07:14:21.721077",
     "exception": false,
     "start_time": "2023-09-01T07:14:21.655893",
     "status": "completed"
    },
    "tags": []
   },
   "outputs": [
    {
     "data": {
      "text/plain": [
       "array([1., 2., 3., 4.], dtype=float32)"
      ]
     },
     "execution_count": 6,
     "metadata": {},
     "output_type": "execute_result"
    }
   ],
   "source": [
    "# You can specify the type of data inside the array.\n",
    "np.array([1, 2, 3, 4], dtype=np.float32)"
   ]
  },
  {
   "cell_type": "code",
   "execution_count": 7,
   "id": "2bab1621",
   "metadata": {
    "execution": {
     "iopub.execute_input": "2023-09-01T07:14:21.824376Z",
     "iopub.status.busy": "2023-09-01T07:14:21.823971Z",
     "iopub.status.idle": "2023-09-01T07:14:21.831888Z",
     "shell.execute_reply": "2023-09-01T07:14:21.830140Z"
    },
    "papermill": {
     "duration": 0.062815,
     "end_time": "2023-09-01T07:14:21.835305",
     "exception": false,
     "start_time": "2023-09-01T07:14:21.772490",
     "status": "completed"
    },
    "tags": []
   },
   "outputs": [
    {
     "name": "stdout",
     "output_type": "stream",
     "text": [
      "a3: \n",
      " [[ 0  1  2  3  4]\n",
      " [ 5  6  7  8  9]\n",
      " [10 11 12 13 14]]\n",
      "Shape of the array:  (3, 5)\n",
      "Type of the elements in the array:  int32\n"
     ]
    }
   ],
   "source": [
    "a3 = np.array([[ 0,  1,  2,  3,  4],\n",
    "               [ 5,  6,  7,  8,  9],\n",
    "               [10, 11, 12, 13, 14]], dtype=\"int32\")\n",
    "print(\"a3: \\n\", a3)\n",
    "\n",
    "print(\"Shape of the array: \", a3.shape)\n",
    "print(\"Type of the elements in the array: \", a3.dtype)"
   ]
  },
  {
   "cell_type": "markdown",
   "id": "ffa1d638",
   "metadata": {
    "papermill": {
     "duration": 0.05228,
     "end_time": "2023-09-01T07:14:21.938461",
     "exception": false,
     "start_time": "2023-09-01T07:14:21.886181",
     "status": "completed"
    },
    "tags": []
   },
   "source": [
    "<a id='creating_arrays_from_scratch'></a><br>\n",
    "## Creating Arrays from Scratch Using Built-in Methods"
   ]
  },
  {
   "cell_type": "markdown",
   "id": "8f2327f2",
   "metadata": {
    "papermill": {
     "duration": 0.053913,
     "end_time": "2023-09-01T07:14:22.044228",
     "exception": false,
     "start_time": "2023-09-01T07:14:21.990315",
     "status": "completed"
    },
    "tags": []
   },
   "source": [
    "#### ***numpy.zeros(shape, dtype=float, order='C', *, like=None)***\n",
    "* Return a new array of given shape and type, filled with zeros."
   ]
  },
  {
   "cell_type": "code",
   "execution_count": 8,
   "id": "68521a38",
   "metadata": {
    "execution": {
     "iopub.execute_input": "2023-09-01T07:14:22.150931Z",
     "iopub.status.busy": "2023-09-01T07:14:22.150513Z",
     "iopub.status.idle": "2023-09-01T07:14:22.157378Z",
     "shell.execute_reply": "2023-09-01T07:14:22.155880Z"
    },
    "papermill": {
     "duration": 0.064643,
     "end_time": "2023-09-01T07:14:22.160379",
     "exception": false,
     "start_time": "2023-09-01T07:14:22.095736",
     "status": "completed"
    },
    "tags": []
   },
   "outputs": [
    {
     "name": "stdout",
     "output_type": "stream",
     "text": [
      "a:  [0 0 0 0 0 0 0 0 0 0]\n"
     ]
    }
   ],
   "source": [
    "# Create an array of 10 elements filled with zeros of type integer\n",
    "a = np.zeros(10, dtype=\"int\")\n",
    "print(\"a: \", a)"
   ]
  },
  {
   "cell_type": "code",
   "execution_count": 9,
   "id": "1600661b",
   "metadata": {
    "execution": {
     "iopub.execute_input": "2023-09-01T07:14:22.268302Z",
     "iopub.status.busy": "2023-09-01T07:14:22.267837Z",
     "iopub.status.idle": "2023-09-01T07:14:22.273775Z",
     "shell.execute_reply": "2023-09-01T07:14:22.272685Z"
    },
    "papermill": {
     "duration": 0.065936,
     "end_time": "2023-09-01T07:14:22.276638",
     "exception": false,
     "start_time": "2023-09-01T07:14:22.210702",
     "status": "completed"
    },
    "tags": []
   },
   "outputs": [
    {
     "name": "stdout",
     "output_type": "stream",
     "text": [
      "b: \n",
      " [[0. 0. 0. 0. 0.]\n",
      " [0. 0. 0. 0. 0.]\n",
      " [0. 0. 0. 0. 0.]\n",
      " [0. 0. 0. 0. 0.]]\n"
     ]
    }
   ],
   "source": [
    "# Create a 4x5 array/matrix filled with zeros of type float\n",
    "b = np.zeros((4, 5), dtype=\"float32\")\n",
    "print(\"b: \\n\", b)"
   ]
  },
  {
   "cell_type": "markdown",
   "id": "e6d4e45f",
   "metadata": {
    "papermill": {
     "duration": 0.050884,
     "end_time": "2023-09-01T07:14:22.379465",
     "exception": false,
     "start_time": "2023-09-01T07:14:22.328581",
     "status": "completed"
    },
    "tags": []
   },
   "source": [
    "#### ***numpy.ones(shape, dtype=None, order='C', *, like=None)***\n",
    "* Return a new array of given shape and type, filled with ones."
   ]
  },
  {
   "cell_type": "code",
   "execution_count": 10,
   "id": "ac8070cd",
   "metadata": {
    "execution": {
     "iopub.execute_input": "2023-09-01T07:14:22.505328Z",
     "iopub.status.busy": "2023-09-01T07:14:22.504709Z",
     "iopub.status.idle": "2023-09-01T07:14:22.514307Z",
     "shell.execute_reply": "2023-09-01T07:14:22.512988Z"
    },
    "papermill": {
     "duration": 0.079047,
     "end_time": "2023-09-01T07:14:22.518529",
     "exception": false,
     "start_time": "2023-09-01T07:14:22.439482",
     "status": "completed"
    },
    "tags": []
   },
   "outputs": [
    {
     "name": "stdout",
     "output_type": "stream",
     "text": [
      "a:  [1. 1. 1. 1. 1. 1. 1. 1. 1. 1. 1. 1. 1. 1. 1.]\n"
     ]
    }
   ],
   "source": [
    "# Create an array of 15 elements filled with ones of type integer\n",
    "a = np.ones(15)\n",
    "print(\"a: \", a)"
   ]
  },
  {
   "cell_type": "code",
   "execution_count": 11,
   "id": "392fff22",
   "metadata": {
    "execution": {
     "iopub.execute_input": "2023-09-01T07:14:22.625575Z",
     "iopub.status.busy": "2023-09-01T07:14:22.625178Z",
     "iopub.status.idle": "2023-09-01T07:14:22.632000Z",
     "shell.execute_reply": "2023-09-01T07:14:22.630768Z"
    },
    "papermill": {
     "duration": 0.063081,
     "end_time": "2023-09-01T07:14:22.634602",
     "exception": false,
     "start_time": "2023-09-01T07:14:22.571521",
     "status": "completed"
    },
    "tags": []
   },
   "outputs": [
    {
     "name": "stdout",
     "output_type": "stream",
     "text": [
      "b: \n",
      " [[1. 1. 1. 1. 1. 1.]\n",
      " [1. 1. 1. 1. 1. 1.]\n",
      " [1. 1. 1. 1. 1. 1.]]\n"
     ]
    }
   ],
   "source": [
    "# Create a 3x6 array/matrix filled with ones of type float\n",
    "b = np.ones((3, 6), dtype=\"float32\")\n",
    "print(\"b: \\n\", b)"
   ]
  },
  {
   "cell_type": "markdown",
   "id": "62a9e518",
   "metadata": {
    "papermill": {
     "duration": 0.052197,
     "end_time": "2023-09-01T07:14:22.739574",
     "exception": false,
     "start_time": "2023-09-01T07:14:22.687377",
     "status": "completed"
    },
    "tags": []
   },
   "source": [
    "#### ***numpy.full(shape, fill_value, dtype=None, order='C', *, like=None)***\n",
    "* Return a new array of given shape and type, filled with fill_value."
   ]
  },
  {
   "cell_type": "code",
   "execution_count": 12,
   "id": "f5b23d04",
   "metadata": {
    "execution": {
     "iopub.execute_input": "2023-09-01T07:14:22.847300Z",
     "iopub.status.busy": "2023-09-01T07:14:22.846857Z",
     "iopub.status.idle": "2023-09-01T07:14:22.854322Z",
     "shell.execute_reply": "2023-09-01T07:14:22.852812Z"
    },
    "papermill": {
     "duration": 0.065719,
     "end_time": "2023-09-01T07:14:22.857379",
     "exception": false,
     "start_time": "2023-09-01T07:14:22.791660",
     "status": "completed"
    },
    "tags": []
   },
   "outputs": [
    {
     "name": "stdout",
     "output_type": "stream",
     "text": [
      "c: \n",
      " [[3.14 3.14 3.14 3.14 3.14]\n",
      " [3.14 3.14 3.14 3.14 3.14]\n",
      " [3.14 3.14 3.14 3.14 3.14]]\n"
     ]
    }
   ],
   "source": [
    "# Create a 3x5 array/matrix filled with 3.14\n",
    "c = np.full((3, 5), 3.14)\n",
    "print(\"c: \\n\", c)"
   ]
  },
  {
   "cell_type": "markdown",
   "id": "4ddd9259",
   "metadata": {
    "papermill": {
     "duration": 0.053067,
     "end_time": "2023-09-01T07:14:22.965073",
     "exception": false,
     "start_time": "2023-09-01T07:14:22.912006",
     "status": "completed"
    },
    "tags": []
   },
   "source": [
    "#### ***numpy.arange([start, ]stop, [step, ]dtype=None, *, like=None)***\n",
    "* Return evenly spaced values within a given interval."
   ]
  },
  {
   "cell_type": "code",
   "execution_count": 13,
   "id": "d5936f10",
   "metadata": {
    "execution": {
     "iopub.execute_input": "2023-09-01T07:14:23.072591Z",
     "iopub.status.busy": "2023-09-01T07:14:23.072135Z",
     "iopub.status.idle": "2023-09-01T07:14:23.080172Z",
     "shell.execute_reply": "2023-09-01T07:14:23.078287Z"
    },
    "papermill": {
     "duration": 0.065874,
     "end_time": "2023-09-01T07:14:23.083169",
     "exception": false,
     "start_time": "2023-09-01T07:14:23.017295",
     "status": "completed"
    },
    "tags": []
   },
   "outputs": [
    {
     "name": "stdout",
     "output_type": "stream",
     "text": [
      "d:  [ 0  2  4  6  8 10 12 14 16 18]\n"
     ]
    }
   ],
   "source": [
    "# Create an array filled with a linear sequence Starting at 0, ending at 20, stepping by 2\n",
    "# (this is similar to the built-in range() function)\n",
    "d = np.arange(0, 20, 2)\n",
    "print(\"d: \", d)"
   ]
  },
  {
   "cell_type": "markdown",
   "id": "9d50c59c",
   "metadata": {
    "papermill": {
     "duration": 0.051784,
     "end_time": "2023-09-01T07:14:23.187849",
     "exception": false,
     "start_time": "2023-09-01T07:14:23.136065",
     "status": "completed"
    },
    "tags": []
   },
   "source": [
    "#### ***numpy.linspace(start, stop, num=50, endpoint=True, retstep=False, dtype=None, axis=0)***\n",
    "* Return evenly spaced numbers over a specified interval.\n",
    "* Returns num evenly spaced samples, calculated over the interval [start, stop].\n",
    "* The endpoint of the interval can optionally be excluded."
   ]
  },
  {
   "cell_type": "code",
   "execution_count": 14,
   "id": "4b914ab5",
   "metadata": {
    "execution": {
     "iopub.execute_input": "2023-09-01T07:14:23.306502Z",
     "iopub.status.busy": "2023-09-01T07:14:23.305906Z",
     "iopub.status.idle": "2023-09-01T07:14:23.314437Z",
     "shell.execute_reply": "2023-09-01T07:14:23.312923Z"
    },
    "papermill": {
     "duration": 0.078538,
     "end_time": "2023-09-01T07:14:23.317402",
     "exception": false,
     "start_time": "2023-09-01T07:14:23.238864",
     "status": "completed"
    },
    "tags": []
   },
   "outputs": [
    {
     "name": "stdout",
     "output_type": "stream",
     "text": [
      "e:  [0.   0.25 0.5  0.75 1.  ]\n"
     ]
    }
   ],
   "source": [
    "# Create an array of five values evenly spaced between 0 and 1\n",
    "e = np.linspace(0, 1, 5)\n",
    "print(\"e: \", e)"
   ]
  },
  {
   "cell_type": "markdown",
   "id": "e892ff4c",
   "metadata": {
    "papermill": {
     "duration": 0.058987,
     "end_time": "2023-09-01T07:14:23.431741",
     "exception": false,
     "start_time": "2023-09-01T07:14:23.372754",
     "status": "completed"
    },
    "tags": []
   },
   "source": [
    "#### ***random.random(size=None)***\n",
    "* Return random floats uniformly distributed over the range [0.0, 1.0). \n"
   ]
  },
  {
   "cell_type": "code",
   "execution_count": 15,
   "id": "9cf0445c",
   "metadata": {
    "execution": {
     "iopub.execute_input": "2023-09-01T07:14:23.549577Z",
     "iopub.status.busy": "2023-09-01T07:14:23.549131Z",
     "iopub.status.idle": "2023-09-01T07:14:23.555402Z",
     "shell.execute_reply": "2023-09-01T07:14:23.554315Z"
    },
    "papermill": {
     "duration": 0.073437,
     "end_time": "2023-09-01T07:14:23.559524",
     "exception": false,
     "start_time": "2023-09-01T07:14:23.486087",
     "status": "completed"
    },
    "tags": []
   },
   "outputs": [
    {
     "name": "stdout",
     "output_type": "stream",
     "text": [
      "f: \n",
      " [[0.07260824 0.20010088 0.40322426]\n",
      " [0.35122092 0.49638542 0.09952664]\n",
      " [0.39190947 0.84201562 0.60744817]]\n"
     ]
    }
   ],
   "source": [
    "# Create a 3x3 array of uniformly distributed random values between 0 and 1\n",
    "f = np.random.random((3, 3))\n",
    "print(\"f: \\n\", f)"
   ]
  },
  {
   "cell_type": "markdown",
   "id": "c2c6f4b7",
   "metadata": {
    "papermill": {
     "duration": 0.052163,
     "end_time": "2023-09-01T07:14:23.675235",
     "exception": false,
     "start_time": "2023-09-01T07:14:23.623072",
     "status": "completed"
    },
    "tags": []
   },
   "source": [
    "#### ***random.normal(loc=0.0, scale=1.0, size=None)***\n",
    "* Draw random samples from a normal (Gaussian) distribution."
   ]
  },
  {
   "cell_type": "code",
   "execution_count": 16,
   "id": "820eae25",
   "metadata": {
    "execution": {
     "iopub.execute_input": "2023-09-01T07:14:23.794616Z",
     "iopub.status.busy": "2023-09-01T07:14:23.794193Z",
     "iopub.status.idle": "2023-09-01T07:14:23.800801Z",
     "shell.execute_reply": "2023-09-01T07:14:23.799774Z"
    },
    "papermill": {
     "duration": 0.069414,
     "end_time": "2023-09-01T07:14:23.804629",
     "exception": false,
     "start_time": "2023-09-01T07:14:23.735215",
     "status": "completed"
    },
    "tags": []
   },
   "outputs": [
    {
     "name": "stdout",
     "output_type": "stream",
     "text": [
      "g: \n",
      " [[ 2.36397824  0.75587495  0.31580312]\n",
      " [-0.59527319 -0.67041392 -0.62663138]\n",
      " [ 0.70491113 -0.84057036  0.23623393]]\n"
     ]
    }
   ],
   "source": [
    "# Create a 3x3 array of normally distributed random values with mean 0 and standard deviation 1\n",
    "g = np.random.normal(0, 1,(3, 3))\n",
    "print(\"g: \\n\", g)"
   ]
  },
  {
   "cell_type": "markdown",
   "id": "b053b607",
   "metadata": {
    "papermill": {
     "duration": 0.054423,
     "end_time": "2023-09-01T07:14:23.910782",
     "exception": false,
     "start_time": "2023-09-01T07:14:23.856359",
     "status": "completed"
    },
    "tags": []
   },
   "source": [
    "#### ***random.randint(low, high=None, size=None, dtype=int)***\n",
    "* Return random integers from low (inclusive) to high (exclusive). \n",
    "* Return random integers from the “discrete uniform” distribution of the specified dtype in the “half-open” interval [low, high). If high is None (the default), then results are from [0, low)."
   ]
  },
  {
   "cell_type": "code",
   "execution_count": 17,
   "id": "9c6951d4",
   "metadata": {
    "execution": {
     "iopub.execute_input": "2023-09-01T07:14:24.025562Z",
     "iopub.status.busy": "2023-09-01T07:14:24.025129Z",
     "iopub.status.idle": "2023-09-01T07:14:24.034507Z",
     "shell.execute_reply": "2023-09-01T07:14:24.033115Z"
    },
    "papermill": {
     "duration": 0.070322,
     "end_time": "2023-09-01T07:14:24.037888",
     "exception": false,
     "start_time": "2023-09-01T07:14:23.967566",
     "status": "completed"
    },
    "tags": []
   },
   "outputs": [
    {
     "name": "stdout",
     "output_type": "stream",
     "text": [
      "h: \n",
      " [[5 6 9]\n",
      " [4 0 9]\n",
      " [9 8 4]]\n"
     ]
    }
   ],
   "source": [
    "# Create a 3x3 array of random integers in the interval [0, 10)\n",
    "h = np.random.randint(0, 10,(3, 3))\n",
    "print(\"h: \\n\", h)"
   ]
  },
  {
   "cell_type": "markdown",
   "id": "f11b1e00",
   "metadata": {
    "papermill": {
     "duration": 0.052972,
     "end_time": "2023-09-01T07:14:24.144739",
     "exception": false,
     "start_time": "2023-09-01T07:14:24.091767",
     "status": "completed"
    },
    "tags": []
   },
   "source": [
    "#### ***numpy.eye(N, M=None, k=0, dtype=<class 'float'>, order='C', *, like=None)***\n",
    "* Return a 2-D array with ones on the diagonal and zeros elsewhere."
   ]
  },
  {
   "cell_type": "code",
   "execution_count": 18,
   "id": "636370bc",
   "metadata": {
    "execution": {
     "iopub.execute_input": "2023-09-01T07:14:24.252801Z",
     "iopub.status.busy": "2023-09-01T07:14:24.252392Z",
     "iopub.status.idle": "2023-09-01T07:14:24.259351Z",
     "shell.execute_reply": "2023-09-01T07:14:24.257816Z"
    },
    "papermill": {
     "duration": 0.06407,
     "end_time": "2023-09-01T07:14:24.262779",
     "exception": false,
     "start_time": "2023-09-01T07:14:24.198709",
     "status": "completed"
    },
    "tags": []
   },
   "outputs": [
    {
     "name": "stdout",
     "output_type": "stream",
     "text": [
      "i: \n",
      " [[1. 0. 0. 0.]\n",
      " [0. 1. 0. 0.]\n",
      " [0. 0. 1. 0.]\n",
      " [0. 0. 0. 1.]]\n"
     ]
    }
   ],
   "source": [
    "# Create a 4x4 identity matrix\n",
    "i = np.eye(4)\n",
    "print(\"i: \\n\", i)"
   ]
  },
  {
   "cell_type": "markdown",
   "id": "8d1d5392",
   "metadata": {
    "papermill": {
     "duration": 0.058512,
     "end_time": "2023-09-01T07:14:24.375339",
     "exception": false,
     "start_time": "2023-09-01T07:14:24.316827",
     "status": "completed"
    },
    "tags": []
   },
   "source": [
    "#### ***numpy.empty(shape, dtype=float, order='C', *, like=None)***\n",
    "* Return a new array of given shape and type, without initializing entries."
   ]
  },
  {
   "cell_type": "code",
   "execution_count": 19,
   "id": "392155b3",
   "metadata": {
    "execution": {
     "iopub.execute_input": "2023-09-01T07:14:24.482434Z",
     "iopub.status.busy": "2023-09-01T07:14:24.481913Z",
     "iopub.status.idle": "2023-09-01T07:14:24.488531Z",
     "shell.execute_reply": "2023-09-01T07:14:24.487182Z"
    },
    "papermill": {
     "duration": 0.064133,
     "end_time": "2023-09-01T07:14:24.491865",
     "exception": false,
     "start_time": "2023-09-01T07:14:24.427732",
     "status": "completed"
    },
    "tags": []
   },
   "outputs": [
    {
     "name": "stdout",
     "output_type": "stream",
     "text": [
      "j: \n",
      " [[101442367698144               0               0]\n",
      " [              0               0               0]\n",
      " [              0               0     -4294967295]\n",
      " [              0               0               0]]\n"
     ]
    }
   ],
   "source": [
    "j = np.empty((4, 3),dtype=\"int\")\n",
    "print(\"j: \\n\", j)"
   ]
  },
  {
   "cell_type": "markdown",
   "id": "ceefa835",
   "metadata": {
    "papermill": {
     "duration": 0.052715,
     "end_time": "2023-09-01T07:14:24.596318",
     "exception": false,
     "start_time": "2023-09-01T07:14:24.543603",
     "status": "completed"
    },
    "tags": []
   },
   "source": [
    "### Appending into NumPy Array\n",
    "\n",
    "##### ***numpy.append(arr, values, axis=None)***\n",
    "The numpy append() function is used to merge two arrays. It returns a new array, and the original array remains unchanged."
   ]
  },
  {
   "cell_type": "code",
   "execution_count": 20,
   "id": "523b28ce",
   "metadata": {
    "execution": {
     "iopub.execute_input": "2023-09-01T07:14:24.702383Z",
     "iopub.status.busy": "2023-09-01T07:14:24.701913Z",
     "iopub.status.idle": "2023-09-01T07:14:24.709458Z",
     "shell.execute_reply": "2023-09-01T07:14:24.707976Z"
    },
    "papermill": {
     "duration": 0.065298,
     "end_time": "2023-09-01T07:14:24.712884",
     "exception": false,
     "start_time": "2023-09-01T07:14:24.647586",
     "status": "completed"
    },
    "tags": []
   },
   "outputs": [
    {
     "name": "stdout",
     "output_type": "stream",
     "text": [
      "Original Array :  [1 3 5 7 9]\n",
      "Array after appending :  [ 1  3  5  7  9 11 13]\n"
     ]
    }
   ],
   "source": [
    "# Appending at the end of 1-d array\n",
    "a1 = np.array([1, 3, 5, 7, 9])\n",
    "print('Original Array : ', a1)\n",
    " \n",
    "# Appending to the array\n",
    "a2 = np.append(a1, [11, 13])\n",
    "print('Array after appending : ', a2)"
   ]
  },
  {
   "cell_type": "code",
   "execution_count": 21,
   "id": "063c0cc7",
   "metadata": {
    "execution": {
     "iopub.execute_input": "2023-09-01T07:14:24.818282Z",
     "iopub.status.busy": "2023-09-01T07:14:24.817839Z",
     "iopub.status.idle": "2023-09-01T07:14:24.827643Z",
     "shell.execute_reply": "2023-09-01T07:14:24.826047Z"
    },
    "papermill": {
     "duration": 0.065949,
     "end_time": "2023-09-01T07:14:24.830929",
     "exception": false,
     "start_time": "2023-09-01T07:14:24.764980",
     "status": "completed"
    },
    "tags": []
   },
   "outputs": [
    {
     "name": "stdout",
     "output_type": "stream",
     "text": [
      "After appending with axis=None:\n",
      " [10 20 30 40 50 60 70 80 90 11 21 31 42 52 62 73 83 93]\n",
      "\n",
      "After appending with axis=0:\n",
      " [[10 20 30]\n",
      " [40 50 60]\n",
      " [70 80 90]\n",
      " [11 21 31]\n",
      " [42 52 62]\n",
      " [73 83 93]]\n",
      "\n",
      "After appending with axis=1:\n",
      " [[10 20 30 11 21 31]\n",
      " [40 50 60 42 52 62]\n",
      " [70 80 90 73 83 93]]\n"
     ]
    }
   ],
   "source": [
    "# Appending at the end of 2-d array\n",
    "a3 = np.array([[10, 20, 30], [40, 50, 60], [70, 80, 90]])  \n",
    "a4 = np.array([[11, 21, 31], [42, 52, 62], [73, 83, 93]])  \n",
    "\n",
    "# Appending with axis = None => flatten the array and append\n",
    "a5 = np.append(a3, a4)\n",
    "print(\"After appending with axis=None:\\n\", a5)\n",
    "\n",
    "# Appending with axis = 0\n",
    "a6 = np.append(a3, a4, axis=0)\n",
    "print(\"\\nAfter appending with axis=0:\\n\", a6)\n",
    "\n",
    "# Appending with axis = 1\n",
    "a7=np.append(a3,a4, axis=1)\n",
    "print(\"\\nAfter appending with axis=1:\\n\", a7)"
   ]
  },
  {
   "cell_type": "markdown",
   "id": "dd216c66",
   "metadata": {
    "papermill": {
     "duration": 0.05159,
     "end_time": "2023-09-01T07:14:24.935568",
     "exception": false,
     "start_time": "2023-09-01T07:14:24.883978",
     "status": "completed"
    },
    "tags": []
   },
   "source": [
    "<a id=\"array_indexing\"></a><br>\n",
    "## Array Indexing: Accessing Single Elements\n",
    "\n",
    "Indexing in NumPy is quite similar to Python’s standard list indexing. \n",
    "\n",
    "### Accessing one-dimensional array:\n",
    "* You can access the ith value (counting from zero) by specifying the desired index in square brackets, just as with Python lists:"
   ]
  },
  {
   "cell_type": "code",
   "execution_count": 22,
   "id": "4a015410",
   "metadata": {
    "execution": {
     "iopub.execute_input": "2023-09-01T07:14:25.045498Z",
     "iopub.status.busy": "2023-09-01T07:14:25.045017Z",
     "iopub.status.idle": "2023-09-01T07:14:25.053530Z",
     "shell.execute_reply": "2023-09-01T07:14:25.052010Z"
    },
    "papermill": {
     "duration": 0.066523,
     "end_time": "2023-09-01T07:14:25.056191",
     "exception": false,
     "start_time": "2023-09-01T07:14:24.989668",
     "status": "completed"
    },
    "tags": []
   },
   "outputs": [
    {
     "name": "stdout",
     "output_type": "stream",
     "text": [
      "[ 1  4  7 10 13 16 19 22]\n",
      "x1[3]:  10\n",
      "x1[-1]:  22\n",
      "x1[-4]:  13\n"
     ]
    }
   ],
   "source": [
    "x1 = np.arange(1, 25, 3)\n",
    "print(x1)\n",
    "\n",
    "# Accessing element at 3rd index\n",
    "print(\"x1[3]: \", x1[3])\n",
    "\n",
    "# To index from the end of the array, you can use negative indices:\n",
    "print(\"x1[-1]: \", x1[-1])\n",
    "print(\"x1[-4]: \", x1[-4])"
   ]
  },
  {
   "cell_type": "markdown",
   "id": "1d152be4",
   "metadata": {
    "papermill": {
     "duration": 0.05328,
     "end_time": "2023-09-01T07:14:25.162683",
     "exception": false,
     "start_time": "2023-09-01T07:14:25.109403",
     "status": "completed"
    },
    "tags": []
   },
   "source": [
    "### Accessing multi-dimensional array:\n",
    "* You access items using a comma-separated tuple of indices in multi-dimensional array."
   ]
  },
  {
   "cell_type": "code",
   "execution_count": 23,
   "id": "124147c0",
   "metadata": {
    "execution": {
     "iopub.execute_input": "2023-09-01T07:14:25.269613Z",
     "iopub.status.busy": "2023-09-01T07:14:25.269190Z",
     "iopub.status.idle": "2023-09-01T07:14:25.277301Z",
     "shell.execute_reply": "2023-09-01T07:14:25.275963Z"
    },
    "papermill": {
     "duration": 0.066219,
     "end_time": "2023-09-01T07:14:25.280801",
     "exception": false,
     "start_time": "2023-09-01T07:14:25.214582",
     "status": "completed"
    },
    "tags": []
   },
   "outputs": [
    {
     "name": "stdout",
     "output_type": "stream",
     "text": [
      "x2: \n",
      " [[ 2 16 11  8]\n",
      " [17 17 19  0]\n",
      " [19  7  0 18]]\n",
      "x2[2,1]:  7\n",
      "x2[1,-2]:  19\n"
     ]
    }
   ],
   "source": [
    "# Create two-dimensional array of 3x4 elements with random numbers between 0 to 19\n",
    "x2 = np.random.randint(20, size=(3, 4)) \n",
    "print(\"x2: \\n\", x2)\n",
    "\n",
    "print(\"x2[2,1]: \", x2[2,1])\n",
    "\n",
    "print(\"x2[1,-2]: \", x2[1,-2])"
   ]
  },
  {
   "cell_type": "code",
   "execution_count": 24,
   "id": "8fcb136a",
   "metadata": {
    "execution": {
     "iopub.execute_input": "2023-09-01T07:14:25.391745Z",
     "iopub.status.busy": "2023-09-01T07:14:25.391301Z",
     "iopub.status.idle": "2023-09-01T07:14:25.398931Z",
     "shell.execute_reply": "2023-09-01T07:14:25.397417Z"
    },
    "papermill": {
     "duration": 0.067701,
     "end_time": "2023-09-01T07:14:25.401528",
     "exception": false,
     "start_time": "2023-09-01T07:14:25.333827",
     "status": "completed"
    },
    "tags": []
   },
   "outputs": [
    {
     "name": "stdout",
     "output_type": "stream",
     "text": [
      "x2 before updation: \n",
      " [[ 2 16 11  8]\n",
      " [17 17 19  0]\n",
      " [19  7  0 18]]\n",
      "x2 after updation: \n",
      " [[10 16 11  8]\n",
      " [17 17 19  0]\n",
      " [19  7  0 18]]\n"
     ]
    }
   ],
   "source": [
    "print(\"x2 before updation: \\n\", x2)\n",
    "\n",
    "# You can also modify values using any of the above index notation:\n",
    "x2[0,0] = 10\n",
    "print(\"x2 after updation: \\n\", x2)"
   ]
  },
  {
   "cell_type": "code",
   "execution_count": 25,
   "id": "b1505faa",
   "metadata": {
    "execution": {
     "iopub.execute_input": "2023-09-01T07:14:25.509080Z",
     "iopub.status.busy": "2023-09-01T07:14:25.508599Z",
     "iopub.status.idle": "2023-09-01T07:14:25.514657Z",
     "shell.execute_reply": "2023-09-01T07:14:25.513656Z"
    },
    "papermill": {
     "duration": 0.063327,
     "end_time": "2023-09-01T07:14:25.517110",
     "exception": false,
     "start_time": "2023-09-01T07:14:25.453783",
     "status": "completed"
    },
    "tags": []
   },
   "outputs": [
    {
     "name": "stdout",
     "output_type": "stream",
     "text": [
      "x2[1][3]:  0\n"
     ]
    }
   ],
   "source": [
    "# You can also use python list syntax to access individual element in the NumPy array\n",
    "print(\"x2[1][3]: \", x2[1][3])"
   ]
  },
  {
   "cell_type": "markdown",
   "id": "110c623d",
   "metadata": {
    "papermill": {
     "duration": 0.055512,
     "end_time": "2023-09-01T07:14:25.625326",
     "exception": false,
     "start_time": "2023-09-01T07:14:25.569814",
     "status": "completed"
    },
    "tags": []
   },
   "source": [
    "<a id=\"array_slicing\"></a><br>\n",
    "## Array Slicing: Accessing Subarrays\n",
    "\n",
    "* Just as we can use square brackets to access individual array elements, we can also use them to access subarrays with the slice notation, marked by the colon (:) character. \n",
    "* The NumPy slicing syntax follows that of the standard Python list; to access a slice of an array x, use this:\n",
    "> ***x[start : stop : step]***\n",
    "* If any of these are unspecified, they default to the values start=0, stop=size of dimension, step=1. "
   ]
  },
  {
   "cell_type": "code",
   "execution_count": 26,
   "id": "5975fe7b",
   "metadata": {
    "execution": {
     "iopub.execute_input": "2023-09-01T07:14:25.737797Z",
     "iopub.status.busy": "2023-09-01T07:14:25.737353Z",
     "iopub.status.idle": "2023-09-01T07:14:25.746561Z",
     "shell.execute_reply": "2023-09-01T07:14:25.745224Z"
    },
    "papermill": {
     "duration": 0.067203,
     "end_time": "2023-09-01T07:14:25.749604",
     "exception": false,
     "start_time": "2023-09-01T07:14:25.682401",
     "status": "completed"
    },
    "tags": []
   },
   "outputs": [
    {
     "name": "stdout",
     "output_type": "stream",
     "text": [
      "x:  [0 1 2 3 4 5 6 7 8 9]\n",
      "x[:4]:  [0 1 2 3]\n",
      "x[4:]:  [4 5 6 7 8 9]\n",
      "x[4:7]:  [4 5 6]\n",
      "x[::2]:  [0 2 4 6 8]\n",
      "x[1::2]:  [1 3 5 7 9]\n",
      "x[-7:-2:2]: [3 5 7]\n"
     ]
    }
   ],
   "source": [
    "x = np.arange(10)\n",
    "print(\"x: \", x)\n",
    "\n",
    "# first four elements\n",
    "print(\"x[:4]: \", x[:4])\n",
    "\n",
    "# elements after index 4\n",
    "print(\"x[4:]: \", x[4:])\n",
    "\n",
    "# middle subarray\n",
    "print(\"x[4:7]: \", x[4:7])\n",
    "\n",
    "# every other element\n",
    "print(\"x[::2]: \", x[::2])\n",
    "\n",
    "# every other element, starting at index 1\n",
    "print(\"x[1::2]: \", x[1::2])\n",
    "\n",
    "# Negative indexes with stpes\n",
    "print(\"x[-7:-2:2]:\", x[-7:-2:2])"
   ]
  },
  {
   "cell_type": "markdown",
   "id": "a22e5474",
   "metadata": {
    "papermill": {
     "duration": 0.051838,
     "end_time": "2023-09-01T07:14:25.854057",
     "exception": false,
     "start_time": "2023-09-01T07:14:25.802219",
     "status": "completed"
    },
    "tags": []
   },
   "source": [
    "A potentially confusing case is when the step value is negative. In this case, the defaults for start and stop are swapped. This becomes a convenient way to reverse an array:\n"
   ]
  },
  {
   "cell_type": "code",
   "execution_count": 27,
   "id": "7be9f012",
   "metadata": {
    "execution": {
     "iopub.execute_input": "2023-09-01T07:14:25.965115Z",
     "iopub.status.busy": "2023-09-01T07:14:25.964286Z",
     "iopub.status.idle": "2023-09-01T07:14:25.972499Z",
     "shell.execute_reply": "2023-09-01T07:14:25.970974Z"
    },
    "papermill": {
     "duration": 0.066844,
     "end_time": "2023-09-01T07:14:25.975446",
     "exception": false,
     "start_time": "2023-09-01T07:14:25.908602",
     "status": "completed"
    },
    "tags": []
   },
   "outputs": [
    {
     "name": "stdout",
     "output_type": "stream",
     "text": [
      "x[::-1]:  [9 8 7 6 5 4 3 2 1 0]\n",
      "x[5::-2]:  [5 3 1]\n",
      "x[5:-8:-1]:  [5 4 3]\n"
     ]
    }
   ],
   "source": [
    "# all elements, reversed\n",
    "print(\"x[::-1]: \", x[:: -1])\n",
    "\n",
    "# reversed every other from index 5\n",
    "print(\"x[5::-2]: \", x[5::-2])\n",
    "\n",
    "print(\"x[5:-8:-1]: \", x[5:-8:-1])"
   ]
  },
  {
   "cell_type": "code",
   "execution_count": 28,
   "id": "998f1aec",
   "metadata": {
    "execution": {
     "iopub.execute_input": "2023-09-01T07:14:26.089987Z",
     "iopub.status.busy": "2023-09-01T07:14:26.089180Z",
     "iopub.status.idle": "2023-09-01T07:14:26.098385Z",
     "shell.execute_reply": "2023-09-01T07:14:26.097018Z"
    },
    "papermill": {
     "duration": 0.070681,
     "end_time": "2023-09-01T07:14:26.101195",
     "exception": false,
     "start_time": "2023-09-01T07:14:26.030514",
     "status": "completed"
    },
    "tags": []
   },
   "outputs": [
    {
     "name": "stdout",
     "output_type": "stream",
     "text": [
      "x: \n",
      " [[ 6 17 12 15]\n",
      " [ 0  7  9 10]\n",
      " [14  9  4  0]]\n",
      "\n",
      "x2[:2, :3]: \n",
      " [[10 16 11]\n",
      " [17 17 19]]\n",
      "\n",
      "x2[:3,::2]: \n",
      " [[10 11]\n",
      " [17 19]\n",
      " [19  0]]\n",
      "\n",
      "x2[::-1,::-1]: \n",
      " [[18  0  7 19]\n",
      " [ 0 19 17 17]\n",
      " [ 8 11 16 10]]\n"
     ]
    }
   ],
   "source": [
    "# Create two-dimensional array of 3x4 elements with random numbers between 0 to 19\n",
    "x = np.random.randint(20, size=(3, 4)) \n",
    "\n",
    "# Multidimensional slices work in the same way, with multiple slices separated by commas.\n",
    "# For example:\n",
    "print(\"x: \\n\", x)\n",
    "\n",
    "# two rows, three columns\n",
    "print(\"\\nx2[:2, :3]: \\n\", x2[:2, :3])\n",
    "\n",
    "# all rows, every other column\n",
    "print(\"\\nx2[:3,::2]: \\n\", x2[:3, ::2])\n",
    "\n",
    "# Subarray dimensions can even be reversed together\n",
    "print(\"\\nx2[::-1,::-1]: \\n\", x2[::-1, ::-1])"
   ]
  },
  {
   "cell_type": "markdown",
   "id": "26909ad3",
   "metadata": {
    "papermill": {
     "duration": 0.052764,
     "end_time": "2023-09-01T07:14:26.208379",
     "exception": false,
     "start_time": "2023-09-01T07:14:26.155615",
     "status": "completed"
    },
    "tags": []
   },
   "source": [
    "### Subarrays as no-copy views\n",
    "* One important—and extremely useful—thing to know about array slices is that they return views rather than copies of the array data. This is one area in which NumPy array slicing differs from Python list slicing: in lists, slices will be copies. \n",
    "\n",
    "Consider our two-dimensional array from before:"
   ]
  },
  {
   "cell_type": "code",
   "execution_count": 29,
   "id": "17c2cefb",
   "metadata": {
    "execution": {
     "iopub.execute_input": "2023-09-01T07:14:26.318634Z",
     "iopub.status.busy": "2023-09-01T07:14:26.317591Z",
     "iopub.status.idle": "2023-09-01T07:14:26.329092Z",
     "shell.execute_reply": "2023-09-01T07:14:26.327322Z"
    },
    "papermill": {
     "duration": 0.070468,
     "end_time": "2023-09-01T07:14:26.331934",
     "exception": false,
     "start_time": "2023-09-01T07:14:26.261466",
     "status": "completed"
    },
    "tags": []
   },
   "outputs": [
    {
     "name": "stdout",
     "output_type": "stream",
     "text": [
      "x1: \n",
      " [[ 6  5 11 10]\n",
      " [15 12 10 18]\n",
      " [ 6  6  0  8]]\n",
      "\n",
      "x1_sub before updation: \n",
      " [[ 6  5]\n",
      " [15 12]]\n",
      "\n",
      "x1_sub after updation: \n",
      " [[99  5]\n",
      " [15 12]]\n",
      "x1 after updation of x1_sub: \n",
      " [[99  5 11 10]\n",
      " [15 12 10 18]\n",
      " [ 6  6  0  8]]\n"
     ]
    }
   ],
   "source": [
    "# Create two-dimensional array of 3x4 elements with random numbers between 0 to 19\n",
    "x1 = np.random.randint(20, size=(3, 4)) \n",
    "print(\"x1: \\n\", x1)\n",
    "\n",
    "# Extract a 2×2 subarray from this:\n",
    "x1_sub = x1[:2, :2]\n",
    "print(\"\\nx1_sub before updation: \\n\", x1_sub)\n",
    "\n",
    "# Now if we modify this subarray, we’ll see that the original array is changed! Observe:\n",
    "x1_sub[0, 0] = 99\n",
    "print(\"\\nx1_sub after updation: \\n\", x1_sub)\n",
    "\n",
    "print(\"x1 after updation of x1_sub: \\n\", x1)"
   ]
  },
  {
   "cell_type": "markdown",
   "id": "0b66b5fe",
   "metadata": {
    "papermill": {
     "duration": 0.055085,
     "end_time": "2023-09-01T07:14:26.446676",
     "exception": false,
     "start_time": "2023-09-01T07:14:26.391591",
     "status": "completed"
    },
    "tags": []
   },
   "source": [
    "##### Note: \n",
    "This default behavior is actually quite useful: it means that when we work with large datasets, we can access and process pieces of these datasets without the need to copy the underlying data buffer.\n",
    "\n",
    "### Creating copies of arrays\n",
    "Despite the nice features of array views, it is sometimes useful to instead explicitly copy the data within an array or a subarray. This can be most easily done with the copy() method:"
   ]
  },
  {
   "cell_type": "code",
   "execution_count": 30,
   "id": "f51f11af",
   "metadata": {
    "execution": {
     "iopub.execute_input": "2023-09-01T07:14:26.560202Z",
     "iopub.status.busy": "2023-09-01T07:14:26.558935Z",
     "iopub.status.idle": "2023-09-01T07:14:26.568754Z",
     "shell.execute_reply": "2023-09-01T07:14:26.566874Z"
    },
    "papermill": {
     "duration": 0.069778,
     "end_time": "2023-09-01T07:14:26.571826",
     "exception": false,
     "start_time": "2023-09-01T07:14:26.502048",
     "status": "completed"
    },
    "tags": []
   },
   "outputs": [
    {
     "name": "stdout",
     "output_type": "stream",
     "text": [
      "\n",
      "x1 before updation of x1_sub_copy: \n",
      " [[99  5 11 10]\n",
      " [15 12 10 18]\n",
      " [ 6  6  0  8]]\n",
      "\n",
      "x1_sub_copy before updation: \n",
      " [[99  5]\n",
      " [15 12]]\n",
      "\n",
      "x1_sub_copy after updation: \n",
      " [[42  5]\n",
      " [15 12]]\n",
      "\n",
      "x1 after updation of x1_sub_copy: \n",
      " [[99  5 11 10]\n",
      " [15 12 10 18]\n",
      " [ 6  6  0  8]]\n"
     ]
    }
   ],
   "source": [
    "print(\"\\nx1 before updation of x1_sub_copy: \\n\", x1)\n",
    "\n",
    "x1_sub_copy = x1[:2, :2].copy()\n",
    "print(\"\\nx1_sub_copy before updation: \\n\", x1_sub_copy)\n",
    "\n",
    "#If we now modify this subarray, the original array is not touched:\n",
    "x1_sub_copy[0, 0] = 42\n",
    "\n",
    "print(\"\\nx1_sub_copy after updation: \\n\", x1_sub_copy)\n",
    "\n",
    "print(\"\\nx1 after updation of x1_sub_copy: \\n\", x1)"
   ]
  },
  {
   "cell_type": "markdown",
   "id": "47f5bf30",
   "metadata": {
    "papermill": {
     "duration": 0.053864,
     "end_time": "2023-09-01T07:14:26.678039",
     "exception": false,
     "start_time": "2023-09-01T07:14:26.624175",
     "status": "completed"
    },
    "tags": []
   },
   "source": [
    "<a id=\"array_reshaping\"></a> <br>\n",
    "## Reshaping of Numpy Arrays\n",
    "\n",
    "Another useful type of operation is reshaping of arrays. The most flexible way of doing this is with the reshape() method. \n",
    "\n",
    "#### ***numpy.reshape(a, newshape, order='C')***\n",
    "* Gives a new shape to an array without changing its data.\n",
    "\n",
    "For example, if you want to put the numbers 1 through 9 in a 3×3 grid, you can do the following:"
   ]
  },
  {
   "cell_type": "code",
   "execution_count": 31,
   "id": "60531b84",
   "metadata": {
    "execution": {
     "iopub.execute_input": "2023-09-01T07:14:26.788858Z",
     "iopub.status.busy": "2023-09-01T07:14:26.788141Z",
     "iopub.status.idle": "2023-09-01T07:14:26.796468Z",
     "shell.execute_reply": "2023-09-01T07:14:26.794598Z"
    },
    "papermill": {
     "duration": 0.06731,
     "end_time": "2023-09-01T07:14:26.799364",
     "exception": false,
     "start_time": "2023-09-01T07:14:26.732054",
     "status": "completed"
    },
    "tags": []
   },
   "outputs": [
    {
     "name": "stdout",
     "output_type": "stream",
     "text": [
      "Original z:  [1 2 3 4 5 6 7 8 9]\n",
      "\n",
      "New z of shape 3x3:\n",
      " [[1 2 3]\n",
      " [4 5 6]\n",
      " [7 8 9]]\n"
     ]
    }
   ],
   "source": [
    "z = np.arange(1, 10, 1)\n",
    "print(\"Original z: \", z)\n",
    "\n",
    "z_new = z.reshape(3, 3)\n",
    "print(\"\\nNew z of shape 3x3:\\n\", z_new)"
   ]
  },
  {
   "cell_type": "markdown",
   "id": "b5cb8061",
   "metadata": {
    "papermill": {
     "duration": 0.053361,
     "end_time": "2023-09-01T07:14:26.907103",
     "exception": false,
     "start_time": "2023-09-01T07:14:26.853742",
     "status": "completed"
    },
    "tags": []
   },
   "source": [
    "#### Note:\n",
    "* Where possible, the reshape method will use a no-copy view of the initial array, but with noncontiguous memory buffers this is not always the case.\n",
    "* Another common reshaping pattern is the conversion of a one-dimensional array into a two-dimensional row or column matrix. You can do this with the reshape method, or more easily by making use of the newaxis keyword within a slice operation."
   ]
  },
  {
   "cell_type": "code",
   "execution_count": 32,
   "id": "f3300b9d",
   "metadata": {
    "execution": {
     "iopub.execute_input": "2023-09-01T07:14:27.019659Z",
     "iopub.status.busy": "2023-09-01T07:14:27.019186Z",
     "iopub.status.idle": "2023-09-01T07:14:27.026305Z",
     "shell.execute_reply": "2023-09-01T07:14:27.025015Z"
    },
    "papermill": {
     "duration": 0.068791,
     "end_time": "2023-09-01T07:14:27.030205",
     "exception": false,
     "start_time": "2023-09-01T07:14:26.961414",
     "status": "completed"
    },
    "tags": []
   },
   "outputs": [
    {
     "name": "stdout",
     "output_type": "stream",
     "text": [
      "a:  [1 2 3]\n",
      "Shape of a:  (3,)\n"
     ]
    }
   ],
   "source": [
    "a = np.array([1, 2, 3])\n",
    "print(\"a: \", a)\n",
    "print(\"Shape of a: \", a.shape)"
   ]
  },
  {
   "cell_type": "code",
   "execution_count": 33,
   "id": "cdec81e1",
   "metadata": {
    "execution": {
     "iopub.execute_input": "2023-09-01T07:14:27.140015Z",
     "iopub.status.busy": "2023-09-01T07:14:27.139559Z",
     "iopub.status.idle": "2023-09-01T07:14:27.146482Z",
     "shell.execute_reply": "2023-09-01T07:14:27.145203Z"
    },
    "papermill": {
     "duration": 0.065072,
     "end_time": "2023-09-01T07:14:27.149862",
     "exception": false,
     "start_time": "2023-09-01T07:14:27.084790",
     "status": "completed"
    },
    "tags": []
   },
   "outputs": [
    {
     "name": "stdout",
     "output_type": "stream",
     "text": [
      "b:  [[1 2 3]]\n",
      "Shape of b:  (1, 3)\n"
     ]
    }
   ],
   "source": [
    "# Convert into row vector via reshape\n",
    "b = a.reshape(1,3)\n",
    "print(\"b: \", b)\n",
    "print(\"Shape of b: \", b.shape)"
   ]
  },
  {
   "cell_type": "code",
   "execution_count": 34,
   "id": "ab91e77b",
   "metadata": {
    "execution": {
     "iopub.execute_input": "2023-09-01T07:14:27.261817Z",
     "iopub.status.busy": "2023-09-01T07:14:27.261111Z",
     "iopub.status.idle": "2023-09-01T07:14:27.268492Z",
     "shell.execute_reply": "2023-09-01T07:14:27.266899Z"
    },
    "papermill": {
     "duration": 0.067345,
     "end_time": "2023-09-01T07:14:27.271030",
     "exception": false,
     "start_time": "2023-09-01T07:14:27.203685",
     "status": "completed"
    },
    "tags": []
   },
   "outputs": [
    {
     "name": "stdout",
     "output_type": "stream",
     "text": [
      "c:  [[1 2 3]]\n",
      "Shape of c:  (1, 3)\n"
     ]
    }
   ],
   "source": [
    "# Convert into row vector via newaxis\n",
    "c = a[np.newaxis, :]\n",
    "print(\"c: \", c)\n",
    "print(\"Shape of c: \", c.shape)"
   ]
  },
  {
   "cell_type": "code",
   "execution_count": 35,
   "id": "5958becd",
   "metadata": {
    "execution": {
     "iopub.execute_input": "2023-09-01T07:14:27.382856Z",
     "iopub.status.busy": "2023-09-01T07:14:27.382154Z",
     "iopub.status.idle": "2023-09-01T07:14:27.389319Z",
     "shell.execute_reply": "2023-09-01T07:14:27.388004Z"
    },
    "papermill": {
     "duration": 0.065257,
     "end_time": "2023-09-01T07:14:27.391972",
     "exception": false,
     "start_time": "2023-09-01T07:14:27.326715",
     "status": "completed"
    },
    "tags": []
   },
   "outputs": [
    {
     "name": "stdout",
     "output_type": "stream",
     "text": [
      "d:  [[ 6 17 12 15  0  7  9 10 14  9  4  0]]\n",
      "Shape of d:  (1, 12)\n"
     ]
    }
   ],
   "source": [
    "# Convert into row vector via reshape and negative index\n",
    "d = x.reshape(1,-1)\n",
    "print(\"d: \", d)\n",
    "print(\"Shape of d: \", d.shape)"
   ]
  },
  {
   "cell_type": "code",
   "execution_count": 36,
   "id": "1252694a",
   "metadata": {
    "execution": {
     "iopub.execute_input": "2023-09-01T07:14:27.507908Z",
     "iopub.status.busy": "2023-09-01T07:14:27.507192Z",
     "iopub.status.idle": "2023-09-01T07:14:27.514699Z",
     "shell.execute_reply": "2023-09-01T07:14:27.513420Z"
    },
    "papermill": {
     "duration": 0.068392,
     "end_time": "2023-09-01T07:14:27.517679",
     "exception": false,
     "start_time": "2023-09-01T07:14:27.449287",
     "status": "completed"
    },
    "tags": []
   },
   "outputs": [
    {
     "name": "stdout",
     "output_type": "stream",
     "text": [
      "e:  [[1]\n",
      " [2]\n",
      " [3]]\n",
      "Shape of e:  (3, 1)\n"
     ]
    }
   ],
   "source": [
    "# Convert into column vector via reshape\n",
    "e = a.reshape((3, 1))\n",
    "print(\"e: \", e)\n",
    "print(\"Shape of e: \", e.shape)"
   ]
  },
  {
   "cell_type": "code",
   "execution_count": 37,
   "id": "e0095e84",
   "metadata": {
    "execution": {
     "iopub.execute_input": "2023-09-01T07:14:27.632523Z",
     "iopub.status.busy": "2023-09-01T07:14:27.632086Z",
     "iopub.status.idle": "2023-09-01T07:14:27.639877Z",
     "shell.execute_reply": "2023-09-01T07:14:27.638573Z"
    },
    "papermill": {
     "duration": 0.067598,
     "end_time": "2023-09-01T07:14:27.643021",
     "exception": false,
     "start_time": "2023-09-01T07:14:27.575423",
     "status": "completed"
    },
    "tags": []
   },
   "outputs": [
    {
     "name": "stdout",
     "output_type": "stream",
     "text": [
      "f:  [[1]\n",
      " [2]\n",
      " [3]]\n",
      "Shape of f:  (3, 1)\n"
     ]
    }
   ],
   "source": [
    "# Convert into column vector via newaxis\n",
    "f = a[:, np.newaxis]\n",
    "print(\"f: \", f)\n",
    "print(\"Shape of f: \", f.shape)"
   ]
  },
  {
   "cell_type": "code",
   "execution_count": 38,
   "id": "bf66a0cf",
   "metadata": {
    "execution": {
     "iopub.execute_input": "2023-09-01T07:14:27.756293Z",
     "iopub.status.busy": "2023-09-01T07:14:27.755403Z",
     "iopub.status.idle": "2023-09-01T07:14:27.763499Z",
     "shell.execute_reply": "2023-09-01T07:14:27.762032Z"
    },
    "papermill": {
     "duration": 0.067599,
     "end_time": "2023-09-01T07:14:27.766300",
     "exception": false,
     "start_time": "2023-09-01T07:14:27.698701",
     "status": "completed"
    },
    "tags": []
   },
   "outputs": [
    {
     "name": "stdout",
     "output_type": "stream",
     "text": [
      "g:  [[ 6]\n",
      " [17]\n",
      " [12]\n",
      " [15]\n",
      " [ 0]\n",
      " [ 7]\n",
      " [ 9]\n",
      " [10]\n",
      " [14]\n",
      " [ 9]\n",
      " [ 4]\n",
      " [ 0]]\n",
      "Shape of g:  (12, 1)\n"
     ]
    }
   ],
   "source": [
    "# Convert into column vector via reshape and negative index\n",
    "g = x.reshape(-1,1)\n",
    "print(\"g: \", g)\n",
    "print(\"Shape of g: \", g.shape)"
   ]
  },
  {
   "cell_type": "markdown",
   "id": "e98cb9e3",
   "metadata": {
    "papermill": {
     "duration": 0.053758,
     "end_time": "2023-09-01T07:14:27.876198",
     "exception": false,
     "start_time": "2023-09-01T07:14:27.822440",
     "status": "completed"
    },
    "tags": []
   },
   "source": [
    "<img src=\"https://i.stack.imgur.com/zkMBy.png\" alt=\"cce\" border=\"0\">"
   ]
  },
  {
   "cell_type": "code",
   "execution_count": 39,
   "id": "abbce315",
   "metadata": {
    "execution": {
     "iopub.execute_input": "2023-09-01T07:14:27.989996Z",
     "iopub.status.busy": "2023-09-01T07:14:27.989097Z",
     "iopub.status.idle": "2023-09-01T07:14:27.997467Z",
     "shell.execute_reply": "2023-09-01T07:14:27.995925Z"
    },
    "papermill": {
     "duration": 0.06915,
     "end_time": "2023-09-01T07:14:28.000595",
     "exception": false,
     "start_time": "2023-09-01T07:14:27.931445",
     "status": "completed"
    },
    "tags": []
   },
   "outputs": [
    {
     "name": "stdout",
     "output_type": "stream",
     "text": [
      "a:  [ 0  1  2  3  4  5  6  7  8  9 10 11 12 13 14 15 16 17 18 19]\n",
      "\n",
      "b:  [[ 0  1  2  3  4]\n",
      " [ 5  6  7  8  9]\n",
      " [10 11 12 13 14]\n",
      " [15 16 17 18 19]]\n"
     ]
    }
   ],
   "source": [
    "# Create 1-d aray of size 20\n",
    "a = np.arange(20)\n",
    "print(\"a: \", a)\n",
    "\n",
    "# Reshape into 4x5 matrix\n",
    "b = a.reshape(4, 5)\n",
    "print(\"\\nb: \", b)"
   ]
  },
  {
   "cell_type": "code",
   "execution_count": 40,
   "id": "2a93d40d",
   "metadata": {
    "execution": {
     "iopub.execute_input": "2023-09-01T07:14:28.115692Z",
     "iopub.status.busy": "2023-09-01T07:14:28.115219Z",
     "iopub.status.idle": "2023-09-01T07:14:28.122433Z",
     "shell.execute_reply": "2023-09-01T07:14:28.120854Z"
    },
    "papermill": {
     "duration": 0.067244,
     "end_time": "2023-09-01T07:14:28.125222",
     "exception": false,
     "start_time": "2023-09-01T07:14:28.057978",
     "status": "completed"
    },
    "tags": []
   },
   "outputs": [
    {
     "name": "stdout",
     "output_type": "stream",
     "text": [
      "c:  [[ 0  1  2  3  4  5  6  7  8  9]\n",
      " [10 11 12 13 14 15 16 17 18 19]]\n"
     ]
    }
   ],
   "source": [
    "# Reshape into 2x10 matrix\n",
    "c = a.reshape(2, 10)\n",
    "print(\"c: \", c)"
   ]
  },
  {
   "cell_type": "code",
   "execution_count": 41,
   "id": "5bc9ac1a",
   "metadata": {
    "execution": {
     "iopub.execute_input": "2023-09-01T07:14:28.238687Z",
     "iopub.status.busy": "2023-09-01T07:14:28.237963Z",
     "iopub.status.idle": "2023-09-01T07:14:28.244679Z",
     "shell.execute_reply": "2023-09-01T07:14:28.243226Z"
    },
    "papermill": {
     "duration": 0.066123,
     "end_time": "2023-09-01T07:14:28.247470",
     "exception": false,
     "start_time": "2023-09-01T07:14:28.181347",
     "status": "completed"
    },
    "tags": []
   },
   "outputs": [
    {
     "name": "stdout",
     "output_type": "stream",
     "text": [
      "\n",
      "d:  [[ 0  1  2  3]\n",
      " [ 4  5  6  7]\n",
      " [ 8  9 10 11]\n",
      " [12 13 14 15]\n",
      " [16 17 18 19]]\n"
     ]
    }
   ],
   "source": [
    "# Reshape into matrix with 5 rows. It will automatically decide number of columns.\n",
    "d = a.reshape(5, -1)\n",
    "print(\"\\nd: \", d)"
   ]
  },
  {
   "cell_type": "markdown",
   "id": "ddee406c",
   "metadata": {
    "papermill": {
     "duration": 0.054878,
     "end_time": "2023-09-01T07:14:28.358109",
     "exception": false,
     "start_time": "2023-09-01T07:14:28.303231",
     "status": "completed"
    },
    "tags": []
   },
   "source": [
    "### Flattening of Array\n",
    "#### ***ndarray.flatten(order='C')***\n",
    "* Return a copy of the array collapsed into one dimension.\n",
    "* *order = {‘C’, ‘F’, ‘A’, ‘K’}**\n",
    "    * ‘C’ means to flatten in row-major (C-style) order. \n",
    "    * ‘F’ means to flatten in column-major (Fortran- style) order.\n",
    "    * ‘A’ means to flatten in column-major order if a is Fortran contiguous in memory, row-major order otherwise. \n",
    "    * ‘K’ means to flatten a in the order the elements occur in memory."
   ]
  },
  {
   "cell_type": "code",
   "execution_count": 42,
   "id": "fc76ca53",
   "metadata": {
    "execution": {
     "iopub.execute_input": "2023-09-01T07:14:28.473380Z",
     "iopub.status.busy": "2023-09-01T07:14:28.472908Z",
     "iopub.status.idle": "2023-09-01T07:14:28.481317Z",
     "shell.execute_reply": "2023-09-01T07:14:28.480028Z"
    },
    "papermill": {
     "duration": 0.066921,
     "end_time": "2023-09-01T07:14:28.484378",
     "exception": false,
     "start_time": "2023-09-01T07:14:28.417457",
     "status": "completed"
    },
    "tags": []
   },
   "outputs": [
    {
     "name": "stdout",
     "output_type": "stream",
     "text": [
      "a: \n",
      " [[1 2 3]\n",
      " [4 5 6]]\n",
      "\n",
      "Flatten a row-major order: \n",
      " [1 2 3 4 5 6]\n",
      "\n",
      "Flatten a column-major order: \n",
      " [1 4 2 5 3 6]\n"
     ]
    }
   ],
   "source": [
    "a = np.array([[1, 2, 3], [4, 5, 6]])\n",
    "print(\"a: \\n\", a)\n",
    "\n",
    "b = a.flatten()\n",
    "print(\"\\nFlatten a row-major order: \\n\", b)\n",
    "\n",
    "c = a.flatten('F')\n",
    "print(\"\\nFlatten a column-major order: \\n\", c)"
   ]
  },
  {
   "cell_type": "markdown",
   "id": "d3631375",
   "metadata": {
    "papermill": {
     "duration": 0.06001,
     "end_time": "2023-09-01T07:14:28.598180",
     "exception": false,
     "start_time": "2023-09-01T07:14:28.538170",
     "status": "completed"
    },
    "tags": []
   },
   "source": [
    "### Array Transpose\n",
    "\n",
    "#### ***numpy.transpose(a, axes=None)***\n",
    "* Returns an array with axes transposed."
   ]
  },
  {
   "cell_type": "code",
   "execution_count": 43,
   "id": "83400881",
   "metadata": {
    "execution": {
     "iopub.execute_input": "2023-09-01T07:14:28.710491Z",
     "iopub.status.busy": "2023-09-01T07:14:28.710045Z",
     "iopub.status.idle": "2023-09-01T07:14:28.717828Z",
     "shell.execute_reply": "2023-09-01T07:14:28.716570Z"
    },
    "papermill": {
     "duration": 0.066962,
     "end_time": "2023-09-01T07:14:28.720349",
     "exception": false,
     "start_time": "2023-09-01T07:14:28.653387",
     "status": "completed"
    },
    "tags": []
   },
   "outputs": [
    {
     "name": "stdout",
     "output_type": "stream",
     "text": [
      "a: \n",
      " [[7 5 7 8 5]\n",
      " [5 3 4 1 1]\n",
      " [4 7 1 4 8]]\n",
      "b: \n",
      " [[7 5 4]\n",
      " [5 3 7]\n",
      " [7 4 1]\n",
      " [8 1 4]\n",
      " [5 1 8]]\n",
      "c: \n",
      " [[7 5 4]\n",
      " [5 3 7]\n",
      " [7 4 1]\n",
      " [8 1 4]\n",
      " [5 1 8]]\n"
     ]
    }
   ],
   "source": [
    "a = np.random.randint(1, 9, size=(3, 5))\n",
    "print(\"a: \\n\", a)\n",
    "\n",
    "b = np.transpose(a)\n",
    "print(\"b: \\n\", b)\n",
    "\n",
    "#  another way to transpose\n",
    "c = a.T\n",
    "print(\"c: \\n\", c)"
   ]
  },
  {
   "cell_type": "markdown",
   "id": "29ceaf8e",
   "metadata": {
    "papermill": {
     "duration": 0.059997,
     "end_time": "2023-09-01T07:14:28.834063",
     "exception": false,
     "start_time": "2023-09-01T07:14:28.774066",
     "status": "completed"
    },
    "tags": []
   },
   "source": [
    "<a id=\"array_concatenation_splitting\"></a><br>\n",
    "## Array Concatenation and Splitting\n",
    "\n",
    "### Concatenation of arrays\n",
    "Concatenation operation joins two or more arrays along given axis.\n",
    "\n",
    "#### ***numpy.concatenate((a1, a2, ...), axis=0, out=None, dtype=None, casting=\"same_kind\")***\n",
    "* Join a sequence of arrays along an existing axis."
   ]
  },
  {
   "cell_type": "code",
   "execution_count": 44,
   "id": "138150cb",
   "metadata": {
    "execution": {
     "iopub.execute_input": "2023-09-01T07:14:28.957733Z",
     "iopub.status.busy": "2023-09-01T07:14:28.957123Z",
     "iopub.status.idle": "2023-09-01T07:14:28.966508Z",
     "shell.execute_reply": "2023-09-01T07:14:28.964753Z"
    },
    "papermill": {
     "duration": 0.080213,
     "end_time": "2023-09-01T07:14:28.970661",
     "exception": false,
     "start_time": "2023-09-01T07:14:28.890448",
     "status": "completed"
    },
    "tags": []
   },
   "outputs": [
    {
     "name": "stdout",
     "output_type": "stream",
     "text": [
      "a:  [1 2 3]\n",
      "\n",
      "b:  [4 5 6]\n",
      "\n",
      "d: \n",
      " [1 2 3 4 5 6]\n"
     ]
    }
   ],
   "source": [
    "a = np.array([1, 2, 3])\n",
    "print(\"a: \", a)\n",
    "\n",
    "b = np.array([4, 5, 6])\n",
    "print(\"\\nb: \", b)\n",
    "\n",
    "d = np.concatenate((a, b))\n",
    "print(\"\\nd: \\n\", d)"
   ]
  },
  {
   "cell_type": "code",
   "execution_count": 45,
   "id": "be66d6c2",
   "metadata": {
    "execution": {
     "iopub.execute_input": "2023-09-01T07:14:29.085246Z",
     "iopub.status.busy": "2023-09-01T07:14:29.084602Z",
     "iopub.status.idle": "2023-09-01T07:14:29.093610Z",
     "shell.execute_reply": "2023-09-01T07:14:29.091389Z"
    },
    "papermill": {
     "duration": 0.068947,
     "end_time": "2023-09-01T07:14:29.096319",
     "exception": false,
     "start_time": "2023-09-01T07:14:29.027372",
     "status": "completed"
    },
    "tags": []
   },
   "outputs": [
    {
     "name": "stdout",
     "output_type": "stream",
     "text": [
      "\n",
      "c:  [7 8 9]\n",
      "\n",
      "e:  [1 2 3 4 5 6 7 8 9]\n"
     ]
    }
   ],
   "source": [
    "c = np.array([7, 8, 9]) \n",
    "print(\"\\nc: \", c)\n",
    "\n",
    "# Concatenate three arrays\n",
    "e = np.concatenate((a, b, c))\n",
    "print(\"\\ne: \", e)"
   ]
  },
  {
   "cell_type": "code",
   "execution_count": 46,
   "id": "a324ff5e",
   "metadata": {
    "execution": {
     "iopub.execute_input": "2023-09-01T07:14:29.211189Z",
     "iopub.status.busy": "2023-09-01T07:14:29.210689Z",
     "iopub.status.idle": "2023-09-01T07:14:29.218840Z",
     "shell.execute_reply": "2023-09-01T07:14:29.217464Z"
    },
    "papermill": {
     "duration": 0.069918,
     "end_time": "2023-09-01T07:14:29.221694",
     "exception": false,
     "start_time": "2023-09-01T07:14:29.151776",
     "status": "completed"
    },
    "tags": []
   },
   "outputs": [
    {
     "name": "stdout",
     "output_type": "stream",
     "text": [
      "a: \n",
      " [[1 2 3]\n",
      " [4 5 6]]\n",
      "\n",
      "b: \n",
      " [[1 2 3]\n",
      " [4 5 6]\n",
      " [1 2 3]\n",
      " [4 5 6]]\n"
     ]
    }
   ],
   "source": [
    "a = np.array([[1, 2, 3],\n",
    "                [4, 5, 6]])\n",
    "print(\"a: \\n\", a)\n",
    "\n",
    "# Concatenate along the first axis\n",
    "b = np.concatenate((a, a))\n",
    "print(\"\\nb: \\n\", b)"
   ]
  },
  {
   "cell_type": "code",
   "execution_count": 47,
   "id": "27237908",
   "metadata": {
    "execution": {
     "iopub.execute_input": "2023-09-01T07:14:29.334411Z",
     "iopub.status.busy": "2023-09-01T07:14:29.333784Z",
     "iopub.status.idle": "2023-09-01T07:14:29.341494Z",
     "shell.execute_reply": "2023-09-01T07:14:29.340051Z"
    },
    "papermill": {
     "duration": 0.067572,
     "end_time": "2023-09-01T07:14:29.344567",
     "exception": false,
     "start_time": "2023-09-01T07:14:29.276995",
     "status": "completed"
    },
    "tags": []
   },
   "outputs": [
    {
     "name": "stdout",
     "output_type": "stream",
     "text": [
      "\n",
      "c: \n",
      " [[1 2 3 1 2 3]\n",
      " [4 5 6 4 5 6]]\n"
     ]
    }
   ],
   "source": [
    "# concatenate along the second axis (zero-indexed)\n",
    "c =np.concatenate((a, a), axis=1)\n",
    "print(\"\\nc: \\n\", c)"
   ]
  },
  {
   "cell_type": "markdown",
   "id": "61e65a7b",
   "metadata": {
    "papermill": {
     "duration": 0.054195,
     "end_time": "2023-09-01T07:14:29.456264",
     "exception": false,
     "start_time": "2023-09-01T07:14:29.402069",
     "status": "completed"
    },
    "tags": []
   },
   "source": [
    "#### ***numpy.vstack(tup, *, dtype=None, casting='same_kind')***\n",
    "* Stack arrays in sequence vertically (row wise).\n",
    "* This is equivalent to concatenation along the first axis after 1-D arrays of shape (N,) have been reshaped to (1,N). Rebuilds arrays divided by vsplit."
   ]
  },
  {
   "cell_type": "code",
   "execution_count": 48,
   "id": "1aedcbe4",
   "metadata": {
    "execution": {
     "iopub.execute_input": "2023-09-01T07:14:29.566451Z",
     "iopub.status.busy": "2023-09-01T07:14:29.566005Z",
     "iopub.status.idle": "2023-09-01T07:14:29.575272Z",
     "shell.execute_reply": "2023-09-01T07:14:29.573320Z"
    },
    "papermill": {
     "duration": 0.067823,
     "end_time": "2023-09-01T07:14:29.578039",
     "exception": false,
     "start_time": "2023-09-01T07:14:29.510216",
     "status": "completed"
    },
    "tags": []
   },
   "outputs": [
    {
     "name": "stdout",
     "output_type": "stream",
     "text": [
      "\n",
      "a: \n",
      " [[1 2 3]]\n",
      "\n",
      "b: \n",
      " [[9 8 7]\n",
      " [6 5 4]]\n",
      "\n",
      "c: \n",
      " [[1 2 3]\n",
      " [9 8 7]\n",
      " [6 5 4]]\n"
     ]
    }
   ],
   "source": [
    "# For working with arrays of mixed dimensions, it can be clearer to use the np.vstack\n",
    "# (vertical stack) and np.hstack (horizontal stack) functions:\n",
    "a = np.array([[1, 2, 3]])\n",
    "b = np.array([[9, 8, 7], [6, 5, 4]])\n",
    "print(\"\\na: \\n\", a)\n",
    "print(\"\\nb: \\n\", b)\n",
    "\n",
    "# vertically stack the arrays (axis = 0)\n",
    "c = np.vstack([a, b])\n",
    "print(\"\\nc: \\n\", c)"
   ]
  },
  {
   "cell_type": "markdown",
   "id": "1661388d",
   "metadata": {
    "papermill": {
     "duration": 0.058865,
     "end_time": "2023-09-01T07:14:29.693772",
     "exception": false,
     "start_time": "2023-09-01T07:14:29.634907",
     "status": "completed"
    },
    "tags": []
   },
   "source": [
    "#### ***numpy.hstack(tup, *, dtype=None, casting='same_kind')***\n",
    "* Stack arrays in sequence horizontally (column wise).\n",
    "* This is equivalent to concatenation along the second axis, except for 1-D arrays where it concatenates along the first axis. Rebuilds arrays divided by hsplit."
   ]
  },
  {
   "cell_type": "code",
   "execution_count": 49,
   "id": "0950398e",
   "metadata": {
    "execution": {
     "iopub.execute_input": "2023-09-01T07:14:29.807609Z",
     "iopub.status.busy": "2023-09-01T07:14:29.807136Z",
     "iopub.status.idle": "2023-09-01T07:14:29.815437Z",
     "shell.execute_reply": "2023-09-01T07:14:29.814306Z"
    },
    "papermill": {
     "duration": 0.06825,
     "end_time": "2023-09-01T07:14:29.817975",
     "exception": false,
     "start_time": "2023-09-01T07:14:29.749725",
     "status": "completed"
    },
    "tags": []
   },
   "outputs": [
    {
     "name": "stdout",
     "output_type": "stream",
     "text": [
      "\n",
      "a: \n",
      " [[99]\n",
      " [99]]\n",
      "\n",
      "b: \n",
      " [[9 8 7]\n",
      " [6 5 4]]\n",
      "\n",
      "c: \n",
      " [[99  9  8  7]\n",
      " [99  6  5  4]]\n"
     ]
    }
   ],
   "source": [
    "a = np.array([[99],\n",
    "            [99]])\n",
    "b = np.array([[9, 8, 7],\n",
    "                 [6, 5, 4]])\n",
    "print(\"\\na: \\n\", a)\n",
    "print(\"\\nb: \\n\", b)\n",
    "\n",
    "# horizontally stack the arrays (axis = 1)\n",
    "c = np.hstack([a, b])\n",
    "print(\"\\nc: \\n\", c)"
   ]
  },
  {
   "cell_type": "markdown",
   "id": "a536af09",
   "metadata": {
    "papermill": {
     "duration": 0.054058,
     "end_time": "2023-09-01T07:14:29.927709",
     "exception": false,
     "start_time": "2023-09-01T07:14:29.873651",
     "status": "completed"
    },
    "tags": []
   },
   "source": [
    "### Splitting of arrays\n",
    "\n",
    "* The opposite of concatenation is splitting, which is implemented by the functions ***np.split***, ***np.hsplit***, and ***np.vsplit***. For each of these, we can pass a list of indices giving the split points:\n",
    "\n",
    "#### ***numpy.split(ary, indices_or_sections, axis=0)***\n",
    "* Split an array into multiple sub-arrays as views into ary."
   ]
  },
  {
   "cell_type": "code",
   "execution_count": 50,
   "id": "88fbafae",
   "metadata": {
    "execution": {
     "iopub.execute_input": "2023-09-01T07:14:30.043604Z",
     "iopub.status.busy": "2023-09-01T07:14:30.043168Z",
     "iopub.status.idle": "2023-09-01T07:14:30.051471Z",
     "shell.execute_reply": "2023-09-01T07:14:30.049766Z"
    },
    "papermill": {
     "duration": 0.071955,
     "end_time": "2023-09-01T07:14:30.055286",
     "exception": false,
     "start_time": "2023-09-01T07:14:29.983331",
     "status": "completed"
    },
    "tags": []
   },
   "outputs": [
    {
     "name": "stdout",
     "output_type": "stream",
     "text": [
      "[1 2 3] [99 99] [3 2 1]\n"
     ]
    }
   ],
   "source": [
    "x = np.array([1,2,3,99,99,3,2,1])\n",
    "x1, x2, x3 = np.split(x, [3,5])\n",
    "print(x1, x2, x3)"
   ]
  },
  {
   "cell_type": "code",
   "execution_count": 51,
   "id": "fa37c3c3",
   "metadata": {
    "execution": {
     "iopub.execute_input": "2023-09-01T07:14:30.180569Z",
     "iopub.status.busy": "2023-09-01T07:14:30.180068Z",
     "iopub.status.idle": "2023-09-01T07:14:30.188419Z",
     "shell.execute_reply": "2023-09-01T07:14:30.186962Z"
    },
    "papermill": {
     "duration": 0.077135,
     "end_time": "2023-09-01T07:14:30.191489",
     "exception": false,
     "start_time": "2023-09-01T07:14:30.114354",
     "status": "completed"
    },
    "tags": []
   },
   "outputs": [
    {
     "name": "stdout",
     "output_type": "stream",
     "text": [
      "[1 2 3] [99 99] [3 2] [1]\n"
     ]
    }
   ],
   "source": [
    "x = np.array([1,2,3,99,99,3,2,1])\n",
    "x1, x2, x3, x4 = np.split(x, [3,5,7])\n",
    "print(x1, x2, x3,x4)"
   ]
  },
  {
   "cell_type": "markdown",
   "id": "b3533384",
   "metadata": {
    "papermill": {
     "duration": 0.055598,
     "end_time": "2023-09-01T07:14:30.302664",
     "exception": false,
     "start_time": "2023-09-01T07:14:30.247066",
     "status": "completed"
    },
    "tags": []
   },
   "source": [
    "* Notice that N split points lead to N + 1 subarrays. The related functions ***np.hsplit*** and ***np.vsplit*** are similar:\n",
    "\n",
    "\n",
    "#### ***numpy.vsplit(ary, indices_or_sections)***\n",
    "* Split an array into multiple sub-arrays vertically (row-wise).\n",
    "* vsplit is equivalent to split with axis=0 (default), the array is always split along the first axis regardless of the array dimension."
   ]
  },
  {
   "cell_type": "code",
   "execution_count": 52,
   "id": "5f39dbdd",
   "metadata": {
    "execution": {
     "iopub.execute_input": "2023-09-01T07:14:30.420021Z",
     "iopub.status.busy": "2023-09-01T07:14:30.419574Z",
     "iopub.status.idle": "2023-09-01T07:14:30.427477Z",
     "shell.execute_reply": "2023-09-01T07:14:30.426538Z"
    },
    "papermill": {
     "duration": 0.071264,
     "end_time": "2023-09-01T07:14:30.431254",
     "exception": false,
     "start_time": "2023-09-01T07:14:30.359990",
     "status": "completed"
    },
    "tags": []
   },
   "outputs": [
    {
     "name": "stdout",
     "output_type": "stream",
     "text": [
      "x: \n",
      " [[ 0.  1.  2.  3.  4.  5.]\n",
      " [ 6.  7.  8.  9. 10. 11.]\n",
      " [12. 13. 14. 15. 16. 17.]\n",
      " [18. 19. 20. 21. 22. 23.]\n",
      " [24. 25. 26. 27. 28. 29.]\n",
      " [30. 31. 32. 33. 34. 35.]]\n",
      "\n",
      "Upper: \n",
      " [[ 0.  1.  2.  3.  4.  5.]\n",
      " [ 6.  7.  8.  9. 10. 11.]]\n",
      "\n",
      "Lower: \n",
      " [[12. 13. 14. 15. 16. 17.]\n",
      " [18. 19. 20. 21. 22. 23.]\n",
      " [24. 25. 26. 27. 28. 29.]\n",
      " [30. 31. 32. 33. 34. 35.]]\n"
     ]
    }
   ],
   "source": [
    "x = np.arange(36, dtype=np.float32).reshape((6,6))\n",
    "print(\"x: \\n\", x)\n",
    "\n",
    "# Vertically splitting array in to 2 parts\n",
    "upper, lower = np.vsplit(x, [2])\n",
    "print(\"\\nUpper: \\n\", upper)\n",
    "print(\"\\nLower: \\n\", lower)"
   ]
  },
  {
   "cell_type": "code",
   "execution_count": 53,
   "id": "0568e3dc",
   "metadata": {
    "execution": {
     "iopub.execute_input": "2023-09-01T07:14:30.544617Z",
     "iopub.status.busy": "2023-09-01T07:14:30.544156Z",
     "iopub.status.idle": "2023-09-01T07:14:30.551890Z",
     "shell.execute_reply": "2023-09-01T07:14:30.550483Z"
    },
    "papermill": {
     "duration": 0.067411,
     "end_time": "2023-09-01T07:14:30.554586",
     "exception": false,
     "start_time": "2023-09-01T07:14:30.487175",
     "status": "completed"
    },
    "tags": []
   },
   "outputs": [
    {
     "name": "stdout",
     "output_type": "stream",
     "text": [
      "\n",
      "Upper: \n",
      " [[ 0.  1.  2.  3.  4.  5.]\n",
      " [ 6.  7.  8.  9. 10. 11.]]\n",
      "\n",
      "Middle: \n",
      " [[12. 13. 14. 15. 16. 17.]]\n",
      "\n",
      "Lower: \n",
      " [[18. 19. 20. 21. 22. 23.]\n",
      " [24. 25. 26. 27. 28. 29.]\n",
      " [30. 31. 32. 33. 34. 35.]]\n"
     ]
    }
   ],
   "source": [
    "# Vertically splitting array in to 3 parts\n",
    "upper, middle, lower = np.vsplit(x, [2,3])\n",
    "print(\"\\nUpper: \\n\", upper)\n",
    "print(\"\\nMiddle: \\n\", middle)\n",
    "print(\"\\nLower: \\n\", lower)"
   ]
  },
  {
   "cell_type": "markdown",
   "id": "41165e51",
   "metadata": {
    "papermill": {
     "duration": 0.054815,
     "end_time": "2023-09-01T07:14:30.665133",
     "exception": false,
     "start_time": "2023-09-01T07:14:30.610318",
     "status": "completed"
    },
    "tags": []
   },
   "source": [
    "#### ***numpy.hsplit(ary, indices_or_sections)***\n",
    "* Split an array into multiple sub-arrays horizontally (column-wise).\n",
    "* hsplit is equivalent to split with axis=1, the array is always split along the second axis except for 1-D arrays, where it is split at axis=0."
   ]
  },
  {
   "cell_type": "code",
   "execution_count": 54,
   "id": "21f2a0c5",
   "metadata": {
    "execution": {
     "iopub.execute_input": "2023-09-01T07:14:30.779408Z",
     "iopub.status.busy": "2023-09-01T07:14:30.778907Z",
     "iopub.status.idle": "2023-09-01T07:14:30.787989Z",
     "shell.execute_reply": "2023-09-01T07:14:30.786655Z"
    },
    "papermill": {
     "duration": 0.069445,
     "end_time": "2023-09-01T07:14:30.790627",
     "exception": false,
     "start_time": "2023-09-01T07:14:30.721182",
     "status": "completed"
    },
    "tags": []
   },
   "outputs": [
    {
     "name": "stdout",
     "output_type": "stream",
     "text": [
      "x: \n",
      " [[ 0.  1.  2.  3.  4.  5.]\n",
      " [ 6.  7.  8.  9. 10. 11.]\n",
      " [12. 13. 14. 15. 16. 17.]\n",
      " [18. 19. 20. 21. 22. 23.]\n",
      " [24. 25. 26. 27. 28. 29.]\n",
      " [30. 31. 32. 33. 34. 35.]]\n",
      "\n",
      "Left: \n",
      " [[ 0.  1.]\n",
      " [ 6.  7.]\n",
      " [12. 13.]\n",
      " [18. 19.]\n",
      " [24. 25.]\n",
      " [30. 31.]]\n",
      "\n",
      "Right: \n",
      " [[ 2.  3.  4.  5.]\n",
      " [ 8.  9. 10. 11.]\n",
      " [14. 15. 16. 17.]\n",
      " [20. 21. 22. 23.]\n",
      " [26. 27. 28. 29.]\n",
      " [32. 33. 34. 35.]]\n"
     ]
    }
   ],
   "source": [
    "x = np.arange(36, dtype=np.float32).reshape((6,6))\n",
    "print(\"x: \\n\", x)\n",
    "\n",
    "# Horizontally spliting array into 2 parts\n",
    "left, right = np.hsplit(x, [2])\n",
    "print(\"\\nLeft: \\n\", left)\n",
    "print(\"\\nRight: \\n\", right)"
   ]
  },
  {
   "cell_type": "code",
   "execution_count": 55,
   "id": "61647c07",
   "metadata": {
    "execution": {
     "iopub.execute_input": "2023-09-01T07:14:30.906517Z",
     "iopub.status.busy": "2023-09-01T07:14:30.906085Z",
     "iopub.status.idle": "2023-09-01T07:14:30.914086Z",
     "shell.execute_reply": "2023-09-01T07:14:30.912663Z"
    },
    "papermill": {
     "duration": 0.070723,
     "end_time": "2023-09-01T07:14:30.917169",
     "exception": false,
     "start_time": "2023-09-01T07:14:30.846446",
     "status": "completed"
    },
    "tags": []
   },
   "outputs": [
    {
     "name": "stdout",
     "output_type": "stream",
     "text": [
      "\n",
      "Left: \n",
      " [[ 0.  1.  2.]\n",
      " [ 6.  7.  8.]\n",
      " [12. 13. 14.]\n",
      " [18. 19. 20.]\n",
      " [24. 25. 26.]\n",
      " [30. 31. 32.]]\n",
      "\n",
      "Right: \n",
      " [[ 3.  4.  5.]\n",
      " [ 9. 10. 11.]\n",
      " [15. 16. 17.]\n",
      " [21. 22. 23.]\n",
      " [27. 28. 29.]\n",
      " [33. 34. 35.]]\n"
     ]
    }
   ],
   "source": [
    "# Horizontally spliting array into 2 equal parts\n",
    "left, right = np.hsplit(x, 2)\n",
    "print(\"\\nLeft: \\n\", left)\n",
    "print(\"\\nRight: \\n\", right)"
   ]
  },
  {
   "cell_type": "markdown",
   "id": "d2622573",
   "metadata": {
    "papermill": {
     "duration": 0.055503,
     "end_time": "2023-09-01T07:14:31.027532",
     "exception": false,
     "start_time": "2023-09-01T07:14:30.972029",
     "status": "completed"
    },
    "tags": []
   },
   "source": [
    "<a id=\"computation_on_numpy_arrays\"></a> <br>\n",
    "# Computation on NumPy Arrays: Universal Functions\n",
    "\n",
    "<a id=\"numpy_ufuncs\"></a> <br>\n",
    "## Exploring NumPy’s UFuncs\n",
    "\n",
    "* Ufuncs exist in two flavors: \n",
    "    * unary ufuncs, which operate on a single input\n",
    "    * binary ufuncs, which operate on two inputs. \n",
    "\n",
    "The standard addition, subtraction, multiplication, and division can all be used with NumPy arrays:"
   ]
  },
  {
   "cell_type": "markdown",
   "id": "ed92ed49",
   "metadata": {
    "papermill": {
     "duration": 0.05453,
     "end_time": "2023-09-01T07:14:31.139720",
     "exception": false,
     "start_time": "2023-09-01T07:14:31.085190",
     "status": "completed"
    },
    "tags": []
   },
   "source": [
    "<a id=\"array_arithmetic\"></a> <br>\n",
    "### Array arithmetic"
   ]
  },
  {
   "cell_type": "code",
   "execution_count": 56,
   "id": "ea60c03b",
   "metadata": {
    "execution": {
     "iopub.execute_input": "2023-09-01T07:14:31.253900Z",
     "iopub.status.busy": "2023-09-01T07:14:31.253453Z",
     "iopub.status.idle": "2023-09-01T07:14:31.265578Z",
     "shell.execute_reply": "2023-09-01T07:14:31.263546Z"
    },
    "papermill": {
     "duration": 0.072504,
     "end_time": "2023-09-01T07:14:31.268640",
     "exception": false,
     "start_time": "2023-09-01T07:14:31.196136",
     "status": "completed"
    },
    "tags": []
   },
   "outputs": [
    {
     "name": "stdout",
     "output_type": "stream",
     "text": [
      "x = [0 1 2 3]\n",
      "x + 5 = [5 6 7 8]\n",
      "x - 5 = [-5 -4 -3 -2]\n",
      "x * 2 = [0 2 4 6]\n",
      "x / 2 = [0.  0.5 1.  1.5]\n",
      "x // 2 = [0 0 1 1]\n",
      "x ** 2 =  [0 1 4 9]\n",
      "x % 2 =  [0 1 0 1]\n"
     ]
    }
   ],
   "source": [
    "x = np.arange(4)\n",
    "print(\"x =\", x)\n",
    "print(\"x + 5 =\", x + 5)\n",
    "print(\"x - 5 =\", x - 5)\n",
    "print(\"x * 2 =\", x * 2)\n",
    "print(\"x / 2 =\", x / 2)\n",
    "print(\"x // 2 =\", x // 2)    # floor division\n",
    "print(\"x ** 2 = \", x ** 2)   # exponent\n",
    "print(\"x % 2 = \", x % 2)     # modulo"
   ]
  },
  {
   "cell_type": "code",
   "execution_count": 57,
   "id": "e2def3a0",
   "metadata": {
    "execution": {
     "iopub.execute_input": "2023-09-01T07:14:31.383935Z",
     "iopub.status.busy": "2023-09-01T07:14:31.383514Z",
     "iopub.status.idle": "2023-09-01T07:14:31.390560Z",
     "shell.execute_reply": "2023-09-01T07:14:31.388774Z"
    },
    "papermill": {
     "duration": 0.069126,
     "end_time": "2023-09-01T07:14:31.393710",
     "exception": false,
     "start_time": "2023-09-01T07:14:31.324584",
     "status": "completed"
    },
    "tags": []
   },
   "outputs": [
    {
     "name": "stdout",
     "output_type": "stream",
     "text": [
      "-x =  [ 0 -1 -2 -3]\n"
     ]
    }
   ],
   "source": [
    "#There is also a unary ufunc for negation\n",
    "print(\"-x = \", -x)"
   ]
  },
  {
   "cell_type": "code",
   "execution_count": 58,
   "id": "db3d824d",
   "metadata": {
    "execution": {
     "iopub.execute_input": "2023-09-01T07:14:31.513776Z",
     "iopub.status.busy": "2023-09-01T07:14:31.513335Z",
     "iopub.status.idle": "2023-09-01T07:14:31.522127Z",
     "shell.execute_reply": "2023-09-01T07:14:31.520922Z"
    },
    "papermill": {
     "duration": 0.069755,
     "end_time": "2023-09-01T07:14:31.524805",
     "exception": false,
     "start_time": "2023-09-01T07:14:31.455050",
     "status": "completed"
    },
    "tags": []
   },
   "outputs": [
    {
     "data": {
      "text/plain": [
       "array([-1.  , -2.25, -4.  , -6.25])"
      ]
     },
     "execution_count": 58,
     "metadata": {},
     "output_type": "execute_result"
    }
   ],
   "source": [
    "# In addition, these can be strung together however you wish, and the standard order of operations is respected:\n",
    "-(0.5 * x + 1) ** 2"
   ]
  },
  {
   "cell_type": "markdown",
   "id": "5f210a81",
   "metadata": {
    "papermill": {
     "duration": 0.063118,
     "end_time": "2023-09-01T07:14:31.645184",
     "exception": false,
     "start_time": "2023-09-01T07:14:31.582066",
     "status": "completed"
    },
    "tags": []
   },
   "source": [
    "* NumPy’s ufuncs feel very natural to use because they make use of Python’s native arithmetic operators.\n",
    "* All of these arithmetic operations are simply convenient wrappers around specific functions built into NumPy; for example, the + operator is a wrapper for the add function."
   ]
  },
  {
   "cell_type": "code",
   "execution_count": 59,
   "id": "e88d00cb",
   "metadata": {
    "execution": {
     "iopub.execute_input": "2023-09-01T07:14:31.759980Z",
     "iopub.status.busy": "2023-09-01T07:14:31.758916Z",
     "iopub.status.idle": "2023-09-01T07:14:31.774962Z",
     "shell.execute_reply": "2023-09-01T07:14:31.773269Z"
    },
    "papermill": {
     "duration": 0.07627,
     "end_time": "2023-09-01T07:14:31.777641",
     "exception": false,
     "start_time": "2023-09-01T07:14:31.701371",
     "status": "completed"
    },
    "tags": []
   },
   "outputs": [
    {
     "name": "stdout",
     "output_type": "stream",
     "text": [
      "np.add(3, 2): 5\n",
      "\n",
      "x: \n",
      " [0 1 2 3 4 5]\n",
      "\n",
      "np.add(x, 2):\n",
      " [2 3 4 5 6 7]\n",
      "\n",
      "np.subtract(x, 5):\n",
      " [-5 -4 -3 -2 -1  0]\n",
      "\n",
      "(np.negative(x):\n",
      " [ 0 -1 -2 -3 -4 -5]\n",
      "\n",
      "np.multiply(x, 3):\n",
      " [ 0  3  6  9 12 15]\n",
      "\n",
      "np.divide(x, 2):\n",
      " [0.  0.5 1.  1.5 2.  2.5]\n",
      "\n",
      "np.floor_divide(x, 2):\n",
      " [0 0 1 1 2 2]\n",
      "\n",
      "np.power(x, 2):\n",
      " [ 0  1  4  9 16 25]\n",
      "\n",
      "np.mod(x, 2):\n",
      " [0 1 0 1 0 1]\n",
      "\n",
      "np.multiply(x, x):\n",
      " [ 0  1  4  9 16 25]\n"
     ]
    }
   ],
   "source": [
    "print(\"np.add(3, 2):\", np.add(3, 2))\n",
    "\n",
    "x = np.arange(6)\n",
    "print(\"\\nx: \\n\", x)\n",
    "print(\"\\nnp.add(x, 2):\\n\", np.add(x, 2))                    # Addition +\n",
    "print(\"\\nnp.subtract(x, 5):\\n\", np.subtract(x, 5))          # Subtraction -\n",
    "print(\"\\n(np.negative(x):\\n\", np.negative(x))              # Unary negation -\n",
    "print(\"\\nnp.multiply(x, 3):\\n\", np.multiply(x, 3))          # Multiplication *\n",
    "print(\"\\nnp.divide(x, 2):\\n\", np.divide(x, 2))              # Division /\n",
    "print(\"\\nnp.floor_divide(x, 2):\\n\", np.floor_divide(x, 2))   # Floor division //\n",
    "print(\"\\nnp.power(x, 2):\\n\", np.power(x, 2))                # Exponentiation **\n",
    "print(\"\\nnp.mod(x, 2):\\n\", np.mod(x, 2))                     # Modulus/remainder **\n",
    "print(\"\\nnp.multiply(x, x):\\n\", np.multiply(x, x))"
   ]
  },
  {
   "cell_type": "markdown",
   "id": "16e4ca3f",
   "metadata": {
    "papermill": {
     "duration": 0.05778,
     "end_time": "2023-09-01T07:14:31.893566",
     "exception": false,
     "start_time": "2023-09-01T07:14:31.835786",
     "status": "completed"
    },
    "tags": []
   },
   "source": [
    "#### ***numpy.average(a, axis=None, weights=None, returned=False, *, keepdims=<no value>)***\n",
    "* Compute the weighted average along the specified axis."
   ]
  },
  {
   "cell_type": "code",
   "execution_count": 60,
   "id": "24ae1633",
   "metadata": {
    "execution": {
     "iopub.execute_input": "2023-09-01T07:14:32.009177Z",
     "iopub.status.busy": "2023-09-01T07:14:32.008621Z",
     "iopub.status.idle": "2023-09-01T07:14:32.017721Z",
     "shell.execute_reply": "2023-09-01T07:14:32.015759Z"
    },
    "papermill": {
     "duration": 0.070088,
     "end_time": "2023-09-01T07:14:32.020735",
     "exception": false,
     "start_time": "2023-09-01T07:14:31.950647",
     "status": "completed"
    },
    "tags": []
   },
   "outputs": [
    {
     "name": "stdout",
     "output_type": "stream",
     "text": [
      "a:\n",
      " [[ 0  1  2  3]\n",
      " [ 4  5  6  7]\n",
      " [ 8  9 10 11]]\n",
      "\n",
      "Average of a:  5.5\n",
      "\n",
      "Average of a along axis=0:  [4. 5. 6. 7.]\n",
      "\n",
      "Average of a along axis=1:  [1.5 5.5 9.5]\n"
     ]
    }
   ],
   "source": [
    "a = np.arange(12).reshape((3, 4))\n",
    "print(\"a:\\n\", a)\n",
    "\n",
    "print(\"\\nAverage of a: \", np.average(a))\n",
    "print(\"\\nAverage of a along axis=0: \", np.average(a, axis=0))\n",
    "print(\"\\nAverage of a along axis=1: \", np.average(a, axis=1))"
   ]
  },
  {
   "cell_type": "markdown",
   "id": "93e4a826",
   "metadata": {
    "papermill": {
     "duration": 0.055813,
     "end_time": "2023-09-01T07:14:32.134072",
     "exception": false,
     "start_time": "2023-09-01T07:14:32.078259",
     "status": "completed"
    },
    "tags": []
   },
   "source": [
    "### Mean, Variance and Standard Deviation\n",
    "\n",
    "#### ***numpy.mean(a, axis=None, dtype=None, out=None, keepdims=<no value>, *, where=<no value>)***\n",
    "* Compute the arithmetic mean along the specified axis.\n",
    "* Returns the average of the array elements. The average is taken over the flattened array by default, otherwise over the specified axis. float64 intermediate and return values are used for integer inputs.\n",
    "\n",
    "#### ***numpy.std(a, axis=None, dtype=None, out=None, ddof=0, keepdims=<no value>, *, where=<no value>)***\n",
    "* Compute the standard deviation along the specified axis.\n",
    "* Returns the standard deviation, a measure of the spread of a distribution, of the array elements. The standard deviation is computed for the flattened array by default, otherwise over the specified axis.\n",
    "\n",
    "#### ***numpy.var(a, axis=None, dtype=None, out=None, ddof=0, keepdims=<no value>, *, where=<no value>)***\n",
    "* Compute the variance along the specified axis.\n",
    "* Returns the variance of the array elements, a measure of the spread of a distribution. The variance is computed for the flattened array by default, otherwise over the specified axis.\n",
    "    \n",
    "<center><img src=\"https://images.squarespace-cdn.com/content/v1/533db07de4b0d9f7ba7f1e77/1552186395207-9OQVIKUBI0G3TJPEJJ7R/summary+table+of+mean%2C+variance%2C+and+standard+deviation+formulas\" alt=\"cce\" border=\"0\" width=\"500px\"></center>"
   ]
  },
  {
   "cell_type": "code",
   "execution_count": 61,
   "id": "7ec33e3a",
   "metadata": {
    "execution": {
     "iopub.execute_input": "2023-09-01T07:14:32.251828Z",
     "iopub.status.busy": "2023-09-01T07:14:32.250904Z",
     "iopub.status.idle": "2023-09-01T07:14:32.263219Z",
     "shell.execute_reply": "2023-09-01T07:14:32.261432Z"
    },
    "papermill": {
     "duration": 0.074113,
     "end_time": "2023-09-01T07:14:32.265841",
     "exception": false,
     "start_time": "2023-09-01T07:14:32.191728",
     "status": "completed"
    },
    "tags": []
   },
   "outputs": [
    {
     "name": "stdout",
     "output_type": "stream",
     "text": [
      "a:\n",
      " [[1 2]\n",
      " [3 4]]\n",
      "Mean of a:  2.5\n",
      "Mean of a along axis=0:  [2. 3.]\n",
      "Mean of a along axis=1:  [1.5 3.5]\n"
     ]
    }
   ],
   "source": [
    "a = np.array([[1, 2], [3, 4]])\n",
    "print(\"a:\\n\", a)\n",
    "\n",
    "print(\"Mean of a: \", np.mean(a))\n",
    "print(\"Mean of a along axis=0: \", np.mean(a, axis=0))\n",
    "print(\"Mean of a along axis=1: \", np.mean(a, axis=1))"
   ]
  },
  {
   "cell_type": "code",
   "execution_count": 62,
   "id": "ae3bb8c3",
   "metadata": {
    "execution": {
     "iopub.execute_input": "2023-09-01T07:14:32.382209Z",
     "iopub.status.busy": "2023-09-01T07:14:32.381724Z",
     "iopub.status.idle": "2023-09-01T07:14:32.390507Z",
     "shell.execute_reply": "2023-09-01T07:14:32.389181Z"
    },
    "papermill": {
     "duration": 0.06952,
     "end_time": "2023-09-01T07:14:32.392840",
     "exception": false,
     "start_time": "2023-09-01T07:14:32.323320",
     "status": "completed"
    },
    "tags": []
   },
   "outputs": [
    {
     "name": "stdout",
     "output_type": "stream",
     "text": [
      "a: \n",
      " [[ 0  1  2  3]\n",
      " [ 4  5  6  7]\n",
      " [ 8  9 10 11]]\n",
      "Standard Deviation: \n",
      " 3.452052529534663\n",
      "Standard Deviation along axis=0: \n",
      " [3.26598632 3.26598632 3.26598632 3.26598632]\n",
      "Standard Deviation along axis=1: \n",
      " [1.11803399 1.11803399 1.11803399]\n"
     ]
    }
   ],
   "source": [
    "a = np.arange(12).reshape(3, 4)\n",
    "print(\"a: \\n\", a)\n",
    "print(\"Standard Deviation: \\n\", np.std(a))\n",
    "print(\"Standard Deviation along axis=0: \\n\", np.std(a, axis=0))\n",
    "print(\"Standard Deviation along axis=1: \\n\", np.std(a, axis=1))"
   ]
  },
  {
   "cell_type": "code",
   "execution_count": 63,
   "id": "079c5c72",
   "metadata": {
    "execution": {
     "iopub.execute_input": "2023-09-01T07:14:32.535572Z",
     "iopub.status.busy": "2023-09-01T07:14:32.534845Z",
     "iopub.status.idle": "2023-09-01T07:14:32.543978Z",
     "shell.execute_reply": "2023-09-01T07:14:32.542466Z"
    },
    "papermill": {
     "duration": 0.081747,
     "end_time": "2023-09-01T07:14:32.547011",
     "exception": false,
     "start_time": "2023-09-01T07:14:32.465264",
     "status": "completed"
    },
    "tags": []
   },
   "outputs": [
    {
     "name": "stdout",
     "output_type": "stream",
     "text": [
      "a: \n",
      " [[5 1 5]\n",
      " [7 8 9]\n",
      " [4 5 7]\n",
      " [3 9 3]]\n",
      "Variance: \n",
      " 5.916666666666667\n",
      "Variance along axis=0: \n",
      " [2.1875 9.6875 5.    ]\n",
      "Variance along axis=1: \n",
      " [3.55555556 0.66666667 1.55555556 8.        ]\n"
     ]
    }
   ],
   "source": [
    "\n",
    "a = np.random.randint(0, 12, (4, 3))\n",
    "print(\"a: \\n\", a)\n",
    "print(\"Variance: \\n\", np.var(a))\n",
    "print(\"Variance along axis=0: \\n\", np.var(a, axis=0))\n",
    "print(\"Variance along axis=1: \\n\", np.var(a, axis=1))"
   ]
  },
  {
   "cell_type": "markdown",
   "id": "57119e7b",
   "metadata": {
    "papermill": {
     "duration": 0.055535,
     "end_time": "2023-09-01T07:14:32.659126",
     "exception": false,
     "start_time": "2023-09-01T07:14:32.603591",
     "status": "completed"
    },
    "tags": []
   },
   "source": [
    "#### ***numpy.round(a, decimals=0, out=None)***\n",
    "* Evenly round to the given number of decimals.\n",
    "* For values exactly halfway between rounded decimal values, NumPy rounds to the nearest even value. Thus 1.5 and 2.5 round to 2.0, -0.5 and 0.5 round to 0.0, etc.\n",
    "* np.around() and np.rint() are alias of np.round()."
   ]
  },
  {
   "cell_type": "code",
   "execution_count": 64,
   "id": "d1b91780",
   "metadata": {
    "execution": {
     "iopub.execute_input": "2023-09-01T07:14:32.839417Z",
     "iopub.status.busy": "2023-09-01T07:14:32.838911Z",
     "iopub.status.idle": "2023-09-01T07:14:32.847556Z",
     "shell.execute_reply": "2023-09-01T07:14:32.846216Z"
    },
    "papermill": {
     "duration": 0.069087,
     "end_time": "2023-09-01T07:14:32.850100",
     "exception": false,
     "start_time": "2023-09-01T07:14:32.781013",
     "status": "completed"
    },
    "tags": []
   },
   "outputs": [
    {
     "data": {
      "text/plain": [
       "array([0., 2., 2., 4., 5., 5., 6., 8.])"
      ]
     },
     "execution_count": 64,
     "metadata": {},
     "output_type": "execute_result"
    }
   ],
   "source": [
    "np.round([.5, 1.5, 2.5, 3.5, 4.6, 5.4, 6.5, 7.8])\n",
    "#np.around([.5, 1.5, 2.5, 3.5, 4.6, 5.4, 6.5, 7.8])            # equivalent to np.round()\n",
    "#np.rint([.5, 1.5, 2.5, 3.5, 4.6, 5.4, 6.5, 7.8])              # equivalent to np.round()"
   ]
  },
  {
   "cell_type": "markdown",
   "id": "1b2d790c",
   "metadata": {
    "papermill": {
     "duration": 0.058947,
     "end_time": "2023-09-01T07:14:32.967034",
     "exception": false,
     "start_time": "2023-09-01T07:14:32.908087",
     "status": "completed"
    },
    "tags": []
   },
   "source": [
    "#### ***numpy.ediff1d(ary, to_end=None, to_begin=None)***\n",
    "* The differences between consecutive elements of an array.\n",
    "* The first difference is given by out[i] = a[i+1] - a[i] along the given axis, higher differences are calculated by using diff recursively."
   ]
  },
  {
   "cell_type": "code",
   "execution_count": 65,
   "id": "f39dfa25",
   "metadata": {
    "execution": {
     "iopub.execute_input": "2023-09-01T07:14:33.082535Z",
     "iopub.status.busy": "2023-09-01T07:14:33.082089Z",
     "iopub.status.idle": "2023-09-01T07:14:33.090320Z",
     "shell.execute_reply": "2023-09-01T07:14:33.088926Z"
    },
    "papermill": {
     "duration": 0.068842,
     "end_time": "2023-09-01T07:14:33.092898",
     "exception": false,
     "start_time": "2023-09-01T07:14:33.024056",
     "status": "completed"
    },
    "tags": []
   },
   "outputs": [
    {
     "data": {
      "text/plain": [
       "array([ 1,  2,  3, -7])"
      ]
     },
     "execution_count": 65,
     "metadata": {},
     "output_type": "execute_result"
    }
   ],
   "source": [
    "x = np.array([1, 2, 4, 7, 0])\n",
    "np.ediff1d(x)"
   ]
  },
  {
   "cell_type": "code",
   "execution_count": 66,
   "id": "e283a296",
   "metadata": {
    "execution": {
     "iopub.execute_input": "2023-09-01T07:14:33.211496Z",
     "iopub.status.busy": "2023-09-01T07:14:33.211027Z",
     "iopub.status.idle": "2023-09-01T07:14:33.220631Z",
     "shell.execute_reply": "2023-09-01T07:14:33.219393Z"
    },
    "papermill": {
     "duration": 0.073868,
     "end_time": "2023-09-01T07:14:33.223912",
     "exception": false,
     "start_time": "2023-09-01T07:14:33.150044",
     "status": "completed"
    },
    "tags": []
   },
   "outputs": [
    {
     "data": {
      "text/plain": [
       "array([-99,   1,   2,   3,  -7,  88,  99])"
      ]
     },
     "execution_count": 66,
     "metadata": {},
     "output_type": "execute_result"
    }
   ],
   "source": [
    "np.ediff1d(x, to_begin=-99, to_end=np.array([88, 99]))"
   ]
  },
  {
   "cell_type": "code",
   "execution_count": 67,
   "id": "26763c3d",
   "metadata": {
    "execution": {
     "iopub.execute_input": "2023-09-01T07:14:33.345915Z",
     "iopub.status.busy": "2023-09-01T07:14:33.345064Z",
     "iopub.status.idle": "2023-09-01T07:14:33.353837Z",
     "shell.execute_reply": "2023-09-01T07:14:33.352460Z"
    },
    "papermill": {
     "duration": 0.073696,
     "end_time": "2023-09-01T07:14:33.356479",
     "exception": false,
     "start_time": "2023-09-01T07:14:33.282783",
     "status": "completed"
    },
    "tags": []
   },
   "outputs": [
    {
     "data": {
      "text/plain": [
       "array([ 1,  2, -3,  5, 18])"
      ]
     },
     "execution_count": 67,
     "metadata": {},
     "output_type": "execute_result"
    }
   ],
   "source": [
    "# ediff1d cosider multi-dimensional array as 1-dim array and always returns 1-d array\n",
    "y = [[1, 2, 4], [1, 6, 24]]\n",
    "np.ediff1d(y)"
   ]
  },
  {
   "cell_type": "markdown",
   "id": "45bc917f",
   "metadata": {
    "papermill": {
     "duration": 0.058537,
     "end_time": "2023-09-01T07:14:33.476174",
     "exception": false,
     "start_time": "2023-09-01T07:14:33.417637",
     "status": "completed"
    },
    "tags": []
   },
   "source": [
    "#### ***numpy.diff(a, n=1, axis=-1, prepend=<no value>, append=<no value>)***\n",
    "* Calculate the n-th discrete difference along the given axis.\n",
    "* The first difference is given by out[i] = a[i+1] - a[i] along the given axis, higher differences are calculated by using diff recursively."
   ]
  },
  {
   "cell_type": "code",
   "execution_count": 68,
   "id": "ec5f5c05",
   "metadata": {
    "execution": {
     "iopub.execute_input": "2023-09-01T07:14:33.630108Z",
     "iopub.status.busy": "2023-09-01T07:14:33.629235Z",
     "iopub.status.idle": "2023-09-01T07:14:33.637332Z",
     "shell.execute_reply": "2023-09-01T07:14:33.636181Z"
    },
    "papermill": {
     "duration": 0.077303,
     "end_time": "2023-09-01T07:14:33.639832",
     "exception": false,
     "start_time": "2023-09-01T07:14:33.562529",
     "status": "completed"
    },
    "tags": []
   },
   "outputs": [
    {
     "data": {
      "text/plain": [
       "array([ 1,  2,  3, -7])"
      ]
     },
     "execution_count": 68,
     "metadata": {},
     "output_type": "execute_result"
    }
   ],
   "source": [
    "x = np.array([1, 2, 4, 7, 0])\n",
    "np.diff(x)"
   ]
  },
  {
   "cell_type": "code",
   "execution_count": 69,
   "id": "3a38ead4",
   "metadata": {
    "execution": {
     "iopub.execute_input": "2023-09-01T07:14:33.758024Z",
     "iopub.status.busy": "2023-09-01T07:14:33.757571Z",
     "iopub.status.idle": "2023-09-01T07:14:33.765917Z",
     "shell.execute_reply": "2023-09-01T07:14:33.764708Z"
    },
    "papermill": {
     "duration": 0.070999,
     "end_time": "2023-09-01T07:14:33.768504",
     "exception": false,
     "start_time": "2023-09-01T07:14:33.697505",
     "status": "completed"
    },
    "tags": []
   },
   "outputs": [
    {
     "data": {
      "text/plain": [
       "array([[2, 3, 4],\n",
       "       [5, 1, 2]])"
      ]
     },
     "execution_count": 69,
     "metadata": {},
     "output_type": "execute_result"
    }
   ],
   "source": [
    "x = np.array([[1, 3, 6, 10], [0, 5, 6, 8]])\n",
    "np.diff(x)"
   ]
  },
  {
   "cell_type": "code",
   "execution_count": 70,
   "id": "6be7b7e5",
   "metadata": {
    "execution": {
     "iopub.execute_input": "2023-09-01T07:14:33.889450Z",
     "iopub.status.busy": "2023-09-01T07:14:33.889019Z",
     "iopub.status.idle": "2023-09-01T07:14:33.897135Z",
     "shell.execute_reply": "2023-09-01T07:14:33.895878Z"
    },
    "papermill": {
     "duration": 0.071135,
     "end_time": "2023-09-01T07:14:33.899513",
     "exception": false,
     "start_time": "2023-09-01T07:14:33.828378",
     "status": "completed"
    },
    "tags": []
   },
   "outputs": [
    {
     "data": {
      "text/plain": [
       "array([[-1,  2,  0, -2]])"
      ]
     },
     "execution_count": 70,
     "metadata": {},
     "output_type": "execute_result"
    }
   ],
   "source": [
    "np.diff(x, axis=0)"
   ]
  },
  {
   "cell_type": "markdown",
   "id": "757bf693",
   "metadata": {
    "papermill": {
     "duration": 0.05767,
     "end_time": "2023-09-01T07:14:34.017253",
     "exception": false,
     "start_time": "2023-09-01T07:14:33.959583",
     "status": "completed"
    },
    "tags": []
   },
   "source": [
    "<a id=\"exponenets_and_logarithms\"></a> <br>\n",
    "### Exponents and logarithms\n",
    "\n",
    "* Another common type of operation available in a NumPy ufunc are the exponentials and logarithms:"
   ]
  },
  {
   "cell_type": "code",
   "execution_count": 71,
   "id": "f8468669",
   "metadata": {
    "execution": {
     "iopub.execute_input": "2023-09-01T07:14:34.135305Z",
     "iopub.status.busy": "2023-09-01T07:14:34.134071Z",
     "iopub.status.idle": "2023-09-01T07:14:34.142491Z",
     "shell.execute_reply": "2023-09-01T07:14:34.141170Z"
    },
    "papermill": {
     "duration": 0.068747,
     "end_time": "2023-09-01T07:14:34.144724",
     "exception": false,
     "start_time": "2023-09-01T07:14:34.075977",
     "status": "completed"
    },
    "tags": []
   },
   "outputs": [
    {
     "name": "stdout",
     "output_type": "stream",
     "text": [
      "x:  [1 2 3]\n",
      "\n",
      "e^x:  [ 2.71828183  7.3890561  20.08553692]\n",
      "\n",
      "2^x:  [2. 4. 8.]\n",
      "\n",
      "3^x:  [ 3  9 27]\n"
     ]
    }
   ],
   "source": [
    "x = np.array([1,2,3])\n",
    "print(\"x: \", x)\n",
    "print(\"\\ne^x: \",np.exp(x))\n",
    "print(\"\\n2^x: \",np.exp2(x))\n",
    "print(\"\\n3^x: \",np.power(3,x))"
   ]
  },
  {
   "cell_type": "code",
   "execution_count": 72,
   "id": "7b7e1cff",
   "metadata": {
    "execution": {
     "iopub.execute_input": "2023-09-01T07:14:34.260985Z",
     "iopub.status.busy": "2023-09-01T07:14:34.260086Z",
     "iopub.status.idle": "2023-09-01T07:14:34.268819Z",
     "shell.execute_reply": "2023-09-01T07:14:34.267371Z"
    },
    "papermill": {
     "duration": 0.069717,
     "end_time": "2023-09-01T07:14:34.271366",
     "exception": false,
     "start_time": "2023-09-01T07:14:34.201649",
     "status": "completed"
    },
    "tags": []
   },
   "outputs": [
    {
     "name": "stdout",
     "output_type": "stream",
     "text": [
      "x:  [1, 2, 4, 10]\n",
      "\n",
      "ln(x) : [0.         0.69314718 1.38629436 2.30258509]\n",
      "\n",
      "log2(x):  [0.         1.         2.         3.32192809]\n",
      "\n",
      "log10(x):  [0.         0.30103    0.60205999 1.        ]\n"
     ]
    }
   ],
   "source": [
    "# The inverse of the exponentials, the logarithms, are also available. The basic np.log gives the natural logarithm; \n",
    "# if you prefer to compute the base-2 logarithm or the base-10 logarithm, these are available as well.\n",
    "\n",
    "x = [1, 2, 4, 10]\n",
    "print(\"x: \", x)\n",
    "print(\"\\nln(x) :\", np.log(x))\n",
    "print(\"\\nlog2(x): \", np.log2(x))\n",
    "print(\"\\nlog10(x): \", np.log10(x))"
   ]
  },
  {
   "cell_type": "code",
   "execution_count": 73,
   "id": "2a22deeb",
   "metadata": {
    "execution": {
     "iopub.execute_input": "2023-09-01T07:14:34.388779Z",
     "iopub.status.busy": "2023-09-01T07:14:34.387882Z",
     "iopub.status.idle": "2023-09-01T07:14:34.396827Z",
     "shell.execute_reply": "2023-09-01T07:14:34.394941Z"
    },
    "papermill": {
     "duration": 0.071236,
     "end_time": "2023-09-01T07:14:34.399531",
     "exception": false,
     "start_time": "2023-09-01T07:14:34.328295",
     "status": "completed"
    },
    "tags": []
   },
   "outputs": [
    {
     "name": "stdout",
     "output_type": "stream",
     "text": [
      "exp(x)-1:  [0.         0.0010005  0.01005017 0.10517092]\n",
      "\n",
      "log(1+x):  [0.         0.0009995  0.00995033 0.09531018]\n"
     ]
    }
   ],
   "source": [
    "# There are also some specialized versions that are useful for maintaining precision with very small input.\n",
    "x = [0, 0.001, 0.01, 0.1]\n",
    "print(\"exp(x)-1: \", np.expm1(x))\n",
    "print(\"\\nlog(1+x): \", np.log1p(x))"
   ]
  },
  {
   "cell_type": "markdown",
   "id": "c8317a61",
   "metadata": {
    "papermill": {
     "duration": 0.060129,
     "end_time": "2023-09-01T07:14:34.518760",
     "exception": false,
     "start_time": "2023-09-01T07:14:34.458631",
     "status": "completed"
    },
    "tags": []
   },
   "source": [
    "<a id=\"absolute_value\"></a> <br>\n",
    "### Absolute value"
   ]
  },
  {
   "cell_type": "code",
   "execution_count": 74,
   "id": "3ef6e004",
   "metadata": {
    "execution": {
     "iopub.execute_input": "2023-09-01T07:14:34.638765Z",
     "iopub.status.busy": "2023-09-01T07:14:34.638344Z",
     "iopub.status.idle": "2023-09-01T07:14:34.646598Z",
     "shell.execute_reply": "2023-09-01T07:14:34.645217Z"
    },
    "papermill": {
     "duration": 0.070335,
     "end_time": "2023-09-01T07:14:34.649332",
     "exception": false,
     "start_time": "2023-09-01T07:14:34.578997",
     "status": "completed"
    },
    "tags": []
   },
   "outputs": [
    {
     "data": {
      "text/plain": [
       "array([2, 1, 0, 1, 2])"
      ]
     },
     "execution_count": 74,
     "metadata": {},
     "output_type": "execute_result"
    }
   ],
   "source": [
    "# Just as NumPy understands Python’s built-in arithmetic operators, it also understands\n",
    "# Python’s built-in absolute value function:\n",
    "x = np.array([-2, -1, 0, 1, 2])\n",
    "abs(x)"
   ]
  },
  {
   "cell_type": "markdown",
   "id": "b9be888f",
   "metadata": {
    "papermill": {
     "duration": 0.058103,
     "end_time": "2023-09-01T07:14:34.766599",
     "exception": false,
     "start_time": "2023-09-01T07:14:34.708496",
     "status": "completed"
    },
    "tags": []
   },
   "source": [
    "The corresponding NumPy ufunc is ***np.absolute***, which is also available under the alias ***np.abs***.\n",
    "#### ***numpy.absolute(x, /, out=None, *, where=True, casting='same_kind', order='K', dtype=None, subok=True[, signature, extobj])***\n",
    "* Calculate the absolute value element-wise."
   ]
  },
  {
   "cell_type": "code",
   "execution_count": 75,
   "id": "b1f13ba0",
   "metadata": {
    "execution": {
     "iopub.execute_input": "2023-09-01T07:14:34.884409Z",
     "iopub.status.busy": "2023-09-01T07:14:34.883999Z",
     "iopub.status.idle": "2023-09-01T07:14:34.890626Z",
     "shell.execute_reply": "2023-09-01T07:14:34.889303Z"
    },
    "papermill": {
     "duration": 0.068559,
     "end_time": "2023-09-01T07:14:34.893101",
     "exception": false,
     "start_time": "2023-09-01T07:14:34.824542",
     "status": "completed"
    },
    "tags": []
   },
   "outputs": [
    {
     "name": "stdout",
     "output_type": "stream",
     "text": [
      "x:  [-2 -1  0  1  2]\n",
      "\n",
      "np.absolute(x):  [2 1 0 1 2]\n",
      "\n",
      "np.abs(x):  [2 1 0 1 2]\n"
     ]
    }
   ],
   "source": [
    "print(\"x: \", x)\n",
    "print(\"\\nnp.absolute(x): \", np.absolute(x))\n",
    "print(\"\\nnp.abs(x): \", np.abs(x))"
   ]
  },
  {
   "cell_type": "code",
   "execution_count": 76,
   "id": "1e43a50a",
   "metadata": {
    "execution": {
     "iopub.execute_input": "2023-09-01T07:14:35.013902Z",
     "iopub.status.busy": "2023-09-01T07:14:35.013447Z",
     "iopub.status.idle": "2023-09-01T07:14:35.022218Z",
     "shell.execute_reply": "2023-09-01T07:14:35.020438Z"
    },
    "papermill": {
     "duration": 0.072481,
     "end_time": "2023-09-01T07:14:35.025129",
     "exception": false,
     "start_time": "2023-09-01T07:14:34.952648",
     "status": "completed"
    },
    "tags": []
   },
   "outputs": [
    {
     "name": "stdout",
     "output_type": "stream",
     "text": [
      "\n",
      "np.absolute(x):  [25.          5.          2.          3.16227766]\n"
     ]
    }
   ],
   "source": [
    "# This ufunc can also handle complex data, in which the absolute value returns the magnitude:\n",
    "x = np.array([7-24j,4-3j,2+0j,1+3j])\n",
    "print(\"\\nnp.absolute(x): \", np.absolute(x))"
   ]
  },
  {
   "cell_type": "markdown",
   "id": "57b12c5c",
   "metadata": {
    "papermill": {
     "duration": 0.058452,
     "end_time": "2023-09-01T07:14:35.142372",
     "exception": false,
     "start_time": "2023-09-01T07:14:35.083920",
     "status": "completed"
    },
    "tags": []
   },
   "source": [
    "<a id=\"trigonometric_functions\"></a> <br>\n",
    "### Trigonometric functions\n",
    "\n",
    "* NumPy provides a large number of useful ufuncs, and some of the most useful for the data scientist are the trigonometric functions. "
   ]
  },
  {
   "cell_type": "code",
   "execution_count": 77,
   "id": "2eb5ff4c",
   "metadata": {
    "execution": {
     "iopub.execute_input": "2023-09-01T07:14:35.263124Z",
     "iopub.status.busy": "2023-09-01T07:14:35.262672Z",
     "iopub.status.idle": "2023-09-01T07:14:35.273343Z",
     "shell.execute_reply": "2023-09-01T07:14:35.272133Z"
    },
    "papermill": {
     "duration": 0.073925,
     "end_time": "2023-09-01T07:14:35.275926",
     "exception": false,
     "start_time": "2023-09-01T07:14:35.202001",
     "status": "completed"
    },
    "tags": []
   },
   "outputs": [
    {
     "name": "stdout",
     "output_type": "stream",
     "text": [
      "theta:  [0.         1.57079633 3.14159265]\n",
      "\n",
      "sin(theta):  [0.0000000e+00 1.0000000e+00 1.2246468e-16]\n",
      "\n",
      "cos(theta):  [ 1.000000e+00  6.123234e-17 -1.000000e+00]\n",
      "\n",
      "tan(theta):  [ 0.00000000e+00  1.63312394e+16 -1.22464680e-16]\n"
     ]
    }
   ],
   "source": [
    "# define an array of angles:\n",
    "theta = np.linspace(0,np.pi,3)\n",
    "\n",
    "# now we can compute some trigonometric fuctions on these values:\n",
    "print(\"theta: \",theta)\n",
    "print(\"\\nsin(theta): \",np.sin(theta))\n",
    "print(\"\\ncos(theta): \",np.cos(theta))\n",
    "print(\"\\ntan(theta): \",np.tan(theta))"
   ]
  },
  {
   "cell_type": "code",
   "execution_count": 78,
   "id": "196fef7f",
   "metadata": {
    "execution": {
     "iopub.execute_input": "2023-09-01T07:14:35.395370Z",
     "iopub.status.busy": "2023-09-01T07:14:35.394939Z",
     "iopub.status.idle": "2023-09-01T07:14:35.402628Z",
     "shell.execute_reply": "2023-09-01T07:14:35.401271Z"
    },
    "papermill": {
     "duration": 0.071321,
     "end_time": "2023-09-01T07:14:35.405482",
     "exception": false,
     "start_time": "2023-09-01T07:14:35.334161",
     "status": "completed"
    },
    "tags": []
   },
   "outputs": [
    {
     "name": "stdout",
     "output_type": "stream",
     "text": [
      "x =  [-1  0  1]\n",
      "\n",
      "arcsin(x):  [-1.57079633  0.          1.57079633]\n",
      "\n",
      "arccos(x):  [3.14159265 1.57079633 0.        ]\n",
      "\n",
      "arctan(x):  [-0.78539816  0.          0.78539816]\n"
     ]
    }
   ],
   "source": [
    "x = np.array([-1, 0, 1])\n",
    "\n",
    "print(\"x = \", x)\n",
    "print(\"\\narcsin(x): \", np.arcsin(x))\n",
    "print(\"\\narccos(x): \", np.arccos(x))\n",
    "print(\"\\narctan(x): \", np.arctan(x))"
   ]
  },
  {
   "cell_type": "markdown",
   "id": "3e13905f",
   "metadata": {
    "papermill": {
     "duration": 0.058736,
     "end_time": "2023-09-01T07:14:35.523233",
     "exception": false,
     "start_time": "2023-09-01T07:14:35.464497",
     "status": "completed"
    },
    "tags": []
   },
   "source": [
    "<a id=\"aggregation_min_max\"></a> <br>\n",
    "# Aggregations: Min, Max, and Everything in Between\n",
    "\n",
    "NumPy has fast built-in aggregation functions for working on arrays."
   ]
  },
  {
   "cell_type": "markdown",
   "id": "fc7eab02",
   "metadata": {
    "papermill": {
     "duration": 0.060407,
     "end_time": "2023-09-01T07:14:35.642253",
     "exception": false,
     "start_time": "2023-09-01T07:14:35.581846",
     "status": "completed"
    },
    "tags": []
   },
   "source": [
    "<a id=\"summing_values_in_array\"></a> <br>\n",
    "## Summing the Values in an Array"
   ]
  },
  {
   "cell_type": "code",
   "execution_count": 79,
   "id": "5d534df8",
   "metadata": {
    "execution": {
     "iopub.execute_input": "2023-09-01T07:14:35.762263Z",
     "iopub.status.busy": "2023-09-01T07:14:35.761838Z",
     "iopub.status.idle": "2023-09-01T07:14:35.769434Z",
     "shell.execute_reply": "2023-09-01T07:14:35.768128Z"
    },
    "papermill": {
     "duration": 0.071059,
     "end_time": "2023-09-01T07:14:35.772151",
     "exception": false,
     "start_time": "2023-09-01T07:14:35.701092",
     "status": "completed"
    },
    "tags": []
   },
   "outputs": [
    {
     "name": "stdout",
     "output_type": "stream",
     "text": [
      "sum(x):  54.694779500253865\n",
      "\n",
      "np.sum(x):  54.69477950025388\n"
     ]
    }
   ],
   "source": [
    "# As a quick example, consider computing the sum of all values in an array. \n",
    "# Python itself can do this using the built-in sum function:\n",
    "x = np.random.random(100)\n",
    "print(\"sum(x): \", sum(x))\n",
    "\n",
    "# NumPy supports np.sum() to perform summation on array\n",
    "print(\"\\nnp.sum(x): \", np.sum(x))"
   ]
  },
  {
   "cell_type": "code",
   "execution_count": 80,
   "id": "303c0614",
   "metadata": {
    "execution": {
     "iopub.execute_input": "2023-09-01T07:14:35.893020Z",
     "iopub.status.busy": "2023-09-01T07:14:35.892555Z",
     "iopub.status.idle": "2023-09-01T07:14:40.792731Z",
     "shell.execute_reply": "2023-09-01T07:14:40.791464Z"
    },
    "papermill": {
     "duration": 4.963506,
     "end_time": "2023-09-01T07:14:40.795585",
     "exception": false,
     "start_time": "2023-09-01T07:14:35.832079",
     "status": "completed"
    },
    "tags": []
   },
   "outputs": [
    {
     "name": "stdout",
     "output_type": "stream",
     "text": [
      "206 ms ± 1.64 ms per loop (mean ± std. dev. of 7 runs, 1 loop each)\n",
      "397 µs ± 11.6 µs per loop (mean ± std. dev. of 7 runs, 1,000 loops each)\n"
     ]
    }
   ],
   "source": [
    "# NumPy executes the operation in compiled code, NumPy’s version of the\n",
    "# operation is computed much more quickly.\n",
    "big_array = np.random.rand(1000000)\n",
    "\n",
    "%timeit sum(big_array)\n",
    "%timeit np.sum(big_array)"
   ]
  },
  {
   "cell_type": "markdown",
   "id": "4a0ff8e0",
   "metadata": {
    "papermill": {
     "duration": 0.058856,
     "end_time": "2023-09-01T07:14:40.914424",
     "exception": false,
     "start_time": "2023-09-01T07:14:40.855568",
     "status": "completed"
    },
    "tags": []
   },
   "source": [
    "<a id=\"minimum_and_maximum\"></a> <br>\n",
    "## Minimum and Maximum"
   ]
  },
  {
   "cell_type": "code",
   "execution_count": 81,
   "id": "8ccbd73e",
   "metadata": {
    "execution": {
     "iopub.execute_input": "2023-09-01T07:14:41.037515Z",
     "iopub.status.busy": "2023-09-01T07:14:41.037091Z",
     "iopub.status.idle": "2023-09-01T07:14:41.341347Z",
     "shell.execute_reply": "2023-09-01T07:14:41.339639Z"
    },
    "papermill": {
     "duration": 0.368936,
     "end_time": "2023-09-01T07:14:41.344303",
     "exception": false,
     "start_time": "2023-09-01T07:14:40.975367",
     "status": "completed"
    },
    "tags": []
   },
   "outputs": [
    {
     "name": "stdout",
     "output_type": "stream",
     "text": [
      "min(big_array):  3.727901698447056e-07\n",
      "max(big_array):  0.9999992738432872\n",
      "\n",
      "np.min(big_array):  3.727901698447056e-07\n",
      "np.max(big_array):  0.9999992738432872\n"
     ]
    }
   ],
   "source": [
    "# Similarly, Python has built-in min and max functions, used to find the minimum value\n",
    "# and maximum value of any given array:\n",
    "\n",
    "print(\"min(big_array): \", min(big_array))\n",
    "print(\"max(big_array): \", max(big_array)) \n",
    "\n",
    "#NumPy’s corresponding functions have similar syntax, and again operate much more quickly:\n",
    "print(\"\\nnp.min(big_array): \",np.min(big_array))\n",
    "print(\"np.max(big_array): \", np.max(big_array))"
   ]
  },
  {
   "cell_type": "code",
   "execution_count": 82,
   "id": "43bc39d7",
   "metadata": {
    "execution": {
     "iopub.execute_input": "2023-09-01T07:14:41.467702Z",
     "iopub.status.busy": "2023-09-01T07:14:41.467293Z",
     "iopub.status.idle": "2023-09-01T07:14:56.884970Z",
     "shell.execute_reply": "2023-09-01T07:14:56.883259Z"
    },
    "papermill": {
     "duration": 15.482411,
     "end_time": "2023-09-01T07:14:56.887975",
     "exception": false,
     "start_time": "2023-09-01T07:14:41.405564",
     "status": "completed"
    },
    "tags": []
   },
   "outputs": [
    {
     "name": "stdout",
     "output_type": "stream",
     "text": [
      "148 ms ± 1.8 ms per loop (mean ± std. dev. of 7 runs, 10 loops each)\n",
      "419 µs ± 26 µs per loop (mean ± std. dev. of 7 runs, 1,000 loops each)\n"
     ]
    }
   ],
   "source": [
    "# NumPy executes the operation in compiled code, NumPy’s version of the\n",
    "# operation is computed much more quickly.\n",
    "\n",
    "%timeit min(big_array)\n",
    "%timeit np.min(big_array)"
   ]
  },
  {
   "cell_type": "markdown",
   "id": "b1bf91f1",
   "metadata": {
    "papermill": {
     "duration": 0.059097,
     "end_time": "2023-09-01T07:14:57.006773",
     "exception": false,
     "start_time": "2023-09-01T07:14:56.947676",
     "status": "completed"
    },
    "tags": []
   },
   "source": [
    "For min, max, sum, and several other NumPy aggregates, a shorter syntax is to use methods of the array object itself."
   ]
  },
  {
   "cell_type": "code",
   "execution_count": 83,
   "id": "1acc5948",
   "metadata": {
    "execution": {
     "iopub.execute_input": "2023-09-01T07:14:57.125510Z",
     "iopub.status.busy": "2023-09-01T07:14:57.125101Z",
     "iopub.status.idle": "2023-09-01T07:15:03.421412Z",
     "shell.execute_reply": "2023-09-01T07:15:03.419845Z"
    },
    "papermill": {
     "duration": 6.359101,
     "end_time": "2023-09-01T07:15:03.424243",
     "exception": false,
     "start_time": "2023-09-01T07:14:57.065142",
     "status": "completed"
    },
    "tags": []
   },
   "outputs": [
    {
     "name": "stdout",
     "output_type": "stream",
     "text": [
      "Minimum:  3.727901698447056e-07\n",
      "Maximum:  0.9999992738432872\n",
      "Sum:  499995.4923866206\n",
      "387 µs ± 14.5 µs per loop (mean ± std. dev. of 7 runs, 1,000 loops each)\n",
      "391 µs ± 19.9 µs per loop (mean ± std. dev. of 7 runs, 1,000 loops each)\n"
     ]
    }
   ],
   "source": [
    "\n",
    "print(\"Minimum: \", big_array.min())\n",
    "print(\"Maximum: \", big_array.max())\n",
    "print(\"Sum: \", big_array.sum())\n",
    "\n",
    "# Whenever possible, make sure that you are using the NumPy version of these aggregates \\\n",
    "# when operating on NumPy arrays!\n",
    "%timeit np.min(big_array)\n",
    "%timeit big_array.min()"
   ]
  },
  {
   "cell_type": "markdown",
   "id": "db185bb6",
   "metadata": {
    "papermill": {
     "duration": 0.059984,
     "end_time": "2023-09-01T07:15:03.545287",
     "exception": false,
     "start_time": "2023-09-01T07:15:03.485303",
     "status": "completed"
    },
    "tags": []
   },
   "source": [
    "<a id=\"multidimensional_aggregates\"></a> <br>\n",
    "## Multidimensional aggregates\n",
    "\n",
    "* One common type of aggregation operation is an aggregate along a row or column."
   ]
  },
  {
   "cell_type": "code",
   "execution_count": 84,
   "id": "e9a75fd9",
   "metadata": {
    "execution": {
     "iopub.execute_input": "2023-09-01T07:15:03.678033Z",
     "iopub.status.busy": "2023-09-01T07:15:03.676722Z",
     "iopub.status.idle": "2023-09-01T07:15:03.684926Z",
     "shell.execute_reply": "2023-09-01T07:15:03.683472Z"
    },
    "papermill": {
     "duration": 0.07789,
     "end_time": "2023-09-01T07:15:03.687739",
     "exception": false,
     "start_time": "2023-09-01T07:15:03.609849",
     "status": "completed"
    },
    "tags": []
   },
   "outputs": [
    {
     "name": "stdout",
     "output_type": "stream",
     "text": [
      "a: \n",
      " [[0.62005588 0.43566158 0.15685798 0.14234024]\n",
      " [0.53968704 0.96483945 0.34747783 0.65391337]\n",
      " [0.45902407 0.78978334 0.4493281  0.52276907]]\n",
      "\n",
      "a.sum(): \n",
      " 6.081737957659564\n"
     ]
    }
   ],
   "source": [
    "# get 2-dimensional array\n",
    "a = np.random.random((3,4))\n",
    "print(\"a: \\n\", a)\n",
    "\n",
    "print(\"\\na.sum(): \\n\", a.sum())"
   ]
  },
  {
   "cell_type": "markdown",
   "id": "7908bfdf",
   "metadata": {
    "papermill": {
     "duration": 0.06035,
     "end_time": "2023-09-01T07:15:03.813051",
     "exception": false,
     "start_time": "2023-09-01T07:15:03.752701",
     "status": "completed"
    },
    "tags": []
   },
   "source": [
    "* Aggregation functions take an additional argument specifying the axis along which the aggregate is computed. For example, we can find the minimum value within each column by specifying axis=0."
   ]
  },
  {
   "cell_type": "code",
   "execution_count": 85,
   "id": "b1867f3e",
   "metadata": {
    "execution": {
     "iopub.execute_input": "2023-09-01T07:15:03.941459Z",
     "iopub.status.busy": "2023-09-01T07:15:03.940719Z",
     "iopub.status.idle": "2023-09-01T07:15:03.949530Z",
     "shell.execute_reply": "2023-09-01T07:15:03.947927Z"
    },
    "papermill": {
     "duration": 0.077346,
     "end_time": "2023-09-01T07:15:03.952579",
     "exception": false,
     "start_time": "2023-09-01T07:15:03.875233",
     "status": "completed"
    },
    "tags": []
   },
   "outputs": [
    {
     "name": "stdout",
     "output_type": "stream",
     "text": [
      "a: \n",
      " [[0.62005588 0.43566158 0.15685798 0.14234024]\n",
      " [0.53968704 0.96483945 0.34747783 0.65391337]\n",
      " [0.45902407 0.78978334 0.4493281  0.52276907]]\n",
      "\n",
      "Minimum using a.min(axis=0):  [0.45902407 0.43566158 0.15685798 0.14234024]\n",
      "Minimum using np.min(a, axis=0):  [0.45902407 0.43566158 0.15685798 0.14234024]\n"
     ]
    }
   ],
   "source": [
    "print(\"a: \\n\", a)\n",
    "\n",
    "print(\"\\nMinimum using a.min(axis=0): \", a.min(axis=0))\n",
    "# or use that way\n",
    "print(\"Minimum using np.min(a, axis=0): \", np.min(a, axis=0))\n"
   ]
  },
  {
   "cell_type": "code",
   "execution_count": 86,
   "id": "9447559d",
   "metadata": {
    "execution": {
     "iopub.execute_input": "2023-09-01T07:15:04.075577Z",
     "iopub.status.busy": "2023-09-01T07:15:04.075160Z",
     "iopub.status.idle": "2023-09-01T07:15:04.082217Z",
     "shell.execute_reply": "2023-09-01T07:15:04.081031Z"
    },
    "papermill": {
     "duration": 0.072313,
     "end_time": "2023-09-01T07:15:04.085850",
     "exception": false,
     "start_time": "2023-09-01T07:15:04.013537",
     "status": "completed"
    },
    "tags": []
   },
   "outputs": [
    {
     "name": "stdout",
     "output_type": "stream",
     "text": [
      "a: \n",
      " [[0.62005588 0.43566158 0.15685798 0.14234024]\n",
      " [0.53968704 0.96483945 0.34747783 0.65391337]\n",
      " [0.45902407 0.78978334 0.4493281  0.52276907]]\n",
      "\n",
      "Maximum using a.mzx(axis=0):  [0.62005588 0.96483945 0.4493281  0.65391337]\n",
      "Maximum using np.max(a, axis=0):  [0.62005588 0.96483945 0.4493281  0.65391337]\n"
     ]
    }
   ],
   "source": [
    "# Similarly, we can find the maximum value within each row:\n",
    "print(\"a: \\n\", a)\n",
    "\n",
    "print(\"\\nMaximum using a.mzx(axis=0): \", a.max(axis=0))\n",
    "# or use that way\n",
    "print(\"Maximum using np.max(a, axis=0): \", np.max(a, axis=0))"
   ]
  },
  {
   "cell_type": "code",
   "execution_count": 87,
   "id": "5bda72fc",
   "metadata": {
    "execution": {
     "iopub.execute_input": "2023-09-01T07:15:04.205928Z",
     "iopub.status.busy": "2023-09-01T07:15:04.205527Z",
     "iopub.status.idle": "2023-09-01T07:15:04.216450Z",
     "shell.execute_reply": "2023-09-01T07:15:04.215040Z"
    },
    "papermill": {
     "duration": 0.074343,
     "end_time": "2023-09-01T07:15:04.219686",
     "exception": false,
     "start_time": "2023-09-01T07:15:04.145343",
     "status": "completed"
    },
    "tags": []
   },
   "outputs": [
    {
     "name": "stdout",
     "output_type": "stream",
     "text": [
      "x:  [ 1.  2. nan  4.  5.]\n",
      "\n",
      "np.sum(x):  nan\n",
      "np.nansum(x):  12.0\n",
      "\n",
      "np.mean(x):  nan\n",
      "np.nanmean(x):  3.0\n",
      "\n",
      "np.std(x):  nan\n",
      "np.nanstd(x):  1.5811388300841898\n",
      "\n",
      "np.argmin(x):  2\n",
      "np.nanargmin(x):  0\n"
     ]
    }
   ],
   "source": [
    "# Note that some of these NaN-safe functions were not added until NumPy 1.8, \n",
    "# so they will not be available in older NumPy versions.\n",
    "x = np.array([1, 2, np.nan, 4, 5])\n",
    "print(\"x: \", x)\n",
    "print(\"\\nnp.sum(x): \", np.sum(x))\n",
    "print(\"np.nansum(x): \", np.nansum(x))\n",
    "\n",
    "print(\"\\nnp.mean(x): \", np.mean(x))\n",
    "print(\"np.nanmean(x): \", np.nanmean(x))\n",
    "\n",
    "print(\"\\nnp.std(x): \", np.std(x))\n",
    "print(\"np.nanstd(x): \", np.nanstd(x))\n",
    "\n",
    "# Be careful when using argmin() that it does not return a real index of minimum value. \n",
    "# If there is a nan value in an array, it returns index of nan value.\n",
    "print(\"\\nnp.argmin(x): \", np.argmin(x)) \n",
    "print(\"np.nanargmin(x): \", np.nanargmin(x))"
   ]
  },
  {
   "cell_type": "markdown",
   "id": "92faac03",
   "metadata": {
    "papermill": {
     "duration": 0.059324,
     "end_time": "2023-09-01T07:15:04.339501",
     "exception": false,
     "start_time": "2023-09-01T07:15:04.280177",
     "status": "completed"
    },
    "tags": []
   },
   "source": [
    "<img src=\"https://3.bp.blogspot.com/-2pjqt9Ga6IM/W20-sIVK0II/AAAAAAAAXVM/BB74tRGTiwgcYTgezVLD3LKH7NFj4pjpgCLcBGAs/s1600/4214_t2-3.PNG\" alt=\"cce\" border=\"0\">"
   ]
  },
  {
   "cell_type": "markdown",
   "id": "1cca59b3",
   "metadata": {
    "papermill": {
     "duration": 0.060591,
     "end_time": "2023-09-01T07:15:04.460226",
     "exception": false,
     "start_time": "2023-09-01T07:15:04.399635",
     "status": "completed"
    },
    "tags": []
   },
   "source": [
    "<a id=\"broadcasting\"></a> <br>\n",
    "# Computation on Arrays: Broadcasting\n",
    "\n",
    "Broadcasting is simply a set of rules for applying binary ufuncs (addition, subtraction, multiplication, etc.) on arrays of different sizes.\n",
    "\n",
    "<a id=\"introducing_broadcasting\"></a> <br>\n",
    "## Introducing Broadcasting"
   ]
  },
  {
   "cell_type": "code",
   "execution_count": 88,
   "id": "d687d227",
   "metadata": {
    "execution": {
     "iopub.execute_input": "2023-09-01T07:15:04.581581Z",
     "iopub.status.busy": "2023-09-01T07:15:04.581166Z",
     "iopub.status.idle": "2023-09-01T07:15:04.588182Z",
     "shell.execute_reply": "2023-09-01T07:15:04.587029Z"
    },
    "papermill": {
     "duration": 0.072141,
     "end_time": "2023-09-01T07:15:04.591287",
     "exception": false,
     "start_time": "2023-09-01T07:15:04.519146",
     "status": "completed"
    },
    "tags": []
   },
   "outputs": [
    {
     "name": "stdout",
     "output_type": "stream",
     "text": [
      "a:  [0 1 2]\n",
      "b:  [5 5 5]\n",
      "c:  [5 6 7]\n"
     ]
    }
   ],
   "source": [
    "a = np.array([0,1,2])\n",
    "b = np.array([5,5,5])\n",
    "print(\"a: \", a)\n",
    "print(\"b: \", b)\n",
    "\n",
    "c = a + b\n",
    "print(\"c: \", c)"
   ]
  },
  {
   "cell_type": "code",
   "execution_count": 89,
   "id": "b4409b88",
   "metadata": {
    "execution": {
     "iopub.execute_input": "2023-09-01T07:15:04.713113Z",
     "iopub.status.busy": "2023-09-01T07:15:04.712633Z",
     "iopub.status.idle": "2023-09-01T07:15:04.718590Z",
     "shell.execute_reply": "2023-09-01T07:15:04.717479Z"
    },
    "papermill": {
     "duration": 0.071479,
     "end_time": "2023-09-01T07:15:04.721863",
     "exception": false,
     "start_time": "2023-09-01T07:15:04.650384",
     "status": "completed"
    },
    "tags": []
   },
   "outputs": [
    {
     "name": "stdout",
     "output_type": "stream",
     "text": [
      "d:  [5 6 7]\n"
     ]
    }
   ],
   "source": [
    "d = a + 5\n",
    "print(\"d: \", d)"
   ]
  },
  {
   "cell_type": "markdown",
   "id": "d8d7478d",
   "metadata": {
    "papermill": {
     "duration": 0.059989,
     "end_time": "2023-09-01T07:15:04.841269",
     "exception": false,
     "start_time": "2023-09-01T07:15:04.781280",
     "status": "completed"
    },
    "tags": []
   },
   "source": [
    "<a id=\"visulization_of_numpy_broadcasting\"></a> <br>\n",
    "## Visualization of NumPy broadcasting\n",
    "\n",
    "<img src=\"https://jakevdp.github.io/PythonDataScienceHandbook/figures/02.05-broadcasting.png\" alt=\"broadcasting\" border=\"0\">\n",
    "\n",
    "#### Rules of Broadcasting\n",
    "***Broadcasting in NumPy follows a strict set of rules to determine the interaction between the two arrays:***\n",
    "    \n",
    "* ***Rule 1***: If the two arrays differ in their number of dimensions, the shape of the one with fewer dimensions is padded with ones on its leading (left) side.\n",
    "* ***Rule 2***: If the shape of the two arrays does not match in any dimension, the array with shape equal to 1 in that dimension is stretched to match the other shape.\n",
    "* ***Rule 3***: If in any dimension the sizes disagree and neither is equal to 1, an error is raised."
   ]
  },
  {
   "cell_type": "code",
   "execution_count": 90,
   "id": "5e7ac5cf",
   "metadata": {
    "execution": {
     "iopub.execute_input": "2023-09-01T07:15:04.964193Z",
     "iopub.status.busy": "2023-09-01T07:15:04.963753Z",
     "iopub.status.idle": "2023-09-01T07:15:04.971294Z",
     "shell.execute_reply": "2023-09-01T07:15:04.970124Z"
    },
    "papermill": {
     "duration": 0.072568,
     "end_time": "2023-09-01T07:15:04.975107",
     "exception": false,
     "start_time": "2023-09-01T07:15:04.902539",
     "status": "completed"
    },
    "tags": []
   },
   "outputs": [
    {
     "name": "stdout",
     "output_type": "stream",
     "text": [
      "a:  [1 2 3]\n",
      "b: \n",
      " [[1. 1. 1.]\n",
      " [1. 1. 1.]\n",
      " [1. 1. 1.]]\n",
      "\n",
      "c: \n",
      " [[2. 3. 4.]\n",
      " [2. 3. 4.]\n",
      " [2. 3. 4.]]\n"
     ]
    }
   ],
   "source": [
    "# We can similarly extend this to arrays of higher dimension. Observe the result when\n",
    "# we add a one-dimensional array to a two-dimensional array:\n",
    "\n",
    "a = np.array([1, 2, 3])\n",
    "b = np.ones((3,3))\n",
    "\n",
    "print(\"a: \", a)\n",
    "print(\"b: \\n\", b)\n",
    "\n",
    "# Here the one-dimensional array a is stretched, or broadcast, across the second\n",
    "# dimension in order to match the shape of M .\n",
    "c = b + a\n",
    "print(\"\\nc: \\n\", c)"
   ]
  },
  {
   "cell_type": "code",
   "execution_count": 91,
   "id": "ea2c1695",
   "metadata": {
    "execution": {
     "iopub.execute_input": "2023-09-01T07:15:05.099304Z",
     "iopub.status.busy": "2023-09-01T07:15:05.098865Z",
     "iopub.status.idle": "2023-09-01T07:15:05.106847Z",
     "shell.execute_reply": "2023-09-01T07:15:05.105671Z"
    },
    "papermill": {
     "duration": 0.071862,
     "end_time": "2023-09-01T07:15:05.109415",
     "exception": false,
     "start_time": "2023-09-01T07:15:05.037553",
     "status": "completed"
    },
    "tags": []
   },
   "outputs": [
    {
     "name": "stdout",
     "output_type": "stream",
     "text": [
      "a:  [0 1 2]\n",
      "b: \n",
      " [[0]\n",
      " [1]\n",
      " [2]]\n",
      "\n",
      "c: \n",
      " [[0 1 2]\n",
      " [1 2 3]\n",
      " [2 3 4]]\n"
     ]
    }
   ],
   "source": [
    "# here we’ve stretched both a and b to match a common shape, and the result is a two-\n",
    "# dimensional array!\n",
    "\n",
    "a = np.arange(3) #(3,) 1 dimensional\n",
    "b = np.arange(3)[:,np.newaxis] #(3,1) 2 dimensional\n",
    "\n",
    "print(\"a: \", a)\n",
    "print(\"b: \\n\", b)\n",
    "\n",
    "c = a + b\n",
    "print(\"\\nc: \\n\", c)"
   ]
  },
  {
   "cell_type": "markdown",
   "id": "5c224652",
   "metadata": {
    "papermill": {
     "duration": 0.060699,
     "end_time": "2023-09-01T07:15:05.229081",
     "exception": false,
     "start_time": "2023-09-01T07:15:05.168382",
     "status": "completed"
    },
    "tags": []
   },
   "source": [
    "<a id=\"broadcasting_examples\"></a> <br>\n",
    "## Broadcasting examples"
   ]
  },
  {
   "cell_type": "code",
   "execution_count": 92,
   "id": "fb2dc7a4",
   "metadata": {
    "execution": {
     "iopub.execute_input": "2023-09-01T07:15:05.350871Z",
     "iopub.status.busy": "2023-09-01T07:15:05.350484Z",
     "iopub.status.idle": "2023-09-01T07:15:05.358328Z",
     "shell.execute_reply": "2023-09-01T07:15:05.357039Z"
    },
    "papermill": {
     "duration": 0.071874,
     "end_time": "2023-09-01T07:15:05.361316",
     "exception": false,
     "start_time": "2023-09-01T07:15:05.289442",
     "status": "completed"
    },
    "tags": []
   },
   "outputs": [
    {
     "name": "stdout",
     "output_type": "stream",
     "text": [
      "a: \n",
      " [[1. 1. 1.]\n",
      " [1. 1. 1.]]\n",
      "b: \n",
      " [0 1 2]\n",
      "a+b: \n",
      " [[1. 2. 3.]\n",
      " [1. 2. 3.]]\n"
     ]
    }
   ],
   "source": [
    "#Let’s look at adding a two-dimensional array to a one-dimensional array:\n",
    "a = np.ones((2, 3))\n",
    "b = np.arange(3)\n",
    "\n",
    "# Let’s consider an operation on these two arrays. The shapes of the arrays are:\n",
    "# a.shape = (2, 3)\n",
    "# b.shape = (3,)\n",
    "# We see by rule 1 that the array a has fewer dimensions, so we pad it on the left with\n",
    "# ones:\n",
    "# a.shape -> (2, 3)\n",
    "# b.shape -> (1, 3)\n",
    "# By rule 2, we now see that the first dimension disagrees, so we stretch this dimension\n",
    "# to match:\n",
    "# a.shape -> (2, 3)\n",
    "# b.shape -> (2, 3)\n",
    "# The shapes match, and we see that the final shape will be (2, 3) :\n",
    "\n",
    "print(\"a: \\n\", a)\n",
    "print(\"b: \\n\", b)\n",
    "\n",
    "print(\"a+b: \\n\", a+b)"
   ]
  },
  {
   "cell_type": "code",
   "execution_count": 93,
   "id": "f8a4145f",
   "metadata": {
    "execution": {
     "iopub.execute_input": "2023-09-01T07:15:05.483387Z",
     "iopub.status.busy": "2023-09-01T07:15:05.482993Z",
     "iopub.status.idle": "2023-09-01T07:15:05.491020Z",
     "shell.execute_reply": "2023-09-01T07:15:05.489849Z"
    },
    "papermill": {
     "duration": 0.072246,
     "end_time": "2023-09-01T07:15:05.493939",
     "exception": false,
     "start_time": "2023-09-01T07:15:05.421693",
     "status": "completed"
    },
    "tags": []
   },
   "outputs": [
    {
     "name": "stdout",
     "output_type": "stream",
     "text": [
      "a: \n",
      " [[0]\n",
      " [1]\n",
      " [2]]\n",
      "b: \n",
      " [0 1 2]\n",
      "a+b: \n",
      " [[0 1 2]\n",
      " [1 2 3]\n",
      " [2 3 4]]\n"
     ]
    }
   ],
   "source": [
    "# Let’s take a look at an example where both arrays need to be broadcast:\n",
    "a = np.arange(3).reshape((3,1))\n",
    "b = np.arange(3)\n",
    "# Again, we’ll start by writing out the shape of the arrays:\n",
    "\n",
    "# a.shape = (3, 1)\n",
    "# b.shape = (3,)\n",
    "# |\n",
    "# Rule 1 says we must pad the shape of b with ones:\n",
    "# a.shape -> (3, 1)\n",
    "# b.shape -> (1, 3)\n",
    "# And rule 2 tells us that we upgrade each of these ones to match the corresponding\n",
    "# size of the other array:\n",
    "# a.shape -> (3, 3)\n",
    "# b.shape -> (3, 3)\n",
    "# Because the result matches, these shapes are compatible. We can see this here:\n",
    "\n",
    "print(\"a: \\n\", a)\n",
    "print(\"b: \\n\", b)\n",
    "\n",
    "print(\"a+b: \\n\", a+b)"
   ]
  },
  {
   "cell_type": "code",
   "execution_count": 94,
   "id": "28ec9147",
   "metadata": {
    "execution": {
     "iopub.execute_input": "2023-09-01T07:15:05.619194Z",
     "iopub.status.busy": "2023-09-01T07:15:05.618678Z",
     "iopub.status.idle": "2023-09-01T07:15:05.626477Z",
     "shell.execute_reply": "2023-09-01T07:15:05.625465Z"
    },
    "papermill": {
     "duration": 0.073825,
     "end_time": "2023-09-01T07:15:05.629240",
     "exception": false,
     "start_time": "2023-09-01T07:15:05.555415",
     "status": "completed"
    },
    "tags": []
   },
   "outputs": [
    {
     "name": "stdout",
     "output_type": "stream",
     "text": [
      "a: \n",
      " [[1. 1.]\n",
      " [1. 1.]\n",
      " [1. 1.]]\n",
      "b: \n",
      " [0 1 2]\n"
     ]
    }
   ],
   "source": [
    "# Now let’s take a look at an example in which the two arrays are not compatible:\n",
    "\n",
    "a = np.ones((3,2))\n",
    "b = np.arange(3)\n",
    "\n",
    "print(\"a: \\n\", a)\n",
    "print(\"b: \\n\", b)\n",
    "\n",
    "# This is just a slightly different situation than in the first example: the matrix M is\n",
    "# transposed. How does this affect the calculation? The shapes of the arrays are:\n",
    "# a.shape = (3, 2)\n",
    "# b.shape = (3,)\n",
    "# Again, rule 1 tells us that we must pad the shape of a with ones:\n",
    "# a.shape -> (3, 2)\n",
    "# b.shape -> (1, 3)\n",
    "# By rule 2, the first dimension of a is stretched to match that of M :\n",
    "# a.shape -> (3, 2)\n",
    "# b.shape -> (3, 3)\n",
    "# Now we hit rule 3—the final shapes do not match, so these two arrays are incompati‐\n",
    "# ble, as we can observe by attempting this operation:\n",
    "\n",
    "# print(a+b) #ERROR! operands could not be broadcast together with shapes"
   ]
  },
  {
   "cell_type": "code",
   "execution_count": 95,
   "id": "a6097b6b",
   "metadata": {
    "execution": {
     "iopub.execute_input": "2023-09-01T07:15:05.753106Z",
     "iopub.status.busy": "2023-09-01T07:15:05.752669Z",
     "iopub.status.idle": "2023-09-01T07:15:05.762046Z",
     "shell.execute_reply": "2023-09-01T07:15:05.761118Z"
    },
    "papermill": {
     "duration": 0.07471,
     "end_time": "2023-09-01T07:15:05.764260",
     "exception": false,
     "start_time": "2023-09-01T07:15:05.689550",
     "status": "completed"
    },
    "tags": []
   },
   "outputs": [
    {
     "name": "stdout",
     "output_type": "stream",
     "text": [
      "(3, 1, 2)\n"
     ]
    },
    {
     "data": {
      "text/plain": [
       "array([[1., 1.],\n",
       "       [2., 2.],\n",
       "       [3., 3.]])"
      ]
     },
     "execution_count": 95,
     "metadata": {},
     "output_type": "execute_result"
    }
   ],
   "source": [
    "print(a[:, np.newaxis].shape)\n",
    "a + b[:, np.newaxis]"
   ]
  },
  {
   "cell_type": "markdown",
   "id": "9a0aaa40",
   "metadata": {
    "papermill": {
     "duration": 0.06134,
     "end_time": "2023-09-01T07:15:05.887794",
     "exception": false,
     "start_time": "2023-09-01T07:15:05.826454",
     "status": "completed"
    },
    "tags": []
   },
   "source": [
    "<a id=\"comparisions_masks_booleanlogic\"></a> <br>\n",
    "# Comparisons, Masks, and Boolean Logic\n",
    "\n",
    "<a id=\"comparison_operators_as_ufuncs\"></a> <br>\n",
    "## Comparison Operators as ufuncs\n",
    "\n",
    "* The result of these comparison operators is always an array with a Boolean data type. All six of the standard comparison operations are available:\n",
    "\n",
    "* for example, you might wish to count all values greater than a certain value, or perhaps remove all outliers that are above some threshold. In NumPy, Boolean masking is often the most efficient way to accomplish these types of tasks."
   ]
  },
  {
   "cell_type": "code",
   "execution_count": 96,
   "id": "9de900a6",
   "metadata": {
    "execution": {
     "iopub.execute_input": "2023-09-01T07:15:06.011010Z",
     "iopub.status.busy": "2023-09-01T07:15:06.010517Z",
     "iopub.status.idle": "2023-09-01T07:15:06.019283Z",
     "shell.execute_reply": "2023-09-01T07:15:06.017900Z"
    },
    "papermill": {
     "duration": 0.073378,
     "end_time": "2023-09-01T07:15:06.022357",
     "exception": false,
     "start_time": "2023-09-01T07:15:05.948979",
     "status": "completed"
    },
    "tags": []
   },
   "outputs": [
    {
     "name": "stdout",
     "output_type": "stream",
     "text": [
      "x<3:  [ True  True False False False]\n",
      "x>3:  [False False False  True  True]\n",
      "x<=3:  [ True  True  True False False]\n",
      "x>=3:  [False False  True  True  True]\n",
      "x==3:  [False False  True False False]\n",
      "x!=3:  [ True  True False  True  True]\n"
     ]
    }
   ],
   "source": [
    "x = np.array([1, 2, 3, 4, 5])\n",
    "\n",
    "print(\"x<3: \", x<3)       # less than\n",
    "print(\"x>3: \", x>3)       # greater than\n",
    "print(\"x<=3: \", x<=3)     # less than or equal\n",
    "print(\"x>=3: \", x>=3)     # greater than or equal\n",
    "print(\"x==3: \", x==3)     # equal\n",
    "print(\"x!=3: \", x!=3)     # not equal"
   ]
  },
  {
   "cell_type": "code",
   "execution_count": 97,
   "id": "c6cfb56e",
   "metadata": {
    "execution": {
     "iopub.execute_input": "2023-09-01T07:15:06.147472Z",
     "iopub.status.busy": "2023-09-01T07:15:06.147061Z",
     "iopub.status.idle": "2023-09-01T07:15:06.154233Z",
     "shell.execute_reply": "2023-09-01T07:15:06.153260Z"
    },
    "papermill": {
     "duration": 0.073148,
     "end_time": "2023-09-01T07:15:06.156629",
     "exception": false,
     "start_time": "2023-09-01T07:15:06.083481",
     "status": "completed"
    },
    "tags": []
   },
   "outputs": [
    {
     "name": "stdout",
     "output_type": "stream",
     "text": [
      "x:  [1 2 3 4 5]\n",
      "a:  [ 2  4  6  8 10]\n",
      "b:  [ 2  4  8 16 32]\n",
      "c:  [ True  True False False False]\n"
     ]
    }
   ],
   "source": [
    "# It is also possible to do an element-by-element comparison of two arrays, and to\n",
    "# include compound expressions:\n",
    "a = 2*x\n",
    "b = 2**x\n",
    "print(\"x: \", x)\n",
    "print(\"a: \", a)\n",
    "print(\"b: \", b)\n",
    "c = a == b\n",
    "print(\"c: \", c)"
   ]
  },
  {
   "cell_type": "markdown",
   "id": "d372f274",
   "metadata": {
    "papermill": {
     "duration": 0.059961,
     "end_time": "2023-09-01T07:15:06.276806",
     "exception": false,
     "start_time": "2023-09-01T07:15:06.216845",
     "status": "completed"
    },
    "tags": []
   },
   "source": [
    "<a id=\"comparision_operators_and_equivalent\"></a> <br>\n",
    "## Comparison operators and their equivalent\n",
    "\n",
    "As in the case of arithmetic operators, the comparison operators are implemented as ufuncs in NumPy; for example, when you write x < 3 , internally NumPy uses np.less(x, 3) . A summary of the comparison operators and their equivalent ufunc is shown here:\n",
    "\n",
    "<img src=\"https://3.bp.blogspot.com/-ePv8m0F9BaI/W4nwyN2vb2I/AAAAAAAAXWs/zF0LYfQGYzI4u4JILeHSnH4-jRoUgk-TwCLcBGAs/s1600/4229_2.PNG\" alt=\"Comparison operators and their equivalent\" border=\"0\">"
   ]
  },
  {
   "cell_type": "code",
   "execution_count": 98,
   "id": "ac0e6cd8",
   "metadata": {
    "execution": {
     "iopub.execute_input": "2023-09-01T07:15:06.399596Z",
     "iopub.status.busy": "2023-09-01T07:15:06.399216Z",
     "iopub.status.idle": "2023-09-01T07:15:06.406010Z",
     "shell.execute_reply": "2023-09-01T07:15:06.404801Z"
    },
    "papermill": {
     "duration": 0.071805,
     "end_time": "2023-09-01T07:15:06.408665",
     "exception": false,
     "start_time": "2023-09-01T07:15:06.336860",
     "status": "completed"
    },
    "tags": []
   },
   "outputs": [
    {
     "name": "stdout",
     "output_type": "stream",
     "text": [
      "x: \n",
      " [[0 2 9 6]\n",
      " [8 4 9 8]\n",
      " [9 1 5 0]]\n",
      "\n",
      "np.less(x, 6): \n",
      " [[ True  True False False]\n",
      " [False  True False False]\n",
      " [False  True  True  True]]\n"
     ]
    }
   ],
   "source": [
    "x = np.random.randint(10, size=(3,4))\n",
    "print(\"x: \\n\", x)\n",
    "\n",
    "#x<6\n",
    "print(\"\\nnp.less(x, 6): \\n\", np.less(x, 6))"
   ]
  },
  {
   "cell_type": "code",
   "execution_count": 99,
   "id": "2a166f5b",
   "metadata": {
    "execution": {
     "iopub.execute_input": "2023-09-01T07:15:06.534657Z",
     "iopub.status.busy": "2023-09-01T07:15:06.534262Z",
     "iopub.status.idle": "2023-09-01T07:15:06.542361Z",
     "shell.execute_reply": "2023-09-01T07:15:06.541028Z"
    },
    "papermill": {
     "duration": 0.074746,
     "end_time": "2023-09-01T07:15:06.545631",
     "exception": false,
     "start_time": "2023-09-01T07:15:06.470885",
     "status": "completed"
    },
    "tags": []
   },
   "outputs": [
    {
     "name": "stdout",
     "output_type": "stream",
     "text": [
      "x: \n",
      " [[0 2 9 6]\n",
      " [8 4 9 8]\n",
      " [9 1 5 0]]\n",
      "1-:  6\n",
      "2-:  6\n",
      "3-:  12\n",
      "4-:  12\n"
     ]
    }
   ],
   "source": [
    "print(\"x: \\n\", x)\n",
    "\n",
    "# To count the number of True entries in a Boolean array, np.count_nonzero is useful:\n",
    "# number of values less than 6\n",
    "print(\"1-: \", np.count_nonzero(x<6))\n",
    "\n",
    "# We see that there are some array entries that are less than 6. Another way to get at this\n",
    "# information is to use np.sum ; in this case, False is interpreted as 0 , and True is inter‐\n",
    "# preted as 1 :\n",
    "\n",
    "print(\"2-: \", np.sum(x<6))\n",
    "\n",
    "print(\"3-: \", np.sum(x!=np.nan))\n",
    "print(\"4-: \", np.count_nonzero(x!=np.nan))"
   ]
  },
  {
   "cell_type": "code",
   "execution_count": 100,
   "id": "746708b1",
   "metadata": {
    "execution": {
     "iopub.execute_input": "2023-09-01T07:15:06.672845Z",
     "iopub.status.busy": "2023-09-01T07:15:06.672453Z",
     "iopub.status.idle": "2023-09-01T07:15:06.679449Z",
     "shell.execute_reply": "2023-09-01T07:15:06.678210Z"
    },
    "papermill": {
     "duration": 0.073087,
     "end_time": "2023-09-01T07:15:06.682561",
     "exception": false,
     "start_time": "2023-09-01T07:15:06.609474",
     "status": "completed"
    },
    "tags": []
   },
   "outputs": [
    {
     "name": "stdout",
     "output_type": "stream",
     "text": [
      "x: \n",
      " [[0 2 9 6]\n",
      " [8 4 9 8]\n",
      " [9 1 5 0]]\n",
      "Number of values <6 in each row:  [2 1 3]\n",
      "Number of values <6 in each column:  [1 3 1 1]\n"
     ]
    }
   ],
   "source": [
    "print(\"x: \\n\", x)\n",
    "\n",
    "# number of values less than 6 in each row\n",
    "print(\"Number of values <6 in each row: \", np.sum(x<6, axis=1))\n",
    "\n",
    "# number of values less than 6 in each column\n",
    "print(\"Number of values <6 in each column: \", np.sum(x<6, axis=0))"
   ]
  },
  {
   "cell_type": "code",
   "execution_count": 101,
   "id": "1cdd5521",
   "metadata": {
    "execution": {
     "iopub.execute_input": "2023-09-01T07:15:06.810225Z",
     "iopub.status.busy": "2023-09-01T07:15:06.809781Z",
     "iopub.status.idle": "2023-09-01T07:15:06.818097Z",
     "shell.execute_reply": "2023-09-01T07:15:06.816732Z"
    },
    "papermill": {
     "duration": 0.075725,
     "end_time": "2023-09-01T07:15:06.820785",
     "exception": false,
     "start_time": "2023-09-01T07:15:06.745060",
     "status": "completed"
    },
    "tags": []
   },
   "outputs": [
    {
     "name": "stdout",
     "output_type": "stream",
     "text": [
      "x: \n",
      " [[0 2 9 6]\n",
      " [8 4 9 8]\n",
      " [9 1 5 0]]\n",
      "np.any(x>8):  True\n",
      "np.any(x<0):  False\n",
      "np.all(x<10):  True\n",
      "np.all(x==6):  False\n"
     ]
    }
   ],
   "source": [
    "print(\"x: \\n\", x)\n",
    "\n",
    "# If we’re interested in quickly checking whether any or all the values are true, we can\n",
    "# use (you guessed it) np.any() or np.all() :\n",
    "# are there any values greater than 8?\n",
    "print(\"np.any(x>8): \", np.any(x>8))\n",
    "\n",
    "# are there any values less than zero?\n",
    "print(\"np.any(x<0): \", np.any(x<0))\n",
    "\n",
    "# are all values less than 10?\n",
    "print(\"np.all(x<10): \", np.all(x<10))\n",
    "\n",
    "# are all values equal to 6?\n",
    "print(\"np.all(x==6): \", np.all(x==6))"
   ]
  },
  {
   "cell_type": "code",
   "execution_count": 102,
   "id": "5412b8d8",
   "metadata": {
    "execution": {
     "iopub.execute_input": "2023-09-01T07:15:06.944527Z",
     "iopub.status.busy": "2023-09-01T07:15:06.944135Z",
     "iopub.status.idle": "2023-09-01T07:15:06.951068Z",
     "shell.execute_reply": "2023-09-01T07:15:06.949892Z"
    },
    "papermill": {
     "duration": 0.071956,
     "end_time": "2023-09-01T07:15:06.954034",
     "exception": false,
     "start_time": "2023-09-01T07:15:06.882078",
     "status": "completed"
    },
    "tags": []
   },
   "outputs": [
    {
     "name": "stdout",
     "output_type": "stream",
     "text": [
      "x: \n",
      " [[0 2 9 6]\n",
      " [8 4 9 8]\n",
      " [9 1 5 0]]\n",
      "np.all(x<8, axis=1):  [False False False]\n",
      "np.all(x<3, axis=0):  [False False False False]\n"
     ]
    }
   ],
   "source": [
    "print(\"x: \\n\", x)\n",
    "\n",
    "# are all values in each row less than 8?\n",
    "print(\"np.all(x<8, axis=1): \", np.all(x<8, axis=1))\n",
    "\n",
    "# are all values in each column less than 3?\n",
    "print(\"np.all(x<3, axis=0): \", np.all(x<3, axis=0))"
   ]
  },
  {
   "cell_type": "code",
   "execution_count": 103,
   "id": "a8f47b14",
   "metadata": {
    "execution": {
     "iopub.execute_input": "2023-09-01T07:15:07.077488Z",
     "iopub.status.busy": "2023-09-01T07:15:07.077096Z",
     "iopub.status.idle": "2023-09-01T07:15:07.083641Z",
     "shell.execute_reply": "2023-09-01T07:15:07.082310Z"
    },
    "papermill": {
     "duration": 0.071478,
     "end_time": "2023-09-01T07:15:07.085865",
     "exception": false,
     "start_time": "2023-09-01T07:15:07.014387",
     "status": "completed"
    },
    "tags": []
   },
   "outputs": [
    {
     "name": "stdout",
     "output_type": "stream",
     "text": [
      "x: \n",
      " [[0 2 9 6]\n",
      " [8 4 9 8]\n",
      " [9 1 5 0]]\n",
      "x<5: \n",
      " [[ True  True False False]\n",
      " [False  True False False]\n",
      " [False  True False  True]]\n",
      "x[x<5]:  [0 2 4 1 0]\n"
     ]
    }
   ],
   "source": [
    "print(\"x: \\n\", x)\n",
    "\n",
    "print(\"x<5: \\n\", x<5)\n",
    "print(\"x[x<5]: \", x[x<5])"
   ]
  },
  {
   "cell_type": "markdown",
   "id": "ad2ffb5d",
   "metadata": {
    "papermill": {
     "duration": 0.061268,
     "end_time": "2023-09-01T07:15:07.207982",
     "exception": false,
     "start_time": "2023-09-01T07:15:07.146714",
     "status": "completed"
    },
    "tags": []
   },
   "source": [
    "##### <a id=\"working_with_boolean_arrays\"></a> <br>\n",
    "## Working with Boolean Arrays "
   ]
  },
  {
   "cell_type": "code",
   "execution_count": 104,
   "id": "17d5f10f",
   "metadata": {
    "execution": {
     "iopub.execute_input": "2023-09-01T07:15:07.332625Z",
     "iopub.status.busy": "2023-09-01T07:15:07.332181Z",
     "iopub.status.idle": "2023-09-01T07:15:07.339375Z",
     "shell.execute_reply": "2023-09-01T07:15:07.338398Z"
    },
    "papermill": {
     "duration": 0.073049,
     "end_time": "2023-09-01T07:15:07.341972",
     "exception": false,
     "start_time": "2023-09-01T07:15:07.268923",
     "status": "completed"
    },
    "tags": []
   },
   "outputs": [
    {
     "data": {
      "text/plain": [
       "(True, False, True)"
      ]
     },
     "execution_count": 104,
     "metadata": {},
     "output_type": "execute_result"
    }
   ],
   "source": [
    "# In Python, all nonzero integers will evaluate as True .\n",
    "bool(42), bool(0), bool(-1)"
   ]
  },
  {
   "cell_type": "code",
   "execution_count": 105,
   "id": "e59a4fca",
   "metadata": {
    "execution": {
     "iopub.execute_input": "2023-09-01T07:15:07.471304Z",
     "iopub.status.busy": "2023-09-01T07:15:07.470829Z",
     "iopub.status.idle": "2023-09-01T07:15:07.479107Z",
     "shell.execute_reply": "2023-09-01T07:15:07.477842Z"
    },
    "papermill": {
     "duration": 0.076286,
     "end_time": "2023-09-01T07:15:07.482074",
     "exception": false,
     "start_time": "2023-09-01T07:15:07.405788",
     "status": "completed"
    },
    "tags": []
   },
   "outputs": [
    {
     "data": {
      "text/plain": [
       "False"
      ]
     },
     "execution_count": 105,
     "metadata": {},
     "output_type": "execute_result"
    }
   ],
   "source": [
    "bool(42 and 0)"
   ]
  },
  {
   "cell_type": "code",
   "execution_count": 106,
   "id": "938e70c9",
   "metadata": {
    "execution": {
     "iopub.execute_input": "2023-09-01T07:15:07.610658Z",
     "iopub.status.busy": "2023-09-01T07:15:07.610203Z",
     "iopub.status.idle": "2023-09-01T07:15:07.617931Z",
     "shell.execute_reply": "2023-09-01T07:15:07.616787Z"
    },
    "papermill": {
     "duration": 0.076769,
     "end_time": "2023-09-01T07:15:07.620477",
     "exception": false,
     "start_time": "2023-09-01T07:15:07.543708",
     "status": "completed"
    },
    "tags": []
   },
   "outputs": [
    {
     "data": {
      "text/plain": [
       "True"
      ]
     },
     "execution_count": 106,
     "metadata": {},
     "output_type": "execute_result"
    }
   ],
   "source": [
    "bool(42 or 0)"
   ]
  },
  {
   "cell_type": "code",
   "execution_count": 107,
   "id": "b7712df7",
   "metadata": {
    "execution": {
     "iopub.execute_input": "2023-09-01T07:15:07.749118Z",
     "iopub.status.busy": "2023-09-01T07:15:07.748639Z",
     "iopub.status.idle": "2023-09-01T07:15:07.757324Z",
     "shell.execute_reply": "2023-09-01T07:15:07.755638Z"
    },
    "papermill": {
     "duration": 0.075679,
     "end_time": "2023-09-01T07:15:07.760104",
     "exception": false,
     "start_time": "2023-09-01T07:15:07.684425",
     "status": "completed"
    },
    "tags": []
   },
   "outputs": [
    {
     "name": "stdout",
     "output_type": "stream",
     "text": [
      "a:  [ True False  True False  True False]\n",
      "b:  [ True  True  True False  True  True]\n",
      "c:  [ True  True  True False  True  True]\n"
     ]
    }
   ],
   "source": [
    "# When you have an array of Boolean values in NumPy, this can be thought of as a\n",
    "# string of bits where 1 = True and 0 = False , and the result of & and | operates in a\n",
    "# similar manner as before:\n",
    "\n",
    "a = np.array([1, 0, 1, 0, 1, 0], dtype=bool)\n",
    "b = np.array([1, 1, 1, 0, 1, 1], dtype=bool)\n",
    "c = a | b\n",
    "print(\"a: \", a)\n",
    "print(\"b: \", b)\n",
    "print(\"c: \", c)"
   ]
  },
  {
   "cell_type": "code",
   "execution_count": 108,
   "id": "d9d2aa17",
   "metadata": {
    "execution": {
     "iopub.execute_input": "2023-09-01T07:15:07.886258Z",
     "iopub.status.busy": "2023-09-01T07:15:07.885804Z",
     "iopub.status.idle": "2023-09-01T07:15:07.893454Z",
     "shell.execute_reply": "2023-09-01T07:15:07.892101Z"
    },
    "papermill": {
     "duration": 0.073743,
     "end_time": "2023-09-01T07:15:07.896239",
     "exception": false,
     "start_time": "2023-09-01T07:15:07.822496",
     "status": "completed"
    },
    "tags": []
   },
   "outputs": [
    {
     "name": "stdout",
     "output_type": "stream",
     "text": [
      "x:  [0 1 2 3 4 5 6 7 8 9]\n",
      "(x > 4) & (x < 8):  [False False False False False  True  True  True False False]\n"
     ]
    }
   ],
   "source": [
    "x = np.arange(10)\n",
    "print(\"x: \", x)\n",
    "print(\"(x > 4) & (x < 8): \", (x > 4) & (x < 8))"
   ]
  },
  {
   "cell_type": "markdown",
   "id": "c711f247",
   "metadata": {
    "execution": {
     "iopub.execute_input": "2023-08-22T07:15:48.113352Z",
     "iopub.status.busy": "2023-08-22T07:15:48.112337Z",
     "iopub.status.idle": "2023-08-22T07:15:48.120688Z",
     "shell.execute_reply": "2023-08-22T07:15:48.119014Z",
     "shell.execute_reply.started": "2023-08-22T07:15:48.113303Z"
    },
    "papermill": {
     "duration": 0.063193,
     "end_time": "2023-09-01T07:15:08.021534",
     "exception": false,
     "start_time": "2023-09-01T07:15:07.958341",
     "status": "completed"
    },
    "tags": []
   },
   "source": [
    "<a id=\"sorting_arrays\"></a> <br>\n",
    "# Sorting Arrays\n",
    "\n",
    "<a id=\"fast_sorting\"></a> <br>\n",
    "## Fast Sorting in NumPy: np.sort and np.argsort"
   ]
  },
  {
   "cell_type": "code",
   "execution_count": 109,
   "id": "9e229669",
   "metadata": {
    "execution": {
     "iopub.execute_input": "2023-09-01T07:15:08.151481Z",
     "iopub.status.busy": "2023-09-01T07:15:08.151037Z",
     "iopub.status.idle": "2023-09-01T07:15:08.159746Z",
     "shell.execute_reply": "2023-09-01T07:15:08.158005Z"
    },
    "papermill": {
     "duration": 0.077005,
     "end_time": "2023-09-01T07:15:08.162925",
     "exception": false,
     "start_time": "2023-09-01T07:15:08.085920",
     "status": "completed"
    },
    "tags": []
   },
   "outputs": [
    {
     "name": "stdout",
     "output_type": "stream",
     "text": [
      "x before sorting:  [2 1 4 3 5]\n",
      "x after sorting:  [2 1 4 3 5]\n"
     ]
    }
   ],
   "source": [
    "x = np.array([2, 1, 4, 3, 5])\n",
    "print(\"x before sorting: \", x)\n",
    "\n",
    "np.sort(x)\n",
    "print(\"x after sorting: \", x)"
   ]
  },
  {
   "cell_type": "code",
   "execution_count": 110,
   "id": "36c195b9",
   "metadata": {
    "execution": {
     "iopub.execute_input": "2023-09-01T07:15:08.292701Z",
     "iopub.status.busy": "2023-09-01T07:15:08.292289Z",
     "iopub.status.idle": "2023-09-01T07:15:08.299514Z",
     "shell.execute_reply": "2023-09-01T07:15:08.298143Z"
    },
    "papermill": {
     "duration": 0.075685,
     "end_time": "2023-09-01T07:15:08.301942",
     "exception": false,
     "start_time": "2023-09-01T07:15:08.226257",
     "status": "completed"
    },
    "tags": []
   },
   "outputs": [
    {
     "name": "stdout",
     "output_type": "stream",
     "text": [
      "x before sorting:  [2 1 4 3 5]\n",
      "x after sorting:  [1 2 3 4 5]\n"
     ]
    }
   ],
   "source": [
    "x = np.array([2, 1, 4, 3, 5])\n",
    "print(\"x before sorting: \", x)\n",
    "\n",
    "# other syntax\n",
    "x.sort()\n",
    "print(\"x after sorting: \", x)"
   ]
  },
  {
   "cell_type": "code",
   "execution_count": 111,
   "id": "14191ab7",
   "metadata": {
    "execution": {
     "iopub.execute_input": "2023-09-01T07:15:08.430817Z",
     "iopub.status.busy": "2023-09-01T07:15:08.430419Z",
     "iopub.status.idle": "2023-09-01T07:15:08.436671Z",
     "shell.execute_reply": "2023-09-01T07:15:08.435764Z"
    },
    "papermill": {
     "duration": 0.075182,
     "end_time": "2023-09-01T07:15:08.440386",
     "exception": false,
     "start_time": "2023-09-01T07:15:08.365204",
     "status": "completed"
    },
    "tags": []
   },
   "outputs": [
    {
     "name": "stdout",
     "output_type": "stream",
     "text": [
      "x:  [2 1 4 3 5]\n",
      "y:  [1 0 3 2 4]\n",
      "x[y]:  [1 2 3 4 5]\n"
     ]
    }
   ],
   "source": [
    "# return indices\n",
    "x = np.array([2,1,4,3,5])\n",
    "print(\"x: \", x)\n",
    "\n",
    "y = np.argsort(x)\n",
    "print(\"y: \", y)\n",
    "\n",
    "print(\"x[y]: \", x[y])"
   ]
  },
  {
   "cell_type": "markdown",
   "id": "0972c278",
   "metadata": {
    "papermill": {
     "duration": 0.063036,
     "end_time": "2023-09-01T07:15:08.567073",
     "exception": false,
     "start_time": "2023-09-01T07:15:08.504037",
     "status": "completed"
    },
    "tags": []
   },
   "source": [
    "<a id=\"sorting_rows_columns\"></a> <br>\n",
    "## Sorting along rows or columns"
   ]
  },
  {
   "cell_type": "code",
   "execution_count": 112,
   "id": "0876abe9",
   "metadata": {
    "execution": {
     "iopub.execute_input": "2023-09-01T07:15:08.699847Z",
     "iopub.status.busy": "2023-09-01T07:15:08.699438Z",
     "iopub.status.idle": "2023-09-01T07:15:08.709407Z",
     "shell.execute_reply": "2023-09-01T07:15:08.707867Z"
    },
    "papermill": {
     "duration": 0.078625,
     "end_time": "2023-09-01T07:15:08.712441",
     "exception": false,
     "start_time": "2023-09-01T07:15:08.633816",
     "status": "completed"
    },
    "tags": []
   },
   "outputs": [
    {
     "name": "stdout",
     "output_type": "stream",
     "text": [
      "x before sorting: \n",
      " [[6 3 7 4 6 9]\n",
      " [2 6 7 4 3 7]\n",
      " [7 2 5 4 1 7]\n",
      " [5 1 4 0 9 5]]\n",
      "x after soring along axis=0: \n",
      " [[2 1 4 0 1 5]\n",
      " [5 2 5 4 3 7]\n",
      " [6 3 7 4 6 7]\n",
      " [7 6 7 4 9 9]]\n"
     ]
    }
   ],
   "source": [
    "# A useful feature of NumPy’s sorting algorithms is the ability to sort along specific\n",
    "# rows or columns of a multidimensional array using the axis argument. For example:\n",
    "rand = np.random.RandomState(42)\n",
    "x = rand.randint(0,10,(4,6))\n",
    "print(\"x before sorting: \\n\", x)\n",
    "\n",
    "# sort each column of X\n",
    "y = np.sort(x, axis=0)\n",
    "print(\"x after soring along axis=0: \\n\", y)"
   ]
  },
  {
   "cell_type": "code",
   "execution_count": 113,
   "id": "99554a8f",
   "metadata": {
    "execution": {
     "iopub.execute_input": "2023-09-01T07:15:08.845479Z",
     "iopub.status.busy": "2023-09-01T07:15:08.844545Z",
     "iopub.status.idle": "2023-09-01T07:15:08.852869Z",
     "shell.execute_reply": "2023-09-01T07:15:08.851629Z"
    },
    "papermill": {
     "duration": 0.078746,
     "end_time": "2023-09-01T07:15:08.855728",
     "exception": false,
     "start_time": "2023-09-01T07:15:08.776982",
     "status": "completed"
    },
    "tags": []
   },
   "outputs": [
    {
     "name": "stdout",
     "output_type": "stream",
     "text": [
      "x before sorting: \n",
      " [[6 3 7 4 6 9]\n",
      " [2 6 7 4 3 7]\n",
      " [7 2 5 4 1 7]\n",
      " [5 1 4 0 9 5]]\n",
      "x after soring along axis=1: \n",
      " [[3 4 6 6 7 9]\n",
      " [2 3 4 6 7 7]\n",
      " [1 2 4 5 7 7]\n",
      " [0 1 4 5 5 9]]\n"
     ]
    }
   ],
   "source": [
    "print(\"x before sorting: \\n\", x)\n",
    "\n",
    "# sort each row of X\n",
    "y = np.sort(x, axis=1)\n",
    "print(\"x after soring along axis=1: \\n\", y)"
   ]
  },
  {
   "cell_type": "markdown",
   "id": "b1065749",
   "metadata": {
    "papermill": {
     "duration": 0.063969,
     "end_time": "2023-09-01T07:15:08.984067",
     "exception": false,
     "start_time": "2023-09-01T07:15:08.920098",
     "status": "completed"
    },
    "tags": []
   },
   "source": [
    "<a id=\"references\"></a></br>\n",
    "# References\n",
    "* https://numpy.org/devdocs/user/quickstart.html\n",
    "* https://numpy.org/doc/stable/reference/index.html"
   ]
  }
 ],
 "kernelspec": {
  "display_name": "Python 3",
  "language": "python",
  "name": "python3"
 },
 "language_info": {
  "codemirror_mode": {
   "name": "ipython",
   "version": 3
  },
  "file_extension": ".py",
  "mimetype": "text/x-python",
  "name": "python",
  "nbconvert_exporter": "python",
  "pygments_lexer": "ipython3",
  "version": "3.6.4"
 },
 "metadata": {
  "kernelspec": {
   "display_name": "Python 3",
   "language": "python",
   "name": "python3"
  },
  "language_info": {
   "codemirror_mode": {
    "name": "ipython",
    "version": 3
   },
   "file_extension": ".py",
   "mimetype": "text/x-python",
   "name": "python",
   "nbconvert_exporter": "python",
   "pygments_lexer": "ipython3",
   "version": "3.10.12"
  },
  "papermill": {
   "default_parameters": {},
   "duration": 64.790612,
   "end_time": "2023-09-01T07:15:10.071473",
   "environment_variables": {},
   "exception": null,
   "input_path": "__notebook__.ipynb",
   "output_path": "__notebook__.ipynb",
   "parameters": {},
   "start_time": "2023-09-01T07:14:05.280861",
   "version": "2.4.0"
  }
 },
 "nbformat": 4,
 "nbformat_minor": 5
}
