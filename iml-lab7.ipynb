{
 "cells": [
  {
   "cell_type": "code",
   "execution_count": 1,
   "id": "12460fd3",
   "metadata": {
    "_cell_guid": "b1076dfc-b9ad-4769-8c92-a6c4dae69d19",
    "_uuid": "8f2839f25d086af736a60e9eeb907d3b93b6e0e5",
    "execution": {
     "iopub.execute_input": "2023-10-16T19:03:45.663223Z",
     "iopub.status.busy": "2023-10-16T19:03:45.662879Z",
     "iopub.status.idle": "2023-10-16T19:03:46.042962Z",
     "shell.execute_reply": "2023-10-16T19:03:46.041865Z"
    },
    "papermill": {
     "duration": 0.387031,
     "end_time": "2023-10-16T19:03:46.045415",
     "exception": false,
     "start_time": "2023-10-16T19:03:45.658384",
     "status": "completed"
    },
    "tags": []
   },
   "outputs": [],
   "source": [
    "'''Practical No.7: Write a Pandas program to implement\n",
    "following operation:\n",
    "\n",
    "Name: Tank Yash\n",
    "Eno: 216270307073\n",
    "'''\n",
    "\n",
    "import numpy as np # linear algebra\n",
    "import pandas as pd # data processing, CSV file I/O (e.g. pd.read_csv)"
   ]
  },
  {
   "cell_type": "code",
   "execution_count": 2,
   "id": "983e4b20",
   "metadata": {
    "execution": {
     "iopub.execute_input": "2023-10-16T19:03:46.058038Z",
     "iopub.status.busy": "2023-10-16T19:03:46.057322Z",
     "iopub.status.idle": "2023-10-16T19:03:46.075214Z",
     "shell.execute_reply": "2023-10-16T19:03:46.074093Z"
    },
    "papermill": {
     "duration": 0.028046,
     "end_time": "2023-10-16T19:03:46.078582",
     "exception": false,
     "start_time": "2023-10-16T19:03:46.050536",
     "status": "completed"
    },
    "tags": []
   },
   "outputs": [
    {
     "name": "stdout",
     "output_type": "stream",
     "text": [
      "Dictionary: \n",
      " {'Name': ['ABC', 'XYZ', 'PQR'], 'Roll_No': [1, 2, 3]}\n",
      "Dataframe: \n",
      "   Name  Roll_No\n",
      "0  ABC        1\n",
      "1  XYZ        2\n",
      "2  PQR        3\n"
     ]
    }
   ],
   "source": [
    "'''Practical No.7: Write a Pandas program to implement\n",
    "following operation:\n",
    "• to create a dataframe from a dictionary and\n",
    "display it\n",
    "\n",
    "Name: Tank Yash\n",
    "Eno: 216270307073\n",
    "'''\n",
    "\n",
    "dic = {'Name':['ABC','XYZ','PQR'],'Roll_No':[1,2,3]}\n",
    "print(\"Dictionary: \\n\",dic)\n",
    "\n",
    "df = pd.DataFrame(dic)\n",
    "print(\"Dataframe: \\n\",df)"
   ]
  },
  {
   "cell_type": "code",
   "execution_count": 3,
   "id": "e314f6cb",
   "metadata": {
    "execution": {
     "iopub.execute_input": "2023-10-16T19:03:46.085211Z",
     "iopub.status.busy": "2023-10-16T19:03:46.084804Z",
     "iopub.status.idle": "2023-10-16T19:03:46.103755Z",
     "shell.execute_reply": "2023-10-16T19:03:46.102437Z"
    },
    "papermill": {
     "duration": 0.025042,
     "end_time": "2023-10-16T19:03:46.106146",
     "exception": false,
     "start_time": "2023-10-16T19:03:46.081104",
     "status": "completed"
    },
    "tags": []
   },
   "outputs": [
    {
     "name": "stdout",
     "output_type": "stream",
     "text": [
      "Dataframe is:\n",
      "         Name  Roll_No\n",
      "0       Yash        1\n",
      "1  Ghanshyam        2\n",
      "2      Harsh        3\n",
      "\n",
      "After sort ascending Order: \n",
      "         Name  Roll_No\n",
      "1  Ghanshyam        2\n",
      "2      Harsh        3\n",
      "0       Yash        1\n"
     ]
    }
   ],
   "source": [
    "'''Practical No.7: Write a Pandas program to implement\n",
    "following operation:\n",
    "• to sort the DataFrame first by 'name' in\n",
    "ascending order\n",
    "\n",
    "Name: Tank Yash\n",
    "Eno: 216270307073\n",
    "'''\n",
    "\n",
    "df = pd.DataFrame({'Name': ['Yash','Ghanshyam','Harsh'], 'Roll_No': [1,2,3,]})\n",
    "print(\"Dataframe is:\\n\", df)\n",
    "\n",
    "\n",
    "df_new = df.sort_values(by=['Name'],ascending=True)\n",
    "print(\"\\nAfter sort ascending Order: \\n\",df_new)"
   ]
  },
  {
   "cell_type": "code",
   "execution_count": 4,
   "id": "775b82f1",
   "metadata": {
    "execution": {
     "iopub.execute_input": "2023-10-16T19:03:46.112540Z",
     "iopub.status.busy": "2023-10-16T19:03:46.112153Z",
     "iopub.status.idle": "2023-10-16T19:03:46.122963Z",
     "shell.execute_reply": "2023-10-16T19:03:46.121832Z"
    },
    "papermill": {
     "duration": 0.016502,
     "end_time": "2023-10-16T19:03:46.125149",
     "exception": false,
     "start_time": "2023-10-16T19:03:46.108647",
     "status": "completed"
    },
    "tags": []
   },
   "outputs": [
    {
     "name": "stdout",
     "output_type": "stream",
     "text": [
      "Original Dataframe is:\n",
      "         Name  Roll_No\n",
      "0       Yash        1\n",
      "1  Ghanshyam        2\n",
      "2      Harsh        3\n",
      "\n",
      "After Delete column:\n",
      "         Name\n",
      "0       Yash\n",
      "1  Ghanshyam\n",
      "2      Harsh\n"
     ]
    }
   ],
   "source": [
    "'''Practical No.7: Write a Pandas program to implement\n",
    "following operation:\n",
    "• to delete the one specific column from the\n",
    "DataFrame\n",
    "\n",
    "Name: Tank Yash\n",
    "Eno: 216270307073\n",
    "'''\n",
    "\n",
    "df = pd.DataFrame({'Name': ['Yash','Ghanshyam','Harsh'], 'Roll_No': [1,2,3,]})\n",
    "print(\"Original Dataframe is:\\n\", df)\n",
    "\n",
    "del df['Roll_No']\n",
    "print(\"\\nAfter Delete column:\\n\",df)"
   ]
  },
  {
   "cell_type": "code",
   "execution_count": 5,
   "id": "201792cc",
   "metadata": {
    "execution": {
     "iopub.execute_input": "2023-10-16T19:03:46.131451Z",
     "iopub.status.busy": "2023-10-16T19:03:46.131091Z",
     "iopub.status.idle": "2023-10-16T19:03:46.147559Z",
     "shell.execute_reply": "2023-10-16T19:03:46.146255Z"
    },
    "papermill": {
     "duration": 0.02224,
     "end_time": "2023-10-16T19:03:46.149857",
     "exception": false,
     "start_time": "2023-10-16T19:03:46.127617",
     "status": "completed"
    },
    "tags": []
   },
   "outputs": [
    {
     "name": "stdout",
     "output_type": "stream",
     "text": [
      "  Name\\tRoll_No\n",
      "0       Yash\\t1\n",
      "1  Ghanshyam\\t2\n",
      "2      Harsh\\t3\n"
     ]
    }
   ],
   "source": [
    "'''Practical No.7: Write a Pandas program to implement\n",
    "following operation:\n",
    "• to write a DataFrame to CSV file using tab\n",
    "separator\n",
    "\n",
    "Name: Tank Yash\n",
    "Eno: 216270307073\n",
    "'''\n",
    "\n",
    "df = pd.DataFrame({'Name': ['Yash','Ghanshyam','Harsh'], 'Roll_No': [1,2,3,]})\n",
    "df.to_csv('/kaggle/working/dataset.csv', index=False, sep=\"\\t\")\n",
    "\n",
    "df = pd.read_csv('/kaggle/working/dataset.csv')\n",
    "print(df)"
   ]
  },
  {
   "cell_type": "code",
   "execution_count": null,
   "id": "045a78bb",
   "metadata": {
    "papermill": {
     "duration": 0.002136,
     "end_time": "2023-10-16T19:03:46.154689",
     "exception": false,
     "start_time": "2023-10-16T19:03:46.152553",
     "status": "completed"
    },
    "tags": []
   },
   "outputs": [],
   "source": []
  }
 ],
 "metadata": {
  "kernelspec": {
   "display_name": "Python 3",
   "language": "python",
   "name": "python3"
  },
  "language_info": {
   "codemirror_mode": {
    "name": "ipython",
    "version": 3
   },
   "file_extension": ".py",
   "mimetype": "text/x-python",
   "name": "python",
   "nbconvert_exporter": "python",
   "pygments_lexer": "ipython3",
   "version": "3.10.12"
  },
  "papermill": {
   "default_parameters": {},
   "duration": 4.293058,
   "end_time": "2023-10-16T19:03:46.678427",
   "environment_variables": {},
   "exception": null,
   "input_path": "__notebook__.ipynb",
   "output_path": "__notebook__.ipynb",
   "parameters": {},
   "start_time": "2023-10-16T19:03:42.385369",
   "version": "2.4.0"
  }
 },
 "nbformat": 4,
 "nbformat_minor": 5
}
