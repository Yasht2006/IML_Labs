{
 "cells": [
  {
   "cell_type": "code",
   "execution_count": 1,
   "id": "8909bce6",
   "metadata": {
    "_cell_guid": "b1076dfc-b9ad-4769-8c92-a6c4dae69d19",
    "_uuid": "8f2839f25d086af736a60e9eeb907d3b93b6e0e5",
    "execution": {
     "iopub.execute_input": "2023-10-16T18:59:14.417423Z",
     "iopub.status.busy": "2023-10-16T18:59:14.416977Z",
     "iopub.status.idle": "2023-10-16T18:59:14.797025Z",
     "shell.execute_reply": "2023-10-16T18:59:14.795854Z"
    },
    "papermill": {
     "duration": 0.38778,
     "end_time": "2023-10-16T18:59:14.799964",
     "exception": false,
     "start_time": "2023-10-16T18:59:14.412184",
     "status": "completed"
    },
    "tags": []
   },
   "outputs": [],
   "source": [
    "'''Practical No.4: Write a NumPy program to implement following operation:\n",
    "\n",
    "Name: Tank Yash\n",
    "Eno: 216270307073\n",
    "'''\n",
    "\n",
    "import numpy as np # linear algebra\n",
    "import pandas as pd # data processing, CSV file I/O (e.g. pd.read_csv)\n"
   ]
  },
  {
   "cell_type": "code",
   "execution_count": 2,
   "id": "244b89bf",
   "metadata": {
    "execution": {
     "iopub.execute_input": "2023-10-16T18:59:14.811431Z",
     "iopub.status.busy": "2023-10-16T18:59:14.810068Z",
     "iopub.status.idle": "2023-10-16T18:59:14.827014Z",
     "shell.execute_reply": "2023-10-16T18:59:14.825383Z"
    },
    "papermill": {
     "duration": 0.025928,
     "end_time": "2023-10-16T18:59:14.829537",
     "exception": false,
     "start_time": "2023-10-16T18:59:14.803609",
     "status": "completed"
    },
    "tags": []
   },
   "outputs": [
    {
     "name": "stdout",
     "output_type": "stream",
     "text": [
      "x = [0 1 2 3]\n",
      "x + 5 = [5 6 7 8]\n",
      "x - 5 = [-5 -4 -3 -2]\n",
      "x * 2 = [0 2 4 6]\n",
      "x / 2 = [0.  0.5 1.  1.5]\n"
     ]
    }
   ],
   "source": [
    "'''Practical No.4: Write a NumPy program to implement following operation:\n",
    "• to add, subtract, multiply, divide arguments element-wise\n",
    "\n",
    "Name: Tank Yash\n",
    "Eno: 216270307073\n",
    "'''\n",
    "\n",
    "x = np.arange(4)\n",
    "print(\"x =\", x)\n",
    "print(\"x + 5 =\", x + 5)\n",
    "print(\"x - 5 =\", x - 5)\n",
    "print(\"x * 2 =\", x * 2)\n",
    "print(\"x / 2 =\", x / 2)"
   ]
  },
  {
   "cell_type": "code",
   "execution_count": 3,
   "id": "9e72523e",
   "metadata": {
    "execution": {
     "iopub.execute_input": "2023-10-16T18:59:14.836635Z",
     "iopub.status.busy": "2023-10-16T18:59:14.836223Z",
     "iopub.status.idle": "2023-10-16T18:59:14.843354Z",
     "shell.execute_reply": "2023-10-16T18:59:14.842333Z"
    },
    "papermill": {
     "duration": 0.013851,
     "end_time": "2023-10-16T18:59:14.846407",
     "exception": false,
     "start_time": "2023-10-16T18:59:14.832556",
     "status": "completed"
    },
    "tags": []
   },
   "outputs": [
    {
     "name": "stdout",
     "output_type": "stream",
     "text": [
      "Array before Rounded:\n",
      " [[3.         1.         3.        ]\n",
      " [1.33333333 3.         0.66666667]\n",
      " [0.33333333 0.66666667 0.66666667]]\n",
      "\n",
      "Array after Rounded:\n",
      "[[3. 1. 3.]\n",
      " [1. 3. 1.]\n",
      " [0. 1. 1.]]\n"
     ]
    }
   ],
   "source": [
    "'''Practical No.4: Write a NumPy program to implement following operation:\n",
    "• to round elements of the array to the nearest integer\n",
    "\n",
    "Name: Tank Yash\n",
    "Eno: 216270307073\n",
    "'''\n",
    "\n",
    "a = np.random.randint(0,10,(3,3))\n",
    "a = a/3\n",
    "\n",
    "print(\"Array before Rounded:\\n\",a)\n",
    "print(\"\\nArray after Rounded:\")\n",
    "a = np.round(a)\n",
    "print(a)"
   ]
  },
  {
   "cell_type": "code",
   "execution_count": 4,
   "id": "838d9c01",
   "metadata": {
    "execution": {
     "iopub.execute_input": "2023-10-16T18:59:14.852900Z",
     "iopub.status.busy": "2023-10-16T18:59:14.852522Z",
     "iopub.status.idle": "2023-10-16T18:59:14.858721Z",
     "shell.execute_reply": "2023-10-16T18:59:14.857908Z"
    },
    "papermill": {
     "duration": 0.012819,
     "end_time": "2023-10-16T18:59:14.861694",
     "exception": false,
     "start_time": "2023-10-16T18:59:14.848875",
     "status": "completed"
    },
    "tags": []
   },
   "outputs": [
    {
     "name": "stdout",
     "output_type": "stream",
     "text": [
      "Array:\n",
      " [[29  6  4]\n",
      " [39 45 40]\n",
      " [26 32  8]]\n",
      "Mean of Array:\n",
      " 25.444444444444443\n"
     ]
    }
   ],
   "source": [
    "'''Practical No.4: Write a NumPy program to implement following operation:\n",
    "• to calculate mean across dimension, in a 2D numpy array\n",
    "\n",
    "Name: Tank Yash\n",
    "Eno: 216270307073\n",
    "'''\n",
    "\n",
    "a = np.random.randint(1,50,(3,3))\n",
    "\n",
    "print(\"Array:\\n\",a)\n",
    "\n",
    "b = np.mean(a)\n",
    "print(\"Mean of Array:\\n\",b)"
   ]
  },
  {
   "cell_type": "code",
   "execution_count": 5,
   "id": "e42fdba7",
   "metadata": {
    "execution": {
     "iopub.execute_input": "2023-10-16T18:59:14.868977Z",
     "iopub.status.busy": "2023-10-16T18:59:14.867777Z",
     "iopub.status.idle": "2023-10-16T18:59:14.874921Z",
     "shell.execute_reply": "2023-10-16T18:59:14.873863Z"
    },
    "papermill": {
     "duration": 0.0126,
     "end_time": "2023-10-16T18:59:14.876888",
     "exception": false,
     "start_time": "2023-10-16T18:59:14.864288",
     "status": "completed"
    },
    "tags": []
   },
   "outputs": [
    {
     "name": "stdout",
     "output_type": "stream",
     "text": [
      "orijinal array:\n",
      " [[5 6 8]\n",
      " [8 2 1]\n",
      " [5 7 1]]\n",
      "\n",
      "Array after calculate difference:\n",
      " [[ 1  2]\n",
      " [ 0 -6]\n",
      " [-1  4]\n",
      " [ 2 -6]]\n"
     ]
    }
   ],
   "source": [
    "'''Practical No.4: Write a NumPy program to implement following operation:\n",
    "• to calculate the difference between neighboring elements, element-wise\n",
    "of a given array\n",
    "\n",
    "Name: Tank Yash\n",
    "Eno: 216270307073\n",
    "'''\n",
    "\n",
    "a = np.random.randint(1,10,(3,3))\n",
    "print(\"orijinal array:\\n\",a)\n",
    "\n",
    "a = np.ediff1d(a)\n",
    "a =np.reshape(a,(4,2))\n",
    "\n",
    "print(\"\\nArray after calculate difference:\\n\",a)"
   ]
  },
  {
   "cell_type": "code",
   "execution_count": null,
   "id": "ba1135a9",
   "metadata": {
    "papermill": {
     "duration": 0.002197,
     "end_time": "2023-10-16T18:59:14.881788",
     "exception": false,
     "start_time": "2023-10-16T18:59:14.879591",
     "status": "completed"
    },
    "tags": []
   },
   "outputs": [],
   "source": []
  }
 ],
 "metadata": {
  "kernelspec": {
   "display_name": "Python 3",
   "language": "python",
   "name": "python3"
  },
  "language_info": {
   "codemirror_mode": {
    "name": "ipython",
    "version": 3
   },
   "file_extension": ".py",
   "mimetype": "text/x-python",
   "name": "python",
   "nbconvert_exporter": "python",
   "pygments_lexer": "ipython3",
   "version": "3.10.12"
  },
  "papermill": {
   "default_parameters": {},
   "duration": 4.089549,
   "end_time": "2023-10-16T18:59:15.405291",
   "environment_variables": {},
   "exception": null,
   "input_path": "__notebook__.ipynb",
   "output_path": "__notebook__.ipynb",
   "parameters": {},
   "start_time": "2023-10-16T18:59:11.315742",
   "version": "2.4.0"
  }
 },
 "nbformat": 4,
 "nbformat_minor": 5
}
