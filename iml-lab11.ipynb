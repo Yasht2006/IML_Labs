{
 "cells": [
  {
   "cell_type": "code",
   "execution_count": 1,
   "id": "44072dac",
   "metadata": {
    "execution": {
     "iopub.execute_input": "2023-11-05T08:05:33.276262Z",
     "iopub.status.busy": "2023-11-05T08:05:33.275492Z",
     "iopub.status.idle": "2023-11-05T08:05:33.767899Z",
     "shell.execute_reply": "2023-11-05T08:05:33.765935Z"
    },
    "papermill": {
     "duration": 0.499799,
     "end_time": "2023-11-05T08:05:33.770938",
     "exception": false,
     "start_time": "2023-11-05T08:05:33.271139",
     "status": "completed"
    },
    "tags": []
   },
   "outputs": [
    {
     "name": "stdout",
     "output_type": "stream",
     "text": [
      "Deforestation goal15.Forest Shares Data: \n",
      "  iso3c  forests_2000  forests_2020  trend\n",
      "0   AFG           1.9           1.9    0.0\n",
      "1   ALB          28.1          28.8    2.5\n",
      "2   DZA           0.7           0.8   14.3\n",
      "3   ASM          88.7          85.7   -3.4\n",
      "4   AND          34.0          34.0    0.0\n",
      "\n",
      "Rows and columns has a NaN:\n",
      "     trend\n",
      "0      0.0\n",
      "1      2.5\n",
      "2     14.3\n",
      "3     -3.4\n",
      "4      0.0\n",
      "..     ...\n",
      "232    0.0\n",
      "233   -2.2\n",
      "234    0.0\n",
      "235   -4.7\n",
      "236   -5.1\n",
      "\n",
      "[237 rows x 1 columns]\n",
      "\n",
      "Drop rows with any NaNs:\n",
      "    iso3c  forests_2000  forests_2020  trend\n",
      "0     AFG           1.9           1.9    0.0\n",
      "1     ALB          28.1          28.8    2.5\n",
      "2     DZA           0.7           0.8   14.3\n",
      "3     ASM          88.7          85.7   -3.4\n",
      "4     AND          34.0          34.0    0.0\n",
      "..    ...           ...           ...    ...\n",
      "232   ESH           2.5           2.5    0.0\n",
      "233   WLD          31.9          31.2   -2.2\n",
      "234   YEM           1.0           1.0    0.0\n",
      "235   ZMB          63.3          60.3   -4.7\n",
      "236   ZWE          47.5          45.1   -5.1\n",
      "\n",
      "[227 rows x 4 columns]\n"
     ]
    }
   ],
   "source": [
    "'''Practical No.11: Write a Pandas program to filter all columns where all\n",
    "entries present, check which rows and columns has a NaN and finally drop \n",
    "rows with any NaNs from the given dataset.\n",
    "\n",
    "Name: Tank Yash\n",
    "Eno: 216270307073\n",
    "'''\n",
    "import numpy as np # linear algebra\n",
    "import pandas as pd # data processing, CSV file I/O (e.g. pd.read_csv)\n",
    "\n",
    "dforest = pd.read_csv('/kaggle/input/deforestation-dataset/goal15.forest_shares.csv')\n",
    "print(\"Deforestation goal15.Forest Shares Data: \")\n",
    "print(dforest.head())\n",
    "print(\"\\nRows and columns has a NaN:\")\n",
    "print(dforest.loc[:,dforest.isnull().any()])\n",
    "print(\"\\nDrop rows with any NaNs:\")\n",
    "print(dforest.dropna(how='any'))"
   ]
  }
 ],
 "metadata": {
  "kernelspec": {
   "display_name": "Python 3",
   "language": "python",
   "name": "python3"
  },
  "language_info": {
   "codemirror_mode": {
    "name": "ipython",
    "version": 3
   },
   "file_extension": ".py",
   "mimetype": "text/x-python",
   "name": "python",
   "nbconvert_exporter": "python",
   "pygments_lexer": "ipython3",
   "version": "3.10.12"
  },
  "papermill": {
   "default_parameters": {},
   "duration": 4.946908,
   "end_time": "2023-11-05T08:05:34.296882",
   "environment_variables": {},
   "exception": null,
   "input_path": "__notebook__.ipynb",
   "output_path": "__notebook__.ipynb",
   "parameters": {},
   "start_time": "2023-11-05T08:05:29.349974",
   "version": "2.4.0"
  }
 },
 "nbformat": 4,
 "nbformat_minor": 5
}
