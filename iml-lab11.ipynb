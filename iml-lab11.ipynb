{
 "cells": [
  {
   "cell_type": "code",
   "execution_count": 1,
   "id": "762dc391",
   "metadata": {
    "execution": {
     "iopub.execute_input": "2023-11-04T10:52:26.005144Z",
     "iopub.status.busy": "2023-11-04T10:52:26.003706Z",
     "iopub.status.idle": "2023-11-04T10:52:26.520331Z",
     "shell.execute_reply": "2023-11-04T10:52:26.519064Z"
    },
    "papermill": {
     "duration": 0.525883,
     "end_time": "2023-11-04T10:52:26.524289",
     "exception": false,
     "start_time": "2023-11-04T10:52:25.998406",
     "status": "completed"
    },
    "tags": []
   },
   "outputs": [
    {
     "name": "stdout",
     "output_type": "stream",
     "text": [
      "[False False False  True]\n",
      "[False False False False]\n"
     ]
    }
   ],
   "source": [
    "'''Practical No.11: Write a Pandas program to filter all columns where all\n",
    "entries present, check which rows and columns has a NaN and finally drop \n",
    "rows with any NaNs from the given dataset.\n",
    "\n",
    "Name: Tank Yash\n",
    "Eno: 216270307073\n",
    "'''\n",
    "import numpy as np # linear algebra\n",
    "import pandas as pd # data processing, CSV file I/O (e.g. pd.read_csv)\n",
    "\n",
    "df=pd.read_csv(r\"../input/deforestation-dataset/goal15.forest_shares.csv\")\n",
    "null_col = df.isna().values.any(axis=0)\n",
    "print(null_col)\n",
    "df=df.dropna()\n",
    "null_col = df.isna().values.any(axis=0)\n",
    "print(null_col)"
   ]
  }
 ],
 "metadata": {
  "kernelspec": {
   "display_name": "Python 3",
   "language": "python",
   "name": "python3"
  },
  "language_info": {
   "codemirror_mode": {
    "name": "ipython",
    "version": 3
   },
   "file_extension": ".py",
   "mimetype": "text/x-python",
   "name": "python",
   "nbconvert_exporter": "python",
   "pygments_lexer": "ipython3",
   "version": "3.10.12"
  },
  "papermill": {
   "default_parameters": {},
   "duration": 5.255372,
   "end_time": "2023-11-04T10:52:27.049452",
   "environment_variables": {},
   "exception": null,
   "input_path": "__notebook__.ipynb",
   "output_path": "__notebook__.ipynb",
   "parameters": {},
   "start_time": "2023-11-04T10:52:21.794080",
   "version": "2.4.0"
  }
 },
 "nbformat": 4,
 "nbformat_minor": 5
}
