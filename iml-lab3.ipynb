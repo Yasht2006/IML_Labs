{
 "cells": [
  {
   "cell_type": "code",
   "execution_count": 1,
   "id": "8d2aacff",
   "metadata": {
    "execution": {
     "iopub.execute_input": "2023-10-16T18:57:13.858701Z",
     "iopub.status.busy": "2023-10-16T18:57:13.857890Z",
     "iopub.status.idle": "2023-10-16T18:57:14.261011Z",
     "shell.execute_reply": "2023-10-16T18:57:14.259781Z"
    },
    "papermill": {
     "duration": 0.410405,
     "end_time": "2023-10-16T18:57:14.263940",
     "exception": false,
     "start_time": "2023-10-16T18:57:13.853535",
     "status": "completed"
    },
    "tags": []
   },
   "outputs": [],
   "source": [
    "'''Practical No.3: Write a NumPy program to implement following operation\n",
    "\n",
    "Name: Tank Yash\n",
    "Eno: 216270307073\n",
    "'''\n",
    "import numpy as np # linear algebra\n",
    "import pandas as pd # data processing, CSV file I/O (e.g. pd.read_csv)"
   ]
  },
  {
   "cell_type": "code",
   "execution_count": 2,
   "id": "406e8d88",
   "metadata": {
    "execution": {
     "iopub.execute_input": "2023-10-16T18:57:14.270014Z",
     "iopub.status.busy": "2023-10-16T18:57:14.269411Z",
     "iopub.status.idle": "2023-10-16T18:57:14.279425Z",
     "shell.execute_reply": "2023-10-16T18:57:14.277909Z"
    },
    "papermill": {
     "duration": 0.018847,
     "end_time": "2023-10-16T18:57:14.284967",
     "exception": false,
     "start_time": "2023-10-16T18:57:14.266120",
     "status": "completed"
    },
    "tags": []
   },
   "outputs": [
    {
     "name": "stdout",
     "output_type": "stream",
     "text": [
      "Oriinal array:\n",
      " [ 0  1  2  3  4  5  6  7  8  9 10 11 12 13]\n",
      "\n",
      "After split array is:\n",
      "First array:\n",
      " [0 1] \n",
      "Second array:\n",
      " [2 3 4 5] \n",
      "Third array:\n",
      " [ 6  7  8  9 10 11 12 13]\n"
     ]
    }
   ],
   "source": [
    "'''\n",
    "Write a NumPy program to implement following operation\n",
    "• to split an array of 14 elements into 3 arrays, each with 2, 4, and 8 elements in the original order\n",
    "\n",
    "Name: Tank Yash\n",
    "Eno: 216270307073\n",
    "'''\n",
    "a = np.arange(14)\n",
    "print(\"Oriinal array:\\n\",a)\n",
    "\n",
    "print(\"\\nAfter split array is:\")\n",
    "a1, a2, a3= np.split(a, [2,6])\n",
    "print(\"First array:\\n\",a1,\"\\nSecond array:\\n\",a2,\"\\nThird array:\\n\",a3)"
   ]
  },
  {
   "cell_type": "code",
   "execution_count": 3,
   "id": "4db7fc0e",
   "metadata": {
    "execution": {
     "iopub.execute_input": "2023-10-16T18:57:14.290234Z",
     "iopub.status.busy": "2023-10-16T18:57:14.289867Z",
     "iopub.status.idle": "2023-10-16T18:57:14.298087Z",
     "shell.execute_reply": "2023-10-16T18:57:14.296637Z"
    },
    "papermill": {
     "duration": 0.0136,
     "end_time": "2023-10-16T18:57:14.300393",
     "exception": false,
     "start_time": "2023-10-16T18:57:14.286793",
     "status": "completed"
    },
    "tags": []
   },
   "outputs": [
    {
     "name": "stdout",
     "output_type": "stream",
     "text": [
      "Arrray 'a':\n",
      " [[1 2]\n",
      " [3 4]]\n",
      "Arrray 'b':\n",
      " [[6 7]\n",
      " [8 9]]\n",
      "Horizontally(column wise) array is:\n",
      " [[1 2 6 7]\n",
      " [3 4 8 9]]\n"
     ]
    }
   ],
   "source": [
    "'''\n",
    "Write a NumPy program to implement following operation:\n",
    "• to stack arrays horizontally (column wise)\n",
    "\n",
    "Name: Tank Yash\n",
    "Eno: 216270307073\n",
    "'''\n",
    "\n",
    "a = np.array([[1, 2],[3,4]])\n",
    "b = np.array([[6,7],[8,9]])\n",
    "c = np.hstack((a, b))\n",
    "\n",
    "print(\"Arrray 'a':\\n\",a)\n",
    "print(\"Arrray 'b':\\n\",b)\n",
    "print(\"Horizontally(column wise) array is:\\n\",c)"
   ]
  }
 ],
 "metadata": {
  "kernelspec": {
   "display_name": "Python 3",
   "language": "python",
   "name": "python3"
  },
  "language_info": {
   "codemirror_mode": {
    "name": "ipython",
    "version": 3
   },
   "file_extension": ".py",
   "mimetype": "text/x-python",
   "name": "python",
   "nbconvert_exporter": "python",
   "pygments_lexer": "ipython3",
   "version": "3.10.12"
  },
  "papermill": {
   "default_parameters": {},
   "duration": 4.812257,
   "end_time": "2023-10-16T18:57:15.025303",
   "environment_variables": {},
   "exception": null,
   "input_path": "__notebook__.ipynb",
   "output_path": "__notebook__.ipynb",
   "parameters": {},
   "start_time": "2023-10-16T18:57:10.213046",
   "version": "2.4.0"
  }
 },
 "nbformat": 4,
 "nbformat_minor": 5
}
