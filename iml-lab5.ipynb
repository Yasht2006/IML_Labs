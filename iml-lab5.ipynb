{
 "cells": [
  {
   "cell_type": "code",
   "execution_count": 1,
   "id": "313a44fa",
   "metadata": {
    "_cell_guid": "b1076dfc-b9ad-4769-8c92-a6c4dae69d19",
    "_uuid": "8f2839f25d086af736a60e9eeb907d3b93b6e0e5",
    "execution": {
     "iopub.execute_input": "2023-10-14T06:36:04.117664Z",
     "iopub.status.busy": "2023-10-14T06:36:04.117060Z",
     "iopub.status.idle": "2023-10-14T06:36:04.515410Z",
     "shell.execute_reply": "2023-10-14T06:36:04.514176Z"
    },
    "papermill": {
     "duration": 0.405464,
     "end_time": "2023-10-14T06:36:04.517948",
     "exception": false,
     "start_time": "2023-10-14T06:36:04.112484",
     "status": "completed"
    },
    "tags": []
   },
   "outputs": [],
   "source": [
    "'''Practical No.5: Write a NumPy program to implement following operation:\n",
    "\n",
    "Name: Tank Yash\n",
    "Eno: 216270307073\n",
    "'''\n",
    "\n",
    "import numpy as np # linear algebra\n",
    "import pandas as pd # data processing, CSV file I/O (e.g. pd.read_csv)\n",
    "\n"
   ]
  },
  {
   "cell_type": "code",
   "execution_count": 2,
   "id": "a7efc319",
   "metadata": {
    "execution": {
     "iopub.execute_input": "2023-10-14T06:36:04.523668Z",
     "iopub.status.busy": "2023-10-14T06:36:04.523150Z",
     "iopub.status.idle": "2023-10-14T06:36:04.534685Z",
     "shell.execute_reply": "2023-10-14T06:36:04.533919Z"
    },
    "papermill": {
     "duration": 0.017204,
     "end_time": "2023-10-14T06:36:04.537232",
     "exception": false,
     "start_time": "2023-10-14T06:36:04.520028",
     "status": "completed"
    },
    "tags": []
   },
   "outputs": [
    {
     "name": "stdout",
     "output_type": "stream",
     "text": [
      "Original Array:\n",
      " [[ 5 17 19]\n",
      " [14  7  2]\n",
      " [ 8 12 17]]\n",
      "\n",
      "Flatten a row-major order: \n",
      " [ 5 17 19 14  7  2  8 12 17]\n",
      "Minimum element of array:\n",
      " 2\n",
      "Maximum element of array:\n",
      " 19\n"
     ]
    }
   ],
   "source": [
    "'''Practical No.5: Write a NumPy program to implement following operation:\n",
    "• to find the maximum and minimum value of a given flattened array\n",
    "\n",
    "Name: Tank Yash\n",
    "Eno: 216270307073\n",
    "'''\n",
    "\n",
    "a = np.random.randint(1,20,(3,3))\n",
    "print(\"Original Array:\\n\",a)\n",
    "\n",
    "b = a.flatten()\n",
    "print(\"\\nFlatten a row-major order: \\n\", b)\n",
    "print(\"Minimum element of array:\\n\",np.min(b))\n",
    "print(\"Maximum element of array:\\n\",np.max(b))"
   ]
  },
  {
   "cell_type": "code",
   "execution_count": 3,
   "id": "5166ae78",
   "metadata": {
    "execution": {
     "iopub.execute_input": "2023-10-14T06:36:04.543023Z",
     "iopub.status.busy": "2023-10-14T06:36:04.542609Z",
     "iopub.status.idle": "2023-10-14T06:36:04.550605Z",
     "shell.execute_reply": "2023-10-14T06:36:04.549364Z"
    },
    "papermill": {
     "duration": 0.013503,
     "end_time": "2023-10-14T06:36:04.552856",
     "exception": false,
     "start_time": "2023-10-14T06:36:04.539353",
     "status": "completed"
    },
    "tags": []
   },
   "outputs": [
    {
     "name": "stdout",
     "output_type": "stream",
     "text": [
      "Original Array:\n",
      " [[1 2 3]\n",
      " [4 5 6]\n",
      " [7 8 9]]\n",
      "Mean of a Second axis:  [2. 5. 8.]\n",
      "Standard Deviation Second axis: \n",
      " [0.81649658 0.81649658 0.81649658]\n",
      "Variance along Second axis: \n",
      " [0.66666667 0.66666667 0.66666667]\n"
     ]
    }
   ],
   "source": [
    "'''Practical No.5: Write a NumPy program to implement following operation:\n",
    "• to compute the mean, standard deviation, and variance of a given array \n",
    "along the second axis\n",
    "\n",
    "Name: Tank Yash\n",
    "Eno: 216270307073\n",
    "'''\n",
    "\n",
    "a = np.arange(1,10).reshape(3,3)\n",
    "print(\"Original Array:\\n\",a)\n",
    "\n",
    "print(\"Mean of a Second axis: \", np.mean(a, axis=1))\n",
    "print(\"Standard Deviation Second axis: \\n\", np.std(a, axis=1))\n",
    "print(\"Variance along Second axis: \\n\", np.var(a, axis=1))"
   ]
  },
  {
   "cell_type": "code",
   "execution_count": null,
   "id": "2bf6aa9b",
   "metadata": {
    "papermill": {
     "duration": 0.00168,
     "end_time": "2023-10-14T06:36:04.556622",
     "exception": false,
     "start_time": "2023-10-14T06:36:04.554942",
     "status": "completed"
    },
    "tags": []
   },
   "outputs": [],
   "source": []
  }
 ],
 "metadata": {
  "kernelspec": {
   "display_name": "Python 3",
   "language": "python",
   "name": "python3"
  },
  "language_info": {
   "codemirror_mode": {
    "name": "ipython",
    "version": 3
   },
   "file_extension": ".py",
   "mimetype": "text/x-python",
   "name": "python",
   "nbconvert_exporter": "python",
   "pygments_lexer": "ipython3",
   "version": "3.10.12"
  },
  "papermill": {
   "default_parameters": {},
   "duration": 4.45783,
   "end_time": "2023-10-14T06:36:05.078973",
   "environment_variables": {},
   "exception": null,
   "input_path": "__notebook__.ipynb",
   "output_path": "__notebook__.ipynb",
   "parameters": {},
   "start_time": "2023-10-14T06:36:00.621143",
   "version": "2.4.0"
  }
 },
 "nbformat": 4,
 "nbformat_minor": 5
}
