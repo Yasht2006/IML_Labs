{
 "cells": [
  {
   "cell_type": "code",
   "execution_count": 1,
   "id": "27bce0ff",
   "metadata": {
    "_cell_guid": "b1076dfc-b9ad-4769-8c92-a6c4dae69d19",
    "_uuid": "8f2839f25d086af736a60e9eeb907d3b93b6e0e5",
    "execution": {
     "iopub.execute_input": "2023-10-11T04:56:45.144658Z",
     "iopub.status.busy": "2023-10-11T04:56:45.144287Z",
     "iopub.status.idle": "2023-10-11T04:56:45.515907Z",
     "shell.execute_reply": "2023-10-11T04:56:45.514740Z"
    },
    "papermill": {
     "duration": 0.378105,
     "end_time": "2023-10-11T04:56:45.518295",
     "exception": false,
     "start_time": "2023-10-11T04:56:45.140190",
     "status": "completed"
    },
    "tags": []
   },
   "outputs": [],
   "source": [
    "'''Practical No.5: Write a NumPy program to implement following operation:\n",
    "\n",
    "Name: Tank Yash\n",
    "Eno: 216270307073\n",
    "'''\n",
    "\n",
    "import numpy as np # linear algebra\n",
    "import pandas as pd # data processing, CSV file I/O (e.g. pd.read_csv)\n",
    "\n"
   ]
  },
  {
   "cell_type": "code",
   "execution_count": 2,
   "id": "4ae6af09",
   "metadata": {
    "execution": {
     "iopub.execute_input": "2023-10-11T04:56:45.526945Z",
     "iopub.status.busy": "2023-10-11T04:56:45.526404Z",
     "iopub.status.idle": "2023-10-11T04:56:45.537691Z",
     "shell.execute_reply": "2023-10-11T04:56:45.536443Z"
    },
    "papermill": {
     "duration": 0.017556,
     "end_time": "2023-10-11T04:56:45.539960",
     "exception": false,
     "start_time": "2023-10-11T04:56:45.522404",
     "status": "completed"
    },
    "tags": []
   },
   "outputs": [
    {
     "name": "stdout",
     "output_type": "stream",
     "text": [
      "Original Array:\n",
      " [[17 12 17]\n",
      " [ 8 17 15]\n",
      " [18 14  2]]\n",
      "\n",
      "Flatten a row-major order: \n",
      " [17 12 17  8 17 15 18 14  2]\n",
      "Minimum element of array:\n",
      " 2\n",
      "Maximum element of array:\n",
      " 18\n"
     ]
    }
   ],
   "source": [
    "'''Practical No.5: Write a NumPy program to implement following operation:\n",
    "• to find the maximum and minimum value of a given flattened array\n",
    "\n",
    "Name: Tank Yash\n",
    "Eno: 216270307073\n",
    "'''\n",
    "\n",
    "a = np.random.randint(1,20,(3,3))\n",
    "print(\"Original Array:\\n\",a)\n",
    "\n",
    "b = a.flatten()\n",
    "print(\"\\nFlatten a row-major order: \\n\", b)\n",
    "print(\"Minimum element of array:\\n\",np.min(b))\n",
    "print(\"Maximum element of array:\\n\",np.max(b))"
   ]
  },
  {
   "cell_type": "code",
   "execution_count": 3,
   "id": "e3fdc59d",
   "metadata": {
    "execution": {
     "iopub.execute_input": "2023-10-11T04:56:45.545706Z",
     "iopub.status.busy": "2023-10-11T04:56:45.544923Z",
     "iopub.status.idle": "2023-10-11T04:56:45.554579Z",
     "shell.execute_reply": "2023-10-11T04:56:45.553410Z"
    },
    "papermill": {
     "duration": 0.0147,
     "end_time": "2023-10-11T04:56:45.556640",
     "exception": false,
     "start_time": "2023-10-11T04:56:45.541940",
     "status": "completed"
    },
    "tags": []
   },
   "outputs": [
    {
     "name": "stdout",
     "output_type": "stream",
     "text": [
      "Original Array:\n",
      " [[1 2 3]\n",
      " [4 5 6]\n",
      " [7 8 9]]\n",
      "\n",
      "Mean of a:  5.0\n",
      "Mean of a Second axis:  [4. 5. 6.]\n",
      "Mean of a Second axis:  [2. 5. 8.]\n",
      "\n",
      "Standard Deviation: \n",
      " 2.581988897471611\n",
      "Standard Deviation Second axis: \n",
      " [2.44948974 2.44948974 2.44948974]\n",
      "Standard Deviation Second axis: \n",
      " [0.81649658 0.81649658 0.81649658]\n",
      "\n",
      "Variance: \n",
      " 6.666666666666667\n",
      "Variance along Second axis: \n",
      " [6. 6. 6.]\n",
      "Variance along Second axis: \n",
      " [0.66666667 0.66666667 0.66666667]\n"
     ]
    }
   ],
   "source": [
    "'''Practical No.5: Write a NumPy program to implement following operation:\n",
    "• to compute the mean, standard deviation, and variance of a given array \n",
    "along the second axis\n",
    "\n",
    "Name: Tank Yash\n",
    "Eno: 216270307073\n",
    "'''\n",
    "\n",
    "a = np.arange(1,10).reshape(3,3)\n",
    "print(\"Original Array:\\n\",a)\n",
    "\n",
    "print(\"\\nMean of a: \", np.mean(a))\n",
    "print(\"Mean of a Second axis: \", np.mean(a, axis=0))\n",
    "print(\"Mean of a Second axis: \", np.mean(a, axis=1))\n",
    "print(\"\\nStandard Deviation: \\n\", np.std(a))\n",
    "print(\"Standard Deviation Second axis: \\n\", np.std(a, axis=0))\n",
    "print(\"Standard Deviation Second axis: \\n\", np.std(a, axis=1))\n",
    "print(\"\\nVariance: \\n\", np.var(a))\n",
    "print(\"Variance along Second axis: \\n\", np.var(a, axis=0))\n",
    "print(\"Variance along Second axis: \\n\", np.var(a, axis=1))"
   ]
  },
  {
   "cell_type": "code",
   "execution_count": null,
   "id": "30203eac",
   "metadata": {
    "papermill": {
     "duration": 0.001609,
     "end_time": "2023-10-11T04:56:45.560240",
     "exception": false,
     "start_time": "2023-10-11T04:56:45.558631",
     "status": "completed"
    },
    "tags": []
   },
   "outputs": [],
   "source": []
  }
 ],
 "metadata": {
  "kernelspec": {
   "display_name": "Python 3",
   "language": "python",
   "name": "python3"
  },
  "language_info": {
   "codemirror_mode": {
    "name": "ipython",
    "version": 3
   },
   "file_extension": ".py",
   "mimetype": "text/x-python",
   "name": "python",
   "nbconvert_exporter": "python",
   "pygments_lexer": "ipython3",
   "version": "3.10.12"
  },
  "papermill": {
   "default_parameters": {},
   "duration": 4.044192,
   "end_time": "2023-10-11T04:56:45.981162",
   "environment_variables": {},
   "exception": null,
   "input_path": "__notebook__.ipynb",
   "output_path": "__notebook__.ipynb",
   "parameters": {},
   "start_time": "2023-10-11T04:56:41.936970",
   "version": "2.4.0"
  }
 },
 "nbformat": 4,
 "nbformat_minor": 5
}
