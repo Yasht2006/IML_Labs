{
 "cells": [
  {
   "cell_type": "code",
   "execution_count": 1,
   "id": "7f036dd0",
   "metadata": {
    "_cell_guid": "b1076dfc-b9ad-4769-8c92-a6c4dae69d19",
    "_uuid": "8f2839f25d086af736a60e9eeb907d3b93b6e0e5",
    "execution": {
     "iopub.execute_input": "2023-10-06T06:34:21.205234Z",
     "iopub.status.busy": "2023-10-06T06:34:21.204477Z",
     "iopub.status.idle": "2023-10-06T06:34:21.649136Z",
     "shell.execute_reply": "2023-10-06T06:34:21.647927Z"
    },
    "papermill": {
     "duration": 0.453103,
     "end_time": "2023-10-06T06:34:21.652064",
     "exception": false,
     "start_time": "2023-10-06T06:34:21.198961",
     "status": "completed"
    },
    "tags": []
   },
   "outputs": [],
   "source": [
    "'''Practical No.9: Write a Pandas program to create a plot of \n",
    "Open, High, Low, Close, Adjusted Closing prices and Volume of\n",
    "given company between two specific dates.\n",
    "\n",
    "Name: Tank Yash\n",
    "Eno: 216270307073\n",
    "'''\n",
    "\n",
    "import numpy as np # linear algebra\n",
    "import pandas as pd # data processing, CSV file I/O (e.g. pd.read_csv)\n",
    "\n"
   ]
  }
 ],
 "metadata": {
  "kernelspec": {
   "display_name": "Python 3",
   "language": "python",
   "name": "python3"
  },
  "language_info": {
   "codemirror_mode": {
    "name": "ipython",
    "version": 3
   },
   "file_extension": ".py",
   "mimetype": "text/x-python",
   "name": "python",
   "nbconvert_exporter": "python",
   "pygments_lexer": "ipython3",
   "version": "3.10.12"
  },
  "papermill": {
   "default_parameters": {},
   "duration": 4.548133,
   "end_time": "2023-10-06T06:34:22.376649",
   "environment_variables": {},
   "exception": null,
   "input_path": "__notebook__.ipynb",
   "output_path": "__notebook__.ipynb",
   "parameters": {},
   "start_time": "2023-10-06T06:34:17.828516",
   "version": "2.4.0"
  }
 },
 "nbformat": 4,
 "nbformat_minor": 5
}
