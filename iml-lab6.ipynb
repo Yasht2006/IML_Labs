{
 "cells": [
  {
   "cell_type": "code",
   "execution_count": 1,
   "id": "05da1043",
   "metadata": {
    "_cell_guid": "b1076dfc-b9ad-4769-8c92-a6c4dae69d19",
    "_uuid": "8f2839f25d086af736a60e9eeb907d3b93b6e0e5",
    "execution": {
     "iopub.execute_input": "2023-10-16T19:01:49.709415Z",
     "iopub.status.busy": "2023-10-16T19:01:49.708653Z",
     "iopub.status.idle": "2023-10-16T19:01:50.611348Z",
     "shell.execute_reply": "2023-10-16T19:01:50.610236Z"
    },
    "papermill": {
     "duration": 0.912533,
     "end_time": "2023-10-16T19:01:50.614798",
     "exception": false,
     "start_time": "2023-10-16T19:01:49.702265",
     "status": "completed"
    },
    "tags": []
   },
   "outputs": [],
   "source": [
    "'''Practical No.6: Write a Pandas program to implement following operation:\n",
    "\n",
    "Name: Tank Yash\n",
    "Eno: 216270307073\n",
    "'''\n",
    "\n",
    "import numpy as np # linear algebra\n",
    "import pandas as pd # data processing, CSV file I/O (e.g. pd.read_csv)"
   ]
  },
  {
   "cell_type": "code",
   "execution_count": 2,
   "id": "e234cf40",
   "metadata": {
    "execution": {
     "iopub.execute_input": "2023-10-16T19:01:50.628454Z",
     "iopub.status.busy": "2023-10-16T19:01:50.627832Z",
     "iopub.status.idle": "2023-10-16T19:01:50.638111Z",
     "shell.execute_reply": "2023-10-16T19:01:50.637066Z"
    },
    "papermill": {
     "duration": 0.022729,
     "end_time": "2023-10-16T19:01:50.642036",
     "exception": false,
     "start_time": "2023-10-16T19:01:50.619307",
     "status": "completed"
    },
    "tags": []
   },
   "outputs": [
    {
     "name": "stdout",
     "output_type": "stream",
     "text": [
      "Original Array:\n",
      " [1 2 3 4]\n",
      "Array After convert Pandas Series:\n",
      " 0    1\n",
      "1    2\n",
      "2    3\n",
      "3    4\n",
      "dtype: int64\n"
     ]
    }
   ],
   "source": [
    "'''Practical No.6: Write a Pandas program to implement following operation:\n",
    "• to convert a NumPy array to a Pandas series\n",
    "\n",
    "Name: Tank Yash\n",
    "Eno: 216270307073\n",
    "'''\n",
    "\n",
    "a = np.array([1,2,3,4])\n",
    "print(\"Original Array:\\n\",a)\n",
    "\n",
    "s = pd.Series(a)\n",
    "print(\"Array After convert Pandas Series:\\n\",s)"
   ]
  },
  {
   "cell_type": "code",
   "execution_count": 3,
   "id": "32fab621",
   "metadata": {
    "execution": {
     "iopub.execute_input": "2023-10-16T19:01:50.650125Z",
     "iopub.status.busy": "2023-10-16T19:01:50.648891Z",
     "iopub.status.idle": "2023-10-16T19:01:50.668280Z",
     "shell.execute_reply": "2023-10-16T19:01:50.667226Z"
    },
    "papermill": {
     "duration": 0.026391,
     "end_time": "2023-10-16T19:01:50.671305",
     "exception": false,
     "start_time": "2023-10-16T19:01:50.644914",
     "status": "completed"
    },
    "tags": []
   },
   "outputs": [
    {
     "name": "stdout",
     "output_type": "stream",
     "text": [
      "Dataframe is:\n",
      "   Name  Roll_No\n",
      "0  abc        1\n",
      "1  xyz        2\n",
      "2  pqr        3\n",
      "\n",
      "After conver first column into pandas series:\n",
      " 0    abc\n",
      "1    xyz\n",
      "2    pqr\n",
      "Name: Name, dtype: object\n"
     ]
    }
   ],
   "source": [
    "'''Practical No.6: Write a Pandas program to implement following operation:\n",
    "• to convert the first column of a DataFrame as a Series\n",
    "\n",
    "Name: Tank Yash\n",
    "Eno: 216270307073\n",
    "'''\n",
    "\n",
    "df = pd.DataFrame({'Name': ['abc','xyz','pqr'], 'Roll_No': [1,2,3,]})\n",
    "print(\"Dataframe is:\\n\", df)\n",
    "\n",
    "fc = df['Name']\n",
    "print(\"\\nAfter conver first column into pandas series:\\n\",pd.Series(fc))"
   ]
  },
  {
   "cell_type": "code",
   "execution_count": 4,
   "id": "2aa6fb38",
   "metadata": {
    "execution": {
     "iopub.execute_input": "2023-10-16T19:01:50.681075Z",
     "iopub.status.busy": "2023-10-16T19:01:50.680682Z",
     "iopub.status.idle": "2023-10-16T19:01:50.688915Z",
     "shell.execute_reply": "2023-10-16T19:01:50.688237Z"
    },
    "papermill": {
     "duration": 0.017371,
     "end_time": "2023-10-16T19:01:50.692857",
     "exception": false,
     "start_time": "2023-10-16T19:01:50.675486",
     "status": "completed"
    },
    "tags": []
   },
   "outputs": [
    {
     "name": "stdout",
     "output_type": "stream",
     "text": [
      "Pandas Series:\n",
      " 0    1\n",
      "1    2\n",
      "2    3\n",
      "3    4\n",
      "4    5\n",
      "dtype: int64\n",
      "\n",
      "Mean is:\n",
      " 3.0\n",
      "\n",
      "Standard Deviation is:\n",
      " 1.5811388300841898\n"
     ]
    }
   ],
   "source": [
    "'''Practical No.6: Write a Pandas program to implement following operation:\n",
    "• to create the mean and standard deviation of the data of a given Series\n",
    "\n",
    "Name: Tank Yash\n",
    "Eno: 216270307073\n",
    "'''\n",
    "\n",
    "s = pd.Series([1,2,3,4,5])\n",
    "print(\"Pandas Series:\\n\",s)\n",
    "\n",
    "mean = s.mean()\n",
    "print(\"\\nMean is:\\n\",mean)\n",
    "\n",
    "std_dev = s.std()\n",
    "print(\"\\nStandard Deviation is:\\n\",std_dev)"
   ]
  },
  {
   "cell_type": "code",
   "execution_count": 5,
   "id": "e1f26960",
   "metadata": {
    "execution": {
     "iopub.execute_input": "2023-10-16T19:01:50.702374Z",
     "iopub.status.busy": "2023-10-16T19:01:50.701965Z",
     "iopub.status.idle": "2023-10-16T19:01:50.712021Z",
     "shell.execute_reply": "2023-10-16T19:01:50.711308Z"
    },
    "papermill": {
     "duration": 0.017995,
     "end_time": "2023-10-16T19:01:50.714774",
     "exception": false,
     "start_time": "2023-10-16T19:01:50.696779",
     "status": "completed"
    },
    "tags": []
   },
   "outputs": [
    {
     "name": "stdout",
     "output_type": "stream",
     "text": [
      "Original Series:\n",
      " 0    3\n",
      "1    4\n",
      "2    2\n",
      "3    6\n",
      "4    9\n",
      "5    1\n",
      "dtype: int64\n",
      "\n",
      "After sort series is:\n",
      " 5    1\n",
      "2    2\n",
      "0    3\n",
      "1    4\n",
      "3    6\n",
      "4    9\n",
      "dtype: int64\n"
     ]
    }
   ],
   "source": [
    "'''Practical No.6: Write a Pandas program to implement following operation:\n",
    "• to sort a given Series\n",
    "\n",
    "Name: Tank Yash\n",
    "Eno: 216270307073\n",
    "'''\n",
    "\n",
    "s = pd.Series([3,4,2,6,9,1])\n",
    "print(\"Original Series:\\n\",s)\n",
    "\n",
    "sort = s.sort_values()\n",
    "print(\"\\nAfter sort series is:\\n\",sort)"
   ]
  },
  {
   "cell_type": "code",
   "execution_count": null,
   "id": "4e5c5134",
   "metadata": {
    "papermill": {
     "duration": 0.003563,
     "end_time": "2023-10-16T19:01:50.722994",
     "exception": false,
     "start_time": "2023-10-16T19:01:50.719431",
     "status": "completed"
    },
    "tags": []
   },
   "outputs": [],
   "source": []
  }
 ],
 "metadata": {
  "kernelspec": {
   "display_name": "Python 3",
   "language": "python",
   "name": "python3"
  },
  "language_info": {
   "codemirror_mode": {
    "name": "ipython",
    "version": 3
   },
   "file_extension": ".py",
   "mimetype": "text/x-python",
   "name": "python",
   "nbconvert_exporter": "python",
   "pygments_lexer": "ipython3",
   "version": "3.10.12"
  },
  "papermill": {
   "default_parameters": {},
   "duration": 5.899814,
   "end_time": "2023-10-16T19:01:51.348474",
   "environment_variables": {},
   "exception": null,
   "input_path": "__notebook__.ipynb",
   "output_path": "__notebook__.ipynb",
   "parameters": {},
   "start_time": "2023-10-16T19:01:45.448660",
   "version": "2.4.0"
  }
 },
 "nbformat": 4,
 "nbformat_minor": 5
}
