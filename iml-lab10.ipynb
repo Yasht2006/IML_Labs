{
 "cells": [
  {
   "cell_type": "code",
   "execution_count": 1,
   "id": "84f494ab",
   "metadata": {
    "_cell_guid": "b1076dfc-b9ad-4769-8c92-a6c4dae69d19",
    "_uuid": "8f2839f25d086af736a60e9eeb907d3b93b6e0e5",
    "execution": {
     "iopub.execute_input": "2023-10-14T06:45:39.090511Z",
     "iopub.status.busy": "2023-10-14T06:45:39.089738Z",
     "iopub.status.idle": "2023-10-14T06:45:39.573131Z",
     "shell.execute_reply": "2023-10-14T06:45:39.571637Z"
    },
    "papermill": {
     "duration": 0.491169,
     "end_time": "2023-10-14T06:45:39.576051",
     "exception": false,
     "start_time": "2023-10-14T06:45:39.084882",
     "status": "completed"
    },
    "tags": []
   },
   "outputs": [
    {
     "name": "stdout",
     "output_type": "stream",
     "text": [
      "Original DataFrame:\n",
      "   Roll_No       Name\n",
      "0      1.0      Harsh\n",
      "1      2.0       Yash\n",
      "2      3.0  Ghanshyam\n",
      "3      NaN       Yash\n",
      "4      5.0      Harsh\n",
      "5      5.0      Harsh\n",
      "\n",
      "DataFrame after dropping missing values:\n",
      "   Roll_No       Name\n",
      "0      1.0      Harsh\n",
      "1      2.0       Yash\n",
      "2      3.0  Ghanshyam\n",
      "4      5.0      Harsh\n",
      "5      5.0      Harsh\n"
     ]
    }
   ],
   "source": [
    "'''Practical No.10: Write a Pandas program to implement \n",
    "following operation:\n",
    "• to find and drop the missing values from the given dataset\n",
    "\n",
    "Name: Tank Yash\n",
    "Eno: 216270307073\n",
    "'''\n",
    "import numpy as np # linear algebra\n",
    "import pandas as pd # data processing, CSV file I/O (e.g. pd.read_csv)\n",
    "\n",
    "dic = {'Roll_No': [1, 2, 3, None, 5 ,5],\n",
    "        'Name': ['Harsh', 'Yash', 'Ghanshyam', 'Yash', 'Harsh' , 'Harsh']}\n",
    "df = pd.DataFrame(dic)\n",
    "\n",
    "print(\"Original DataFrame:\")\n",
    "print(df)\n",
    "\n",
    "df.dropna(inplace=True)\n",
    "\n",
    "print(\"\\nDataFrame after dropping missing values:\")\n",
    "print(df)"
   ]
  },
  {
   "cell_type": "code",
   "execution_count": 2,
   "id": "3ec0a60c",
   "metadata": {
    "execution": {
     "iopub.execute_input": "2023-10-14T06:45:39.584205Z",
     "iopub.status.busy": "2023-10-14T06:45:39.583626Z",
     "iopub.status.idle": "2023-10-14T06:45:39.606480Z",
     "shell.execute_reply": "2023-10-14T06:45:39.604845Z"
    },
    "papermill": {
     "duration": 0.030478,
     "end_time": "2023-10-14T06:45:39.609013",
     "exception": false,
     "start_time": "2023-10-14T06:45:39.578535",
     "status": "completed"
    },
    "tags": []
   },
   "outputs": [
    {
     "name": "stdout",
     "output_type": "stream",
     "text": [
      "Original DataFrame:\n",
      "   Roll_No       Name\n",
      "0        1      Harsh\n",
      "1        2       Yash\n",
      "2        3  Ghanshyam\n",
      "3        4       Yash\n",
      "4        5      Harsh\n",
      "5        5      Harsh\n",
      "\n",
      "DataFrame After Removing Duplicate Values:\n",
      "   Roll_No       Name\n",
      "0        1      Harsh\n",
      "1        2       Yash\n",
      "2        3  Ghanshyam\n",
      "3        4       Yash\n",
      "4        5      Harsh\n"
     ]
    }
   ],
   "source": [
    "'''Practical No.10: Write a Pandas program to implement \n",
    "following operation:\n",
    "• to remove the duplicates from the given dataset\n",
    "\n",
    "Name: Tank Yash\n",
    "Eno: 216270307073\n",
    "'''\n",
    "\n",
    "dic = {'Roll_No': [1, 2, 3, 4, 5 ,5],\n",
    "        'Name': ['Harsh', 'Yash', 'Ghanshyam', 'Yash', 'Harsh' , 'Harsh']}\n",
    "df = pd.DataFrame(dic)\n",
    "\n",
    "print(\"Original DataFrame:\")\n",
    "print(df)\n",
    "\n",
    "df.drop_duplicates(inplace=True)\n",
    "\n",
    "print(\"\\nDataFrame After Removing Duplicate Values:\")\n",
    "print(df)"
   ]
  }
 ],
 "metadata": {
  "kernelspec": {
   "display_name": "Python 3",
   "language": "python",
   "name": "python3"
  },
  "language_info": {
   "codemirror_mode": {
    "name": "ipython",
    "version": 3
   },
   "file_extension": ".py",
   "mimetype": "text/x-python",
   "name": "python",
   "nbconvert_exporter": "python",
   "pygments_lexer": "ipython3",
   "version": "3.10.12"
  },
  "papermill": {
   "default_parameters": {},
   "duration": 4.82653,
   "end_time": "2023-10-14T06:45:40.133026",
   "environment_variables": {},
   "exception": null,
   "input_path": "__notebook__.ipynb",
   "output_path": "__notebook__.ipynb",
   "parameters": {},
   "start_time": "2023-10-14T06:45:35.306496",
   "version": "2.4.0"
  }
 },
 "nbformat": 4,
 "nbformat_minor": 5
}
