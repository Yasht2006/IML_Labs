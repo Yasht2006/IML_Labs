{
 "cells": [
  {
   "cell_type": "code",
   "execution_count": 1,
   "id": "4d91ecb3",
   "metadata": {
    "_cell_guid": "b1076dfc-b9ad-4769-8c92-a6c4dae69d19",
    "_uuid": "8f2839f25d086af736a60e9eeb907d3b93b6e0e5",
    "execution": {
     "iopub.execute_input": "2023-10-14T06:29:22.904794Z",
     "iopub.status.busy": "2023-10-14T06:29:22.904091Z",
     "iopub.status.idle": "2023-10-14T06:29:23.325796Z",
     "shell.execute_reply": "2023-10-14T06:29:23.324069Z"
    },
    "papermill": {
     "duration": 0.427946,
     "end_time": "2023-10-14T06:29:23.328628",
     "exception": false,
     "start_time": "2023-10-14T06:29:22.900682",
     "status": "completed"
    },
    "tags": []
   },
   "outputs": [
    {
     "name": "stdout",
     "output_type": "stream",
     "text": [
      "Original DataFrame:\n",
      "   Roll_No       Name\n",
      "0      1.0      Harsh\n",
      "1      2.0       Yash\n",
      "2      3.0  Ghanshyam\n",
      "3      NaN       Yash\n",
      "4      5.0      Harsh\n",
      "5      5.0      Harsh\n",
      "\n",
      "DataFrame after dropping missing values:\n",
      "   Roll_No       Name\n",
      "0      1.0      Harsh\n",
      "1      2.0       Yash\n",
      "2      3.0  Ghanshyam\n",
      "4      5.0      Harsh\n",
      "5      5.0      Harsh\n"
     ]
    }
   ],
   "source": [
    "'''Practical No.10: Write a Pandas program to implement \n",
    "following operation:\n",
    "• to find and drop the missing values from the given dataset\n",
    "\n",
    "Name: Tank Yash\n",
    "Eno: 216270307073\n",
    "'''\n",
    "import numpy as np # linear algebra\n",
    "import pandas as pd # data processing, CSV file I/O (e.g. pd.read_csv)\n",
    "\n",
    "dic = {'Roll_No': [1, 2, 3, None, 5 ,5],\n",
    "        'Name': ['Harsh', 'Yash', 'Ghanshyam', 'Yash', 'Harsh' , 'Harsh']}\n",
    "df = pd.DataFrame(dic)\n",
    "\n",
    "print(\"Original DataFrame:\")\n",
    "print(df)\n",
    "\n",
    "df.dropna(inplace=True)\n",
    "\n",
    "print(\"\\nDataFrame after dropping missing values:\")\n",
    "print(df)"
   ]
  },
  {
   "cell_type": "code",
   "execution_count": null,
   "id": "99694547",
   "metadata": {
    "papermill": {
     "duration": 0.003482,
     "end_time": "2023-10-14T06:29:23.334223",
     "exception": false,
     "start_time": "2023-10-14T06:29:23.330741",
     "status": "completed"
    },
    "tags": []
   },
   "outputs": [],
   "source": []
  }
 ],
 "metadata": {
  "kernelspec": {
   "display_name": "Python 3",
   "language": "python",
   "name": "python3"
  },
  "language_info": {
   "codemirror_mode": {
    "name": "ipython",
    "version": 3
   },
   "file_extension": ".py",
   "mimetype": "text/x-python",
   "name": "python",
   "nbconvert_exporter": "python",
   "pygments_lexer": "ipython3",
   "version": "3.10.12"
  },
  "papermill": {
   "default_parameters": {},
   "duration": 4.248282,
   "end_time": "2023-10-14T06:29:23.857749",
   "environment_variables": {},
   "exception": null,
   "input_path": "__notebook__.ipynb",
   "output_path": "__notebook__.ipynb",
   "parameters": {},
   "start_time": "2023-10-14T06:29:19.609467",
   "version": "2.4.0"
  }
 },
 "nbformat": 4,
 "nbformat_minor": 5
}
